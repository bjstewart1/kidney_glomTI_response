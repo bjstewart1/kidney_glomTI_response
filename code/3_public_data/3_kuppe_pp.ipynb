{
 "cells": [
  {
   "cell_type": "code",
   "execution_count": 1,
   "id": "exclusive-trinidad",
   "metadata": {},
   "outputs": [
    {
     "name": "stdout",
     "output_type": "stream",
     "text": [
      "/home/jovyan/my-conda-envs/myenv/bin/python\n"
     ]
    }
   ],
   "source": [
    "import os\n",
    "os.chdir('/lustre/scratch117/cellgen/team297/bs16/current_projects/kidney_glomTI_response/code')\n",
    "import anndata as ad\n",
    "import scanpy as sc\n",
    "import os\n",
    "import pandas as pd\n",
    "import numpy as np\n",
    "import useful_functions as uf\n",
    "sc.set_figure_params(figsize=(6, 6))\n",
    "\n",
    "import sys\n",
    "print(sys.executable)\n"
   ]
  },
  {
   "cell_type": "code",
   "execution_count": 2,
   "id": "demographic-synthetic",
   "metadata": {},
   "outputs": [
    {
     "name": "stdout",
     "output_type": "stream",
     "text": [
      "1.9.1\n",
      "0.8.0\n",
      "1.4.3\n"
     ]
    }
   ],
   "source": [
    "import warnings\n",
    "warnings.filterwarnings('ignore')\n",
    "#this will hide the awful pandas deprec warnings that are currently plaguing scanpy\n",
    "\n",
    "#now print versions\n",
    "print(sc.__version__)\n",
    "print(ad.__version__)\n",
    "print(pd.__version__)\n",
    "os.chdir('/lustre/scratch117/cellgen/team297/bs16/current_projects/kidney_glomTI_response')\n"
   ]
  },
  {
   "cell_type": "code",
   "execution_count": 3,
   "id": "romance-korea",
   "metadata": {},
   "outputs": [],
   "source": [
    "import scipy.io as spio\n",
    "kuppe_counts = spio.mmread('./data/public_data/kuppe_2021/CD10negative/kidneyMap_UMI_counts.mtx')\n",
    "from scipy import sparse\n",
    "kuppe_counts = sparse.csr_matrix(kuppe_counts).T"
   ]
  },
  {
   "cell_type": "code",
   "execution_count": 4,
   "id": "creative-future",
   "metadata": {},
   "outputs": [],
   "source": [
    "adata = ad.AnnData(X=kuppe_counts)"
   ]
  },
  {
   "cell_type": "code",
   "execution_count": 5,
   "id": "aquatic-scoop",
   "metadata": {},
   "outputs": [
    {
     "data": {
      "text/plain": [
       "AnnData object with n_obs × n_vars = 51849 × 23446"
      ]
     },
     "execution_count": 5,
     "metadata": {},
     "output_type": "execute_result"
    }
   ],
   "source": [
    "adata"
   ]
  },
  {
   "cell_type": "code",
   "execution_count": 6,
   "id": "scientific-charge",
   "metadata": {},
   "outputs": [],
   "source": [
    "kuppe_rows = pd.read_csv(\"./data/public_data/kuppe_2021/CD10negative/kidneyMap_UMI_counts_rowData.txt\")"
   ]
  },
  {
   "cell_type": "code",
   "execution_count": 7,
   "id": "emerging-mattress",
   "metadata": {},
   "outputs": [],
   "source": [
    "adata.var_names = np.array(kuppe_rows['Gene.Symbol'])\n",
    "adata.var['Symbol'] = np.array(kuppe_rows['Gene.Symbol'])\n",
    "adata.var['ID'] = np.array(kuppe_rows['ENSEMBL.ID'])"
   ]
  },
  {
   "cell_type": "code",
   "execution_count": 8,
   "id": "august-payment",
   "metadata": {},
   "outputs": [],
   "source": [
    "kuppe_cols = pd.read_csv(\"./data/public_data/kuppe_2021/CD10negative/kidneyMap_UMI_counts_colData.txt\")"
   ]
  },
  {
   "cell_type": "code",
   "execution_count": 9,
   "id": "buried-hearts",
   "metadata": {},
   "outputs": [
    {
     "data": {
      "text/plain": [
       "Vasa Recta                         18804\n",
       "Glomerular Capillaries              4377\n",
       "B Cells                             3101\n",
       "Macrophages                         3030\n",
       "Venular Endothelium                 2724\n",
       "Injured Endothelium                 2499\n",
       "Thick Ascending Limb                2266\n",
       "Intercalated Cells                  1395\n",
       "Distal Convoluted Tubule            1342\n",
       "Fibroblast                          1215\n",
       "Monocytes                           1111\n",
       "Proximal Tubule                      917\n",
       "Injured Tubule                       909\n",
       "Arterioral Endothelium               901\n",
       "Dendritic Cells                      841\n",
       "Myofibroblast                        831\n",
       "Descending Thin Limb                 806\n",
       "Natural Killer Cells                 740\n",
       "Collecting Duct Principal Cells      693\n",
       "Connecting Tubule                    662\n",
       "Pericytes                            643\n",
       "Lymph Endothelium                    509\n",
       "T Cells                              484\n",
       "Smooth Muscle Cells                  426\n",
       "Uroethlial Cells                     246\n",
       "Plasma Cells                         167\n",
       "Basophils                            142\n",
       "Podocytes                             44\n",
       "Schwann Cells                         24\n",
       "Name: Annotation.Level.2, dtype: int64"
      ]
     },
     "execution_count": 9,
     "metadata": {},
     "output_type": "execute_result"
    }
   ],
   "source": [
    "kuppe_cols['Annotation.Level.2'].value_counts()"
   ]
  },
  {
   "cell_type": "code",
   "execution_count": 10,
   "id": "visible-calculation",
   "metadata": {},
   "outputs": [],
   "source": [
    "adata.obs['celltype'] = np.array(kuppe_cols['Annotation.Level.2']) \n",
    "adata.obs['broad_celltype'] = np.array(kuppe_cols['Annotation.Level.1']) \n",
    "adata.obs['Experiment'] = np.array(kuppe_cols['Patient ID'])\n",
    "adata.obs['Dataset'] = 'Kuppe'"
   ]
  },
  {
   "cell_type": "code",
   "execution_count": 11,
   "id": "virgin-likelihood",
   "metadata": {},
   "outputs": [],
   "source": [
    "#subset to some of the samples\n",
    "ckd_samples = [\"CDm8\", \"CDm9\", \"CDm10\"]\n",
    "healthy_samples = [\"CDm1\", \"CDp1\", \"CDm3\", \"CDm5\"]\n",
    "adata = adata[adata.obs['Experiment'].isin(healthy_samples)]"
   ]
  },
  {
   "cell_type": "code",
   "execution_count": 12,
   "id": "ancient-lighting",
   "metadata": {},
   "outputs": [],
   "source": [
    "adata.var_names_make_unique()"
   ]
  },
  {
   "cell_type": "code",
   "execution_count": 13,
   "id": "gentle-invitation",
   "metadata": {},
   "outputs": [],
   "source": [
    "adata.layers['counts'] = adata.X"
   ]
  },
  {
   "cell_type": "code",
   "execution_count": 14,
   "id": "solar-crazy",
   "metadata": {},
   "outputs": [
    {
     "data": {
      "text/plain": [
       "AnnData object with n_obs × n_vars = 19491 × 23446\n",
       "    obs: 'celltype', 'broad_celltype', 'Experiment', 'Dataset'\n",
       "    var: 'Symbol', 'ID'\n",
       "    layers: 'counts'"
      ]
     },
     "execution_count": 14,
     "metadata": {},
     "output_type": "execute_result"
    }
   ],
   "source": [
    "adata"
   ]
  },
  {
   "cell_type": "code",
   "execution_count": 15,
   "id": "descending-cemetery",
   "metadata": {},
   "outputs": [],
   "source": [
    "#save this\n",
    "adata.write_h5ad('./data/public_data/kuppe_2021/kuppe_adata.h5ad') "
   ]
  }
 ],
 "metadata": {
  "kernelspec": {
   "display_name": "myenv",
   "language": "python",
   "name": "myenv"
  },
  "language_info": {
   "codemirror_mode": {
    "name": "ipython",
    "version": 3
   },
   "file_extension": ".py",
   "mimetype": "text/x-python",
   "name": "python",
   "nbconvert_exporter": "python",
   "pygments_lexer": "ipython3",
   "version": "3.8.8"
  }
 },
 "nbformat": 4,
 "nbformat_minor": 5
}

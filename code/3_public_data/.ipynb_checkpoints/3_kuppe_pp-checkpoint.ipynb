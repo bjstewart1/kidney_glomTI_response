{
 "cells": [
  {
   "cell_type": "code",
   "execution_count": null,
   "id": "dress-pound",
   "metadata": {},
   "outputs": [],
   "source": [
    "import os\n",
    "os.chdir('/lustre/scratch117/cellgen/team297/bs16/current_projects/kidney_glomTI_response/code')\n",
    "import anndata as ad\n",
    "import scanpy as sc\n",
    "import os\n",
    "import pandas as pd\n",
    "import numpy as np\n",
    "import useful_functions as uf\n",
    "sc.set_figure_params(figsize=(6, 6))\n",
    "\n",
    "import sys\n",
    "print(sys.executable)\n"
   ]
  },
  {
   "cell_type": "code",
   "execution_count": null,
   "id": "inclusive-spotlight",
   "metadata": {},
   "outputs": [],
   "source": [
    "import warnings\n",
    "warnings.filterwarnings('ignore')\n",
    "#this will hide the awful pandas deprec warnings that are currently plaguing scanpy\n",
    "\n",
    "#now print versions\n",
    "print(sc.__version__)\n",
    "print(ad.__version__)\n",
    "print(pd.__version__)\n",
    "os.chdir('/lustre/scratch117/cellgen/team297/bs16/current_projects/kidney_glomTI_response')\n"
   ]
  },
  {
   "cell_type": "code",
   "execution_count": null,
   "id": "wound-wednesday",
   "metadata": {},
   "outputs": [],
   "source": [
    "import scipy.io as spio\n",
    "kuppe_counts = spio.mmread('./data/public_data/kuppe_2021/CD10negative/kidneyMap_UMI_counts.mtx')\n",
    "from scipy import sparse\n",
    "kuppe_counts = sparse.csr_matrix(kuppe_counts).T"
   ]
  },
  {
   "cell_type": "code",
   "execution_count": null,
   "id": "worst-hampshire",
   "metadata": {},
   "outputs": [],
   "source": [
    "adata = ad.AnnData(X=kuppe_counts)"
   ]
  },
  {
   "cell_type": "code",
   "execution_count": null,
   "id": "multiple-isolation",
   "metadata": {},
   "outputs": [],
   "source": [
    "adata"
   ]
  },
  {
   "cell_type": "code",
   "execution_count": null,
   "id": "prompt-contact",
   "metadata": {},
   "outputs": [],
   "source": [
    "kuppe_rows = pd.read_csv(\"./data/public_data/kuppe_2021/CD10negative/kidneyMap_UMI_counts_rowData.txt\")"
   ]
  },
  {
   "cell_type": "code",
   "execution_count": null,
   "id": "rental-filing",
   "metadata": {},
   "outputs": [],
   "source": [
    "adata.var_names = np.array(kuppe_rows['Gene.Symbol'])\n",
    "adata.var['Symbol'] = np.array(kuppe_rows['Gene.Symbol'])\n",
    "adata.var['ID'] = np.array(kuppe_rows['ENSEMBL.ID'])"
   ]
  },
  {
   "cell_type": "code",
   "execution_count": null,
   "id": "northern-lyric",
   "metadata": {},
   "outputs": [],
   "source": [
    "kuppe_cols = pd.read_csv(\"./data/public_data/kuppe_2021/CD10negative/kidneyMap_UMI_counts_colData.txt\")"
   ]
  },
  {
   "cell_type": "code",
   "execution_count": null,
   "id": "disturbed-productivity",
   "metadata": {},
   "outputs": [],
   "source": [
    "kuppe_cols['Annotation.Level.2'].value_counts()"
   ]
  },
  {
   "cell_type": "code",
   "execution_count": null,
   "id": "interested-archives",
   "metadata": {},
   "outputs": [],
   "source": [
    "adata.obs['celltype'] = np.array(kuppe_cols['Annotation.Level.2']) \n",
    "adata.obs['broad_celltype'] = np.array(kuppe_cols['Annotation.Level.1']) \n",
    "adata.obs['Experiment'] = np.array(kuppe_cols['Patient ID'])\n",
    "adata.obs['Dataset'] = 'Kuppe'"
   ]
  },
  {
   "cell_type": "code",
   "execution_count": null,
   "id": "american-mailman",
   "metadata": {},
   "outputs": [],
   "source": [
    "#subset to some of the samples\n",
    "ckd_samples = [\"CDm8\", \"CDm9\", \"CDm10\"]\n",
    "healthy_samples = [\"CDm1\", \"CDp1\", \"CDm3\", \"CDm5\"]\n",
    "adata = adata[adata.obs['Experiment'].isin(healthy_samples)]"
   ]
  },
  {
   "cell_type": "code",
   "execution_count": null,
   "id": "angry-collective",
   "metadata": {},
   "outputs": [],
   "source": [
    "adata.var_names_make_unique()"
   ]
  },
  {
   "cell_type": "code",
   "execution_count": null,
   "id": "danish-integral",
   "metadata": {},
   "outputs": [],
   "source": [
    "adata.layers['counts'] = adata.X"
   ]
  },
  {
   "cell_type": "code",
   "execution_count": null,
   "id": "productive-festival",
   "metadata": {},
   "outputs": [],
   "source": [
    "adata"
   ]
  },
  {
   "cell_type": "code",
   "execution_count": null,
   "id": "filled-kazakhstan",
   "metadata": {},
   "outputs": [],
   "source": [
    "#save this\n",
    "adata.write_h5ad('./data/public_data/kuppe_2021/kuppe_adata.h5ad') "
   ]
  }
 ],
 "metadata": {
  "kernelspec": {
   "display_name": "myenv",
   "language": "python",
   "name": "myenv"
  },
  "language_info": {
   "codemirror_mode": {
    "name": "ipython",
    "version": 3
   },
   "file_extension": ".py",
   "mimetype": "text/x-python",
   "name": "python",
   "nbconvert_exporter": "python",
   "pygments_lexer": "ipython3",
   "version": "3.8.8"
  }
 },
 "nbformat": 4,
 "nbformat_minor": 5
}

{
 "cells": [
  {
   "cell_type": "code",
   "execution_count": 1,
   "id": "vulnerable-flush",
   "metadata": {},
   "outputs": [],
   "source": [
    "setwd(\"~/ben_lustre/current_projects/kidney_glomTI_response\")\n",
    "suppressPackageStartupMessages(source(\"https://raw.githubusercontent.com/bjstewart1/helpful_singlecell/main/functions.R\"))\n",
    "ad <- import(\"anndata\")\n",
    "sc <- import(\"scanpy\")\n",
    "library(GenotypeMixtures)"
   ]
  },
  {
   "cell_type": "code",
   "execution_count": 2,
   "id": "apparent-preview",
   "metadata": {},
   "outputs": [],
   "source": [
    "setwd(\"~/ben_lustre/10X_data/science_paper_data\")"
   ]
  },
  {
   "cell_type": "code",
   "execution_count": 3,
   "id": "operational-newton",
   "metadata": {},
   "outputs": [],
   "source": [
    "files_in = grep(\"cellranger\", list.files(getwd()), value= TRUE)"
   ]
  },
  {
   "cell_type": "code",
   "execution_count": 4,
   "id": "traditional-amber",
   "metadata": {},
   "outputs": [
    {
     "name": "stderr",
     "output_type": "stream",
     "text": [
      "cellranger700_count_22288_4602STDY6795897_GRCh38-2020-A\n",
      "\n",
      "2.22222222222222\n",
      "\n",
      "cellranger700_count_22288_4602STDY6795898_GRCh38-2020-A\n",
      "\n",
      "4.44444444444444\n",
      "\n",
      "cellranger700_count_22843_4602STDY6930852_GRCh38-2020-A\n",
      "\n",
      "6.66666666666667\n",
      "\n",
      "cellranger700_count_22843_4602STDY6930853_GRCh38-2020-A\n",
      "\n",
      "8.88888888888889\n",
      "\n",
      "cellranger700_count_22843_4602STDY6930856_GRCh38-2020-A\n",
      "\n",
      "11.1111111111111\n",
      "\n",
      "cellranger700_count_22862_4602STDY6949178_GRCh38-2020-A\n",
      "\n",
      "13.3333333333333\n",
      "\n",
      "cellranger700_count_22862_4602STDY6949179_GRCh38-2020-A\n",
      "\n",
      "15.5555555555556\n",
      "\n",
      "cellranger700_count_22862_4602STDY6949180_GRCh38-2020-A\n",
      "\n",
      "17.7777777777778\n",
      "\n",
      "cellranger700_count_22862_4602STDY6949181_GRCh38-2020-A\n",
      "\n",
      "20\n",
      "\n",
      "cellranger700_count_22862_4602STDY6949184_GRCh38-2020-A\n",
      "\n",
      "22.2222222222222\n",
      "\n",
      "cellranger700_count_22862_4602STDY6949185_GRCh38-2020-A\n",
      "\n",
      "24.4444444444444\n",
      "\n",
      "cellranger700_count_22863_4602STDY6949186_GRCh38-2020-A\n",
      "\n",
      "26.6666666666667\n",
      "\n",
      "cellranger700_count_22863_4602STDY6949187_GRCh38-2020-A\n",
      "\n",
      "28.8888888888889\n",
      "\n",
      "cellranger700_count_22863_4602STDY6949188_GRCh38-2020-A\n",
      "\n",
      "31.1111111111111\n",
      "\n",
      "cellranger700_count_22863_4602STDY6949189_GRCh38-2020-A\n",
      "\n",
      "33.3333333333333\n",
      "\n",
      "cellranger700_count_22936_4602STDY6949192_GRCh38-2020-A\n",
      "\n",
      "35.5555555555556\n",
      "\n",
      "cellranger700_count_22936_4602STDY6949195_GRCh38-2020-A\n",
      "\n",
      "37.7777777777778\n",
      "\n",
      "cellranger700_count_23141_4602STDY6976426_GRCh38-2020-A\n",
      "\n",
      "40\n",
      "\n",
      "cellranger700_count_23141_4602STDY6976427_GRCh38-2020-A\n",
      "\n",
      "42.2222222222222\n",
      "\n",
      "cellranger700_count_23141_4602STDY6976428_GRCh38-2020-A\n",
      "\n",
      "44.4444444444444\n",
      "\n",
      "cellranger700_count_23521_4602STDY7018628_GRCh38-2020-A\n",
      "\n",
      "46.6666666666667\n",
      "\n",
      "cellranger700_count_23521_4602STDY7018923_GRCh38-2020-A\n",
      "\n",
      "48.8888888888889\n",
      "\n",
      "cellranger700_count_23521_4602STDY7018924_GRCh38-2020-A\n",
      "\n",
      "51.1111111111111\n",
      "\n",
      "cellranger700_count_23521_4602STDY7018925_GRCh38-2020-A\n",
      "\n",
      "53.3333333333333\n",
      "\n",
      "cellranger700_count_23526_4602STDY7018629_GRCh38-2020-A\n",
      "\n",
      "55.5555555555556\n",
      "\n",
      "cellranger700_count_23526_4602STDY7018630_GRCh38-2020-A\n",
      "\n",
      "57.7777777777778\n",
      "\n",
      "cellranger700_count_23870_4602STDY7090428_GRCh38-2020-A\n",
      "\n",
      "60\n",
      "\n",
      "cellranger700_count_23870_4602STDY7090429_GRCh38-2020-A\n",
      "\n",
      "62.2222222222222\n",
      "\n",
      "cellranger700_count_23870_4602STDY7090430_GRCh38-2020-A\n",
      "\n",
      "64.4444444444444\n",
      "\n",
      "cellranger700_count_23870_4602STDY7090432_GRCh38-2020-A\n",
      "\n",
      "66.6666666666667\n",
      "\n",
      "cellranger700_count_26470_CZIKidney7587405_GRCh38-2020-A\n",
      "\n",
      "68.8888888888889\n",
      "\n",
      "cellranger700_count_26470_CZIKidney7587406_GRCh38-2020-A\n",
      "\n",
      "71.1111111111111\n",
      "\n",
      "cellranger700_count_26470_CZIKidney7587407_GRCh38-2020-A\n",
      "\n",
      "73.3333333333333\n",
      "\n",
      "cellranger700_count_26470_CZIKidney7587408_GRCh38-2020-A\n",
      "\n",
      "75.5555555555556\n",
      "\n",
      "cellranger700_count_26470_CZIKidney7587409_GRCh38-2020-A\n",
      "\n",
      "77.7777777777778\n",
      "\n",
      "cellranger700_count_26470_CZIKidney7587410_GRCh38-2020-A\n",
      "\n",
      "80\n",
      "\n",
      "cellranger700_count_26470_CZIKidney7587411_GRCh38-2020-A\n",
      "\n",
      "82.2222222222222\n",
      "\n",
      "cellranger700_count_26470_CZIKidney7587412_GRCh38-2020-A\n",
      "\n",
      "84.4444444444444\n",
      "\n",
      "cellranger700_count_26470_CZIKidney7587422_GRCh38-2020-A\n",
      "\n",
      "86.6666666666667\n",
      "\n",
      "cellranger700_count_26470_CZIKidney7587423_GRCh38-2020-A\n",
      "\n",
      "88.8888888888889\n",
      "\n",
      "cellranger700_count_26470_CZIKidney7587424_GRCh38-2020-A\n",
      "\n",
      "91.1111111111111\n",
      "\n",
      "cellranger700_count_26470_CZIKidney7587425_GRCh38-2020-A\n",
      "\n",
      "93.3333333333333\n",
      "\n",
      "cellranger700_count_26788_CZIKidney7632802_GRCh38-2020-A\n",
      "\n",
      "95.5555555555556\n",
      "\n",
      "cellranger700_count_26788_CZIKidney7632803_GRCh38-2020-A\n",
      "\n",
      "97.7777777777778\n",
      "\n",
      "cellranger700_count_26788_CZIKidney7632804_GRCh38-2020-A\n",
      "\n",
      "100\n",
      "\n"
     ]
    }
   ],
   "source": [
    "adata_list = lapply(files_in, function(x){\n",
    "    message(x)\n",
    "    message(which(files_in == x)/length(files_in)*100)\n",
    "    fname = file.path(getwd(), x, 'filtered_feature_bc_matrix.h5')\n",
    "    adata_in = sc$read_10x_h5(fname)\n",
    "    adata_in$var_names_make_unique()\n",
    "    adata_in$obs$channel = x\n",
    "    return(adata_in)\n",
    "})"
   ]
  },
  {
   "cell_type": "code",
   "execution_count": 5,
   "id": "alien-northwest",
   "metadata": {},
   "outputs": [],
   "source": [
    "adata = sc$concat(adata_list)"
   ]
  },
  {
   "cell_type": "code",
   "execution_count": 6,
   "id": "practical-alarm",
   "metadata": {},
   "outputs": [],
   "source": [
    "adata$var$MT = 1:length(adata$var_names$values) %in% grep('MT-', adata$var_names$values) # annotate the group of mitochondrial genes as 'mt'\n",
    "sc$pp$calculate_qc_metrics(adata, qc_vars=list('MT'), log1p=TRUE, inplace=TRUE)"
   ]
  },
  {
   "cell_type": "code",
   "execution_count": 7,
   "id": "owned-american",
   "metadata": {},
   "outputs": [
    {
     "name": "stderr",
     "output_type": "stream",
     "text": [
      "Warning message in py_to_r.pandas.core.frame.DataFrame(x):\n",
      "“index contains duplicated values: row names not set”\n",
      "Warning message in py_to_r.pandas.core.frame.DataFrame(x):\n",
      "“index contains duplicated values: row names not set”\n",
      "Warning message in py_to_r.pandas.core.frame.DataFrame(x):\n",
      "“index contains duplicated values: row names not set”\n"
     ]
    }
   ],
   "source": [
    "channel_qc = data.frame(table(adata$obs$channel))\n",
    "channel_qc$ngenes = aggregate(adata$obs$n_genes_by_counts, by = list(adata$obs$channel), mean)[, 2]\n",
    "colnames(channel_qc) = c(\"channel\", \"ncells\", \"ngenes\")"
   ]
  },
  {
   "cell_type": "code",
   "execution_count": 8,
   "id": "greater-paint",
   "metadata": {},
   "outputs": [
    {
     "data": {
      "image/png": "[encoded data removed]",
      "text/plain": [
       "plot without title"
      ]
     },
     "metadata": {
      "image/png": {
       "height": 420,
       "width": 420
      }
     },
     "output_type": "display_data"
    }
   ],
   "source": [
    "#there are three outlier channels\n",
    "plot(channel_qc[, 2:3])"
   ]
  },
  {
   "cell_type": "code",
   "execution_count": 9,
   "id": "statewide-allen",
   "metadata": {},
   "outputs": [],
   "source": [
    "channel_qc = channel_qc[channel_qc$ncells < 20000, ]"
   ]
  },
  {
   "cell_type": "code",
   "execution_count": 10,
   "id": "promising-plate",
   "metadata": {},
   "outputs": [],
   "source": [
    "write.table(channel_qc$channel, \n",
    "            \"./channels_use.txt\",\n",
    "            sep = \" \", dec = \".\",\n",
    "            row.names = FALSE, col.names = FALSE, quote = FALSE)"
   ]
  },
  {
   "cell_type": "code",
   "execution_count": 12,
   "id": "major-music",
   "metadata": {},
   "outputs": [],
   "source": [
    "#make a mask of nuissance genes\n",
    "charvect = adata$var_names$values\n",
    "hkGeneREGEX='^(DNAJ[ABC]|EIF[0-9]|RPL[0-9]|RPS[0-9]|RPN1|POLR[0-9]|SNX[0-9]|HSP[AB][0-9]|H1FX|H2AF[VXYZ]|PRKA|NDUF[ABCSV]|ATP[0-9]|PSM[ABCDEFG][0-9]|UBA[0-9]|UBE[0-9]|USP[0-9]|TXN)'\n",
    "coreExcludeGenes = unique(c(grep('\\\\.[0-9]+',charvect,value=TRUE), #Poorly characterised\n",
    "                            grep('MALAT1',charvect,value=TRUE), #Contamination or highly expressed poorly characterised\n",
    "                            grep('^MT-',charvect,value=TRUE), #Mitochondria\n",
    "                            grep(\"XIST\", charvect, value = TRUE), #F gender\n",
    "                            grep(hkGeneREGEX,charvect,value=TRUE) #Housekeeping genes\n",
    "))\n",
    "core_exclude <- !charvect %in% coreExcludeGenes\n"
   ]
  },
  {
   "cell_type": "code",
   "execution_count": 17,
   "id": "coated-rugby",
   "metadata": {},
   "outputs": [],
   "source": [
    "setwd(\"~/ben_lustre/current_projects/kidney_glomTI_response/data/public_data/stewart_2019\")\n",
    "write.table(core_exclude,\n",
    "            \"./core_exclude_genes.txt\",\n",
    "            sep = \" \", dec = \".\",\n",
    "            row.names = FALSE, col.names = FALSE, quote = FALSE)"
   ]
  }
 ],
 "metadata": {
  "kernelspec": {
   "display_name": "R",
   "language": "R",
   "name": "ir"
  },
  "language_info": {
   "codemirror_mode": "r",
   "file_extension": ".r",
   "mimetype": "text/x-r-source",
   "name": "R",
   "pygments_lexer": "r",
   "version": "4.0.4"
  }
 },
 "nbformat": 4,
 "nbformat_minor": 5
}

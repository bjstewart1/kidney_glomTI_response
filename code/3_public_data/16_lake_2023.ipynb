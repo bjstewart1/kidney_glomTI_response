{
 "cells": [
  {
   "cell_type": "code",
   "execution_count": null,
   "id": "progressive-hostel",
   "metadata": {},
   "outputs": [],
   "source": [
    "project_dir = \"~/ben_lustre/current_projects/kidney_glomTI_response\"\n",
    "setwd(project_dir)\n",
    "suppressPackageStartupMessages(source(\"https://raw.githubusercontent.com/bjstewart1/helpful_singlecell/main/functions.R\"))\n",
    "ad <- import(\"anndata\")\n",
    "sc <- import(\"scanpy\")\n",
    "scv <- import(\"scvelo\")\n",
    "sp = import(\"scipy\")\n",
    "clean_theme <- theme_bw() + theme(axis.text = element_text(color = \"black\"), axis.title = element_text(color = \"black\"))"
   ]
  },
  {
   "cell_type": "code",
   "execution_count": null,
   "id": "geographic-parameter",
   "metadata": {},
   "outputs": [],
   "source": [
    "py_config()"
   ]
  },
  {
   "cell_type": "code",
   "execution_count": null,
   "id": "abstract-ireland",
   "metadata": {},
   "outputs": [],
   "source": [
    "library(Seurat)\n",
    "lakedir = '~/ben_lustre/current_projects/kidney_glomTI_response/data/public_data/lake_2023'\n",
    "sobj = readRDS(file.path(lakedir, 'cxg_lake_2023.rds'))\n",
    "\n",
    "#convert to anndata objects\n",
    "#get gene info\n",
    "var_df = sobj[['RNA']]@meta.features\n",
    "var_df$ID = rownames(var_df)\n",
    "var_df$Symbol = rownames(var_df) = var_df$feature_name\n",
    "\n",
    "#nuclei\n",
    "nucleus_sobj = sobj[, sobj@meta.data$suspension_type %in% 'nucleus']\n",
    "nuclei_adata = ad$AnnData(X = t(nucleus_sobj[['RNA']]@counts), var = var_df)\n",
    "nuclei_adata$obs_names = colnames(nucleus_sobj[['RNA']]@counts)\n",
    "#read metadata \n",
    "nuclei_metadata = read.table(file.path(lakedir, 'sn_rnaseq', 'GSE183277_Kidney_Healthy-Injury_Cell_Atlas_snCv3_Metadata_03282022.txt'))\n",
    "#add metadata\n",
    "nuclei_metadata = nuclei_metadata[nuclei_adata$obs_names$values, ]\n",
    "nuclei_adata$obs = nuclei_metadata\n",
    "nuclei_adata$layers = list(\"counts\" = nuclei_adata$X)\n",
    "\n",
    "#cells\n",
    "cell_sobj = sobj[, sobj@meta.data$suspension_type %in% 'cell']\n",
    "cell_adata = ad$AnnData(X = t(cell_sobj[['RNA']]@counts), var = var_df)\n",
    "cell_adata$obs_names = colnames(cell_sobj[['RNA']]@counts)\n",
    "cell_metadata = read.table(file.path(lakedir, 'sc_rnaseq', 'GSE183276_Kidney_Healthy-Injury_Cell_Atlas_scCv3_Metadata_03282022.txt'))\n",
    "#add metadata\n",
    "cell_metadata = cell_metadata[cell_adata$obs_names$values, ]\n",
    "cell_adata$obs = cell_metadata\n",
    "cell_adata$layers = list(\"counts\" = cell_adata$X)"
   ]
  },
  {
   "cell_type": "code",
   "execution_count": null,
   "id": "capable-potter",
   "metadata": {},
   "outputs": [],
   "source": [
    "nuclei_adata$write_h5ad('data/public_data/lake_2023/lake_SNrnaseq.h5ad')\n",
    "cell_adata$write_h5ad('data/public_data/lake_2023/lake_SCrnaseq.h5ad')"
   ]
  },
  {
   "cell_type": "code",
   "execution_count": null,
   "id": "superb-washington",
   "metadata": {},
   "outputs": [],
   "source": [
    "#read in the atac data\n",
    "library(Signac)\n",
    "library(Seurat)\n",
    "\n",
    "library(Pando)\n",
    "#genomes\n",
    "library(GenomicRanges)\n",
    "library(GenomeInfoDb)\n",
    "library(EnsDb.Hsapiens.v86)\n",
    "library(rtracklayer)\n",
    "\n",
    "atac = readRDS('./data/public_data/lake_2023/atac/GSE183273_Kidney_Healthy-Injury_Cell_Atlas_SNARE2-AC_Peak-Counts_03282022.RDS')"
   ]
  },
  {
   "cell_type": "code",
   "execution_count": null,
   "id": "nominated-episode",
   "metadata": {},
   "outputs": [],
   "source": [
    "#get the annotation\n",
    "message(\"getting genome annotation\")\n",
    "annotation <- GetGRangesFromEnsDb(ensdb = EnsDb.Hsapiens.v86)\n",
    "seqlevelsStyle(annotation) <- \"UCSC\"\n",
    "#get the counts\n",
    "message(\"making chromatin assay\")\n",
    "chrom_assay <- CreateChromatinAssay(counts = atac,\n",
    "  sep = c(\":\", \"-\"),\n",
    "  genome = 'hg38',\n",
    "  fragments = './data/public_data/lake_2023/atac/GSE183273_BUKMAP.fragments.sort.tsv.gz',  \n",
    "                                     annotation = annotation)"
   ]
  },
  {
   "cell_type": "code",
   "execution_count": null,
   "id": "interracial-medline",
   "metadata": {},
   "outputs": [],
   "source": [
    "atac_sobj = CreateSeuratObject(counts = chrom_assay, assay = \"peaks\")"
   ]
  },
  {
   "cell_type": "code",
   "execution_count": null,
   "id": "differential-pressing",
   "metadata": {},
   "outputs": [],
   "source": [
    "atac_sobj"
   ]
  },
  {
   "cell_type": "code",
   "execution_count": null,
   "id": "generic-idaho",
   "metadata": {},
   "outputs": [],
   "source": [
    "atac_meta = read.table('./data/public_data/lake_2023/atac/GSE183273_Kidney_Healthy-Injury_Cell_Atlas_SNARE2-RNA-AC_Metadata_03282022.txt')"
   ]
  },
  {
   "cell_type": "code",
   "execution_count": null,
   "id": "acting-holmes",
   "metadata": {},
   "outputs": [],
   "source": [
    "atac_sobj@meta.data = cbind(atac_sobj@meta.data, atac_meta)"
   ]
  },
  {
   "cell_type": "code",
   "execution_count": null,
   "id": "social-rwanda",
   "metadata": {},
   "outputs": [],
   "source": [
    "atac_sobj@meta.data$cell_type = atac_sobj@meta.data$subclass.full"
   ]
  },
  {
   "cell_type": "code",
   "execution_count": null,
   "id": "monthly-michigan",
   "metadata": {},
   "outputs": [],
   "source": [
    "Idents(atac_sobj) = atac_sobj@meta.data$cell_type"
   ]
  },
  {
   "cell_type": "code",
   "execution_count": null,
   "id": "hindu-education",
   "metadata": {},
   "outputs": [],
   "source": [
    "saveRDS(atac_sobj, \"./data/public_data/lake_2023/lake_atac.RDS\")"
   ]
  },
  {
   "cell_type": "code",
   "execution_count": null,
   "id": "equal-camcorder",
   "metadata": {},
   "outputs": [],
   "source": [
    "#slideseq data\n",
    "#get the slideseq sample names\n",
    "ss_dir = '~/ben_lustre/current_projects/kidney_glomTI_response/data/public_data/lake_2023/slideseq'\n",
    "ss_samples = unique(unlist(\n",
    "lapply(strsplit(list.files(ss_dir)\n",
    ", \"_\"), function(x){x[1]})))"
   ]
  },
  {
   "cell_type": "code",
   "execution_count": null,
   "id": "alternative-manitoba",
   "metadata": {},
   "outputs": [],
   "source": [
    "mapped = read.csv(file.path(ss_dir, 'GSM6128258_Puck_210412_02.MappedDGEForR.csv'))"
   ]
  },
  {
   "cell_type": "code",
   "execution_count": null,
   "id": "caring-indie",
   "metadata": {},
   "outputs": [],
   "source": []
  },
  {
   "cell_type": "code",
   "execution_count": null,
   "id": "inner-value",
   "metadata": {},
   "outputs": [],
   "source": []
  },
  {
   "cell_type": "code",
   "execution_count": null,
   "id": "designing-vacation",
   "metadata": {},
   "outputs": [],
   "source": []
  },
  {
   "cell_type": "code",
   "execution_count": null,
   "id": "flexible-payment",
   "metadata": {},
   "outputs": [],
   "source": [
    "lapply(ss_samples, function(gsm){\n",
    "    \n",
    "    \n",
    "})"
   ]
  },
  {
   "cell_type": "code",
   "execution_count": null,
   "id": "cross-browse",
   "metadata": {},
   "outputs": [],
   "source": [
    "gsm = 'GSM6128229'\n",
    "message(gsm)\n",
    "gsm_files = grep(gsm, list.files(ss_dir), value = TRUE)\n",
    "bc_file = grep(\"barcode_matching\", gsm_files, value = TRUE)\n",
    "matrix_file = grep(\"matrix.mtx\", gsm_files, value = TRUE)\n",
    "feature_file = grep(\"expression_features\", gsm_files, value = TRUE)\n",
    "expression_matrix = Matrix::readMM(file.path(ss_dir, matrix_file))\n",
    "spatial_file = grep(\"BeadLocationsForR\", gsm_files, value = TRUE)\n",
    "spatial_type = 'bead_loc'\n",
    "if(length(spatial_file) == 0){\n",
    "    spatial_file = grep(\"barcode_matching\", gsm_files, value = TRUE)\n",
    "    spatial_type = 'bc_match'\n",
    "}\n",
    "expression_matrix = Matrix::readMM(file.path(ss_dir, matrix_file))\n",
    "barcodes = read.csv(file.path(ss_dir, bc_file), sep = '\\t', header = FALSE)\n",
    "features = read.csv(file.path(ss_dir, feature_file), sep = '\\t', header = FALSE)\n",
    "locations = read.csv(file.path(ss_dir, spatial_file), header = FALSE, sep = '\\t')"
   ]
  },
  {
   "cell_type": "code",
   "execution_count": null,
   "id": "specialized-monitor",
   "metadata": {},
   "outputs": [],
   "source": [
    "#generate an adata\n",
    "ad$AnnData(X = )"
   ]
  },
  {
   "cell_type": "code",
   "execution_count": null,
   "id": "joint-nebraska",
   "metadata": {},
   "outputs": [],
   "source": [
    "dim(expression_matrix)"
   ]
  },
  {
   "cell_type": "code",
   "execution_count": null,
   "id": "august-saint",
   "metadata": {},
   "outputs": [],
   "source": [
    "gsm = 'GSM6128237'"
   ]
  },
  {
   "cell_type": "code",
   "execution_count": null,
   "id": "anonymous-disaster",
   "metadata": {},
   "outputs": [],
   "source": [
    "gsm_files = grep(gsm, list.files(ss_dir), value = TRUE)\n",
    "bc_file = grep(\"barcode_matching\", gsm_files, value = TRUE)\n",
    "matrix_file = grep(\"matrix.mtx\", gsm_files, value = TRUE)"
   ]
  },
  {
   "cell_type": "code",
   "execution_count": null,
   "id": "cathedral-response",
   "metadata": {},
   "outputs": [],
   "source": [
    "expression_matrix = Matrix::readMM(file.path(ss_dir, matrix_file))"
   ]
  },
  {
   "cell_type": "code",
   "execution_count": null,
   "id": "injured-onion",
   "metadata": {},
   "outputs": [],
   "source": []
  },
  {
   "cell_type": "code",
   "execution_count": null,
   "id": "naval-premium",
   "metadata": {},
   "outputs": [],
   "source": []
  },
  {
   "cell_type": "code",
   "execution_count": null,
   "id": "terminal-religious",
   "metadata": {},
   "outputs": [],
   "source": [
    "###now do slideseq data.... "
   ]
  },
  {
   "cell_type": "code",
   "execution_count": null,
   "id": "protected-fusion",
   "metadata": {},
   "outputs": [],
   "source": [
    "bc_map = read.table(file.path(ss_dir, 'GSM6128237_Puck_210113_35_barcode_matching.txt'), row.names = 1)\n",
    "\n"
   ]
  },
  {
   "cell_type": "code",
   "execution_count": null,
   "id": "pending-tiffany",
   "metadata": {},
   "outputs": [],
   "source": [
    "expression_matrix = read.table(file.path(ss_dir, 'GSM6128237_Puck_210113_35.matched.digital_expression_matrix.tsv'))"
   ]
  },
  {
   "cell_type": "code",
   "execution_count": null,
   "id": "printable-settle",
   "metadata": {},
   "outputs": [],
   "source": [
    "expression_matrix"
   ]
  },
  {
   "cell_type": "code",
   "execution_count": null,
   "id": "diverse-infrared",
   "metadata": {},
   "outputs": [],
   "source": [
    " GSM6128237_Puck_210113_35_barcode_matching.txt\n",
    " GSM6128237_Puck_210113_35.matched.digital_expression_barcodes.tsv\n",
    "GSM6128237_Puck_210113_35.matched.digital_expression_features.tsv\n",
    "GSM6128237_Puck_210113_35.matched.digital_expression_matrix.mtx"
   ]
  },
  {
   "cell_type": "code",
   "execution_count": null,
   "id": "derived-society",
   "metadata": {},
   "outputs": [],
   "source": [
    "bc_map"
   ]
  },
  {
   "cell_type": "code",
   "execution_count": null,
   "id": "built-engineer",
   "metadata": {},
   "outputs": [],
   "source": []
  },
  {
   "cell_type": "code",
   "execution_count": null,
   "id": "cloudy-chicago",
   "metadata": {},
   "outputs": [],
   "source": []
  },
  {
   "cell_type": "code",
   "execution_count": null,
   "id": "indie-establishment",
   "metadata": {},
   "outputs": [],
   "source": []
  },
  {
   "cell_type": "code",
   "execution_count": null,
   "id": "premium-thumb",
   "metadata": {},
   "outputs": [],
   "source": []
  },
  {
   "cell_type": "code",
   "execution_count": null,
   "id": "nervous-batch",
   "metadata": {},
   "outputs": [],
   "source": [
    "#single cell data\n",
    "sc_data = readRDS(\"./data/public_data/lake_2023/sc_rnaseq/GSE183276_Kidney_Healthy-Injury_Cell_Atlas_scCv3_Counts_03282022.RDS\")"
   ]
  },
  {
   "cell_type": "code",
   "execution_count": null,
   "id": "mounted-dover",
   "metadata": {},
   "outputs": [],
   "source": [
    "sc_data_small = sc_data[, 1:500]"
   ]
  },
  {
   "cell_type": "code",
   "execution_count": null,
   "id": "considered-girlfriend",
   "metadata": {},
   "outputs": [],
   "source": [
    "np = import(\"numpy\")"
   ]
  },
  {
   "cell_type": "code",
   "execution_count": null,
   "id": "expanded-warren",
   "metadata": {},
   "outputs": [],
   "source": [
    "scaled_data = np$exp(as.matrix(sc_data_small)) - 1"
   ]
  },
  {
   "cell_type": "code",
   "execution_count": null,
   "id": "smaller-atlantic",
   "metadata": {},
   "outputs": [],
   "source": [
    "rowMeans(sc_data_small)"
   ]
  },
  {
   "cell_type": "code",
   "execution_count": null,
   "id": "fuzzy-postcard",
   "metadata": {},
   "outputs": [],
   "source": [
    "table(c(sc_data_small[, 50], sc_data_small[, 51]))"
   ]
  },
  {
   "cell_type": "code",
   "execution_count": null,
   "id": "technical-industry",
   "metadata": {},
   "outputs": [],
   "source": []
  }
 ],
 "metadata": {
  "kernelspec": {
   "display_name": "R 4.2",
   "language": "R",
   "name": "ir42"
  },
  "language_info": {
   "codemirror_mode": "r",
   "file_extension": ".r",
   "mimetype": "text/x-r-source",
   "name": "R",
   "pygments_lexer": "r",
   "version": "4.2.3"
  }
 },
 "nbformat": 4,
 "nbformat_minor": 5
}

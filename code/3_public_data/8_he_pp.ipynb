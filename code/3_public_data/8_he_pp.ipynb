{
 "cells": [
  {
   "cell_type": "code",
   "execution_count": 1,
   "id": "impaired-oxygen",
   "metadata": {},
   "outputs": [],
   "source": [
    "#he et al \n",
    "setwd(\"~/ben_lustre/current_projects/kidney_glomTI_response\")\n",
    "suppressPackageStartupMessages(source(\"https://raw.githubusercontent.com/bjstewart1/helpful_singlecell/main/functions.R\"))\n",
    "ad <- import(\"anndata\")\n",
    "sc <- import(\"scanpy\")"
   ]
  },
  {
   "cell_type": "code",
   "execution_count": 2,
   "id": "occupied-possession",
   "metadata": {},
   "outputs": [],
   "source": [
    "matrix = read.csv(\"data/public_data/he_2021/GSE160048_human_glom_single_cell_rpkms.txt\", sep = '\\t', \n",
    "                 row.names = 1)"
   ]
  },
  {
   "cell_type": "code",
   "execution_count": 3,
   "id": "coastal-mineral",
   "metadata": {},
   "outputs": [],
   "source": [
    "colnames(matrix) = gsub(\"X\", \"\", colnames(matrix))"
   ]
  },
  {
   "cell_type": "code",
   "execution_count": 4,
   "id": "nutritional-fountain",
   "metadata": {},
   "outputs": [],
   "source": [
    "metadata = read.table(\"data/public_data/he_2021/source_datafile2.txt\", sep= '\\t', header = TRUE, row.names = 1)"
   ]
  },
  {
   "cell_type": "code",
   "execution_count": 5,
   "id": "blind-asthma",
   "metadata": {},
   "outputs": [],
   "source": [
    "metadata = metadata[colnames(matrix) ,]"
   ]
  },
  {
   "cell_type": "code",
   "execution_count": 6,
   "id": "rural-bahamas",
   "metadata": {},
   "outputs": [],
   "source": [
    "gene_names = unlist(lapply(strsplit(rownames(matrix), \"[|]\"), function(x){x[1]}))"
   ]
  },
  {
   "cell_type": "code",
   "execution_count": 7,
   "id": "experimental-passport",
   "metadata": {},
   "outputs": [],
   "source": [
    "adata = ad$AnnData(X = t(matrix), obs = metadata)"
   ]
  },
  {
   "cell_type": "code",
   "execution_count": 8,
   "id": "distant-proxy",
   "metadata": {},
   "outputs": [],
   "source": [
    "adata$var_names = gene_names\n",
    "adata$var_names_make_unique()"
   ]
  },
  {
   "cell_type": "code",
   "execution_count": 9,
   "id": "dying-laptop",
   "metadata": {},
   "outputs": [],
   "source": [
    "adata$write('data/public_data/he_2021/he_adata.h5ad')"
   ]
  }
 ],
 "metadata": {
  "kernelspec": {
   "display_name": "R",
   "language": "R",
   "name": "ir"
  },
  "language_info": {
   "codemirror_mode": "r",
   "file_extension": ".r",
   "mimetype": "text/x-r-source",
   "name": "R",
   "pygments_lexer": "r",
   "version": "4.0.4"
  }
 },
 "nbformat": 4,
 "nbformat_minor": 5
}

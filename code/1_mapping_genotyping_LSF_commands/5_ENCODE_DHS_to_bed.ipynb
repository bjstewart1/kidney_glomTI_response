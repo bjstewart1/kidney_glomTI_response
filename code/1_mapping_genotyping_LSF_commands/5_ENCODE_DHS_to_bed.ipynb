{
 "cells": [
  {
   "cell_type": "code",
   "execution_count": 1,
   "id": "silver-compact",
   "metadata": {},
   "outputs": [],
   "source": [
    "setwd(\"~/ben_lustre/current_projects/kidney_glomTI_response\")\n",
    "suppressPackageStartupMessages(source(\"https://raw.githubusercontent.com/bjstewart1/helpful_singlecell/main/functions.R\"))\n",
    "ad <- import(\"anndata\")\n",
    "sc <- import(\"scanpy\")"
   ]
  },
  {
   "cell_type": "code",
   "execution_count": 2,
   "id": "persistent-wound",
   "metadata": {},
   "outputs": [
    {
     "name": "stderr",
     "output_type": "stream",
     "text": [
      "Warning message in system(\"timedatectl\", intern = TRUE):\n",
      "\"running command 'timedatectl' had status 1\"\n"
     ]
    }
   ],
   "source": [
    "suppressPackageStartupMessages({\n",
    "library(Signac)\n",
    "library(GenomicRanges)\n",
    "library(data.table)\n",
    "library(EnsDb.Hsapiens.v86)\n",
    "library(tidyverse)\n",
    "library(data.table)\n",
    "        })"
   ]
  },
  {
   "cell_type": "code",
   "execution_count": 3,
   "id": "beautiful-violence",
   "metadata": {},
   "outputs": [],
   "source": [
    "#then get a reference set of DNAse hypersensitivity sites.\n",
    "reference_path = '~/lustre/scratch117/cellgen/team297/bs16/ENCODE_reference/ENCFF503GCK.tsv'\n",
    "ref = read.csv(reference_path, sep = '\\t')"
   ]
  },
  {
   "cell_type": "code",
   "execution_count": 4,
   "id": "searching-vocabulary",
   "metadata": {},
   "outputs": [],
   "source": [
    "colnames(ref)[1:3] = c('seqnames', 'start', 'end')"
   ]
  },
  {
   "cell_type": "code",
   "execution_count": 5,
   "id": "associate-bench",
   "metadata": {},
   "outputs": [
    {
     "data": {
      "text/html": [
       "<table class=\"dataframe\">\n",
       "<caption>A data.frame: 6 × 10</caption>\n",
       "<thead>\n",
       "\t<tr><th></th><th scope=col>seqnames</th><th scope=col>start</th><th scope=col>end</th><th scope=col>identifier</th><th scope=col>mean_signal</th><th scope=col>numsamples</th><th scope=col>summit</th><th scope=col>core_start</th><th scope=col>core_end</th><th scope=col>component</th></tr>\n",
       "\t<tr><th></th><th scope=col>&lt;chr&gt;</th><th scope=col>&lt;int&gt;</th><th scope=col>&lt;int&gt;</th><th scope=col>&lt;chr&gt;</th><th scope=col>&lt;dbl&gt;</th><th scope=col>&lt;int&gt;</th><th scope=col>&lt;int&gt;</th><th scope=col>&lt;int&gt;</th><th scope=col>&lt;int&gt;</th><th scope=col>&lt;chr&gt;</th></tr>\n",
       "</thead>\n",
       "<tbody>\n",
       "\t<tr><th scope=row>1</th><td>chr1</td><td>16140</td><td>16200</td><td>1.10011</td><td>0.1293880</td><td>1</td><td>16170</td><td>16170</td><td>16170</td><td>Tissue invariant       </td></tr>\n",
       "\t<tr><th scope=row>2</th><td>chr1</td><td>51868</td><td>52040</td><td>1.10021</td><td>0.0800339</td><td>1</td><td>51970</td><td>51970</td><td>51970</td><td>Placental / trophoblast</td></tr>\n",
       "\t<tr><th scope=row>3</th><td>chr1</td><td>57280</td><td>57354</td><td>1.10025</td><td>0.2732505</td><td>4</td><td>57350</td><td>57350</td><td>57350</td><td>Neural                 </td></tr>\n",
       "\t<tr><th scope=row>4</th><td>chr1</td><td>66370</td><td>66482</td><td>1.10027</td><td>0.1837156</td><td>8</td><td>66430</td><td>66410</td><td>66430</td><td>Primitive / embryonic  </td></tr>\n",
       "\t<tr><th scope=row>5</th><td>chr1</td><td>79100</td><td>79231</td><td>1.1003 </td><td>0.1130490</td><td>2</td><td>79150</td><td>79150</td><td>79150</td><td>Placental / trophoblast</td></tr>\n",
       "\t<tr><th scope=row>6</th><td>chr1</td><td>79430</td><td>79497</td><td>1.10032</td><td>0.0975848</td><td>1</td><td>79431</td><td>79431</td><td>79431</td><td>Digestive              </td></tr>\n",
       "</tbody>\n",
       "</table>\n"
      ],
      "text/latex": [
       "A data.frame: 6 × 10\n",
       "\\begin{tabular}{r|llllllllll}\n",
       "  & seqnames & start & end & identifier & mean\\_signal & numsamples & summit & core\\_start & core\\_end & component\\\\\n",
       "  & <chr> & <int> & <int> & <chr> & <dbl> & <int> & <int> & <int> & <int> & <chr>\\\\\n",
       "\\hline\n",
       "\t1 & chr1 & 16140 & 16200 & 1.10011 & 0.1293880 & 1 & 16170 & 16170 & 16170 & Tissue invariant       \\\\\n",
       "\t2 & chr1 & 51868 & 52040 & 1.10021 & 0.0800339 & 1 & 51970 & 51970 & 51970 & Placental / trophoblast\\\\\n",
       "\t3 & chr1 & 57280 & 57354 & 1.10025 & 0.2732505 & 4 & 57350 & 57350 & 57350 & Neural                 \\\\\n",
       "\t4 & chr1 & 66370 & 66482 & 1.10027 & 0.1837156 & 8 & 66430 & 66410 & 66430 & Primitive / embryonic  \\\\\n",
       "\t5 & chr1 & 79100 & 79231 & 1.1003  & 0.1130490 & 2 & 79150 & 79150 & 79150 & Placental / trophoblast\\\\\n",
       "\t6 & chr1 & 79430 & 79497 & 1.10032 & 0.0975848 & 1 & 79431 & 79431 & 79431 & Digestive              \\\\\n",
       "\\end{tabular}\n"
      ],
      "text/markdown": [
       "\n",
       "A data.frame: 6 × 10\n",
       "\n",
       "| <!--/--> | seqnames &lt;chr&gt; | start &lt;int&gt; | end &lt;int&gt; | identifier &lt;chr&gt; | mean_signal &lt;dbl&gt; | numsamples &lt;int&gt; | summit &lt;int&gt; | core_start &lt;int&gt; | core_end &lt;int&gt; | component &lt;chr&gt; |\n",
       "|---|---|---|---|---|---|---|---|---|---|---|\n",
       "| 1 | chr1 | 16140 | 16200 | 1.10011 | 0.1293880 | 1 | 16170 | 16170 | 16170 | Tissue invariant        |\n",
       "| 2 | chr1 | 51868 | 52040 | 1.10021 | 0.0800339 | 1 | 51970 | 51970 | 51970 | Placental / trophoblast |\n",
       "| 3 | chr1 | 57280 | 57354 | 1.10025 | 0.2732505 | 4 | 57350 | 57350 | 57350 | Neural                  |\n",
       "| 4 | chr1 | 66370 | 66482 | 1.10027 | 0.1837156 | 8 | 66430 | 66410 | 66430 | Primitive / embryonic   |\n",
       "| 5 | chr1 | 79100 | 79231 | 1.1003  | 0.1130490 | 2 | 79150 | 79150 | 79150 | Placental / trophoblast |\n",
       "| 6 | chr1 | 79430 | 79497 | 1.10032 | 0.0975848 | 1 | 79431 | 79431 | 79431 | Digestive               |\n",
       "\n"
      ],
      "text/plain": [
       "  seqnames start end   identifier mean_signal numsamples summit core_start\n",
       "1 chr1     16140 16200 1.10011    0.1293880   1          16170  16170     \n",
       "2 chr1     51868 52040 1.10021    0.0800339   1          51970  51970     \n",
       "3 chr1     57280 57354 1.10025    0.2732505   4          57350  57350     \n",
       "4 chr1     66370 66482 1.10027    0.1837156   8          66430  66410     \n",
       "5 chr1     79100 79231 1.1003     0.1130490   2          79150  79150     \n",
       "6 chr1     79430 79497 1.10032    0.0975848   1          79431  79431     \n",
       "  core_end component              \n",
       "1 16170    Tissue invariant       \n",
       "2 51970    Placental / trophoblast\n",
       "3 57350    Neural                 \n",
       "4 66430    Primitive / embryonic  \n",
       "5 79150    Placental / trophoblast\n",
       "6 79431    Digestive              "
      ]
     },
     "metadata": {},
     "output_type": "display_data"
    }
   ],
   "source": [
    "head(ref)"
   ]
  },
  {
   "cell_type": "code",
   "execution_count": 6,
   "id": "adjusted-launch",
   "metadata": {},
   "outputs": [
    {
     "name": "stderr",
     "output_type": "stream",
     "text": [
      "\n",
      "Attaching package: 'plyranges'\n",
      "\n",
      "\n",
      "The following objects are masked from 'package:dplyr':\n",
      "\n",
      "    between, n, n_distinct\n",
      "\n",
      "\n",
      "The following objects are masked from 'package:ensembldb':\n",
      "\n",
      "    filter, select\n",
      "\n",
      "\n",
      "The following object is masked from 'package:AnnotationDbi':\n",
      "\n",
      "    select\n",
      "\n",
      "\n",
      "The following object is masked from 'package:data.table':\n",
      "\n",
      "    between\n",
      "\n",
      "\n",
      "The following object is masked from 'package:igraph':\n",
      "\n",
      "    groups\n",
      "\n",
      "\n",
      "The following object is masked from 'package:IRanges':\n",
      "\n",
      "    slice\n",
      "\n",
      "\n",
      "The following object is masked from 'package:stats':\n",
      "\n",
      "    filter\n",
      "\n",
      "\n"
     ]
    }
   ],
   "source": [
    "library(plyranges, quietly = TRUE)\n",
    "ref_gr <- as_granges(ref)"
   ]
  },
  {
   "cell_type": "code",
   "execution_count": 7,
   "id": "static-pitch",
   "metadata": {},
   "outputs": [],
   "source": [
    "bad_seqnames = c(grep(\"chrUn\", unique(ref_gr@seqnames), value=TRUE),\n",
    "                 grep(\"_alt\", unique(ref_gr@seqnames), value=TRUE),\n",
    "                 grep(\"_fix\", unique(ref_gr@seqnames), value=TRUE),\n",
    "                 grep(\"_random\", unique(ref_gr@seqnames), value=TRUE))"
   ]
  },
  {
   "cell_type": "code",
   "execution_count": 8,
   "id": "cultural-exception",
   "metadata": {},
   "outputs": [
    {
     "data": {
      "text/plain": [
       "\n",
       "  FALSE \n",
       "3591898 "
      ]
     },
     "metadata": {},
     "output_type": "display_data"
    }
   ],
   "source": [
    "table(ref_gr@seqnames %in% bad_seqnames)"
   ]
  },
  {
   "cell_type": "code",
   "execution_count": null,
   "id": "bulgarian-princess",
   "metadata": {},
   "outputs": [],
   "source": [
    "#ref_gr = ref_gr[!ref_gr@seqnames %in% bad_seqnames, ]"
   ]
  },
  {
   "cell_type": "code",
   "execution_count": 9,
   "id": "narrative-execution",
   "metadata": {},
   "outputs": [],
   "source": [
    "gr_length = ref$end - ref$start"
   ]
  },
  {
   "cell_type": "code",
   "execution_count": 10,
   "id": "rational-longitude",
   "metadata": {},
   "outputs": [
    {
     "data": {
      "image/png": "[encoded data removed]",
      "text/plain": [
       "Plot with title \"Histogram of gr_length\""
      ]
     },
     "metadata": {
      "image/png": {
       "height": 420,
       "width": 420
      }
     },
     "output_type": "display_data"
    }
   ],
   "source": [
    "hist(gr_length, breaks= 200)"
   ]
  },
  {
   "cell_type": "code",
   "execution_count": 11,
   "id": "pregnant-spokesman",
   "metadata": {},
   "outputs": [],
   "source": [
    "bed_output_dir = \"~/ben_lustre/ENCODE_reference/DHS_ENCODE_ref.bed\"\n",
    "rtracklayer::export.bed(ref_gr, bed_output_dir)"
   ]
  }
 ],
 "metadata": {
  "kernelspec": {
   "display_name": "R",
   "language": "R",
   "name": "ir"
  },
  "language_info": {
   "codemirror_mode": "r",
   "file_extension": ".r",
   "mimetype": "text/x-r-source",
   "name": "R",
   "pygments_lexer": "r",
   "version": "4.0.4"
  }
 },
 "nbformat": 4,
 "nbformat_minor": 5
}

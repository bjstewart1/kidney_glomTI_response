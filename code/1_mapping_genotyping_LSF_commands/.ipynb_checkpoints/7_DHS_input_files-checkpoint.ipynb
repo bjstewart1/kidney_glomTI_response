{
 "cells": [
  {
   "cell_type": "code",
   "execution_count": 1,
   "id": "electrical-scholar",
   "metadata": {},
   "outputs": [],
   "source": [
    "seq_inventory <- read.csv(\"~/ben_nfs/sample_donor_data/sequencing_inventory.csv\")"
   ]
  },
  {
   "cell_type": "code",
   "execution_count": 2,
   "id": "informal-suicide",
   "metadata": {},
   "outputs": [
    {
     "data": {
      "text/plain": [
       "\n",
       "                          10X_3'_V3                         10X_ATACseq \n",
       "                                 92                                  10 \n",
       "                  10X_multiome_ATAC                    10X_multiome_GEX \n",
       "                                 27                                  27 \n",
       "                         10X_visium                     10X_visium_FFPE \n",
       "                                  4                                   4 \n",
       "                       bulk_RNA_seq      Single_glomerulus_SS2_96wp_LCM \n",
       "                                 42                                   2 \n",
       "Single_glomerulus_SS2_96wp_pipetted                             Storage \n",
       "                                  2                                   1 "
      ]
     },
     "metadata": {},
     "output_type": "display_data"
    }
   ],
   "source": [
    "table(seq_inventory$experiment)"
   ]
  },
  {
   "cell_type": "code",
   "execution_count": 3,
   "id": "finite-nerve",
   "metadata": {},
   "outputs": [],
   "source": [
    "seq_inventory = seq_inventory[seq_inventory$experiment %in% c(\"10X_ATACseq\"), ]\n",
    "seq_inventory = seq_inventory[!seq_inventory$poor_QC, ]"
   ]
  },
  {
   "cell_type": "code",
   "execution_count": 4,
   "id": "ready-bryan",
   "metadata": {},
   "outputs": [
    {
     "data": {
      "text/html": [
       "<style>\n",
       ".list-inline {list-style: none; margin:0; padding: 0}\n",
       ".list-inline>li {display: inline-block}\n",
       ".list-inline>li:not(:last-child)::after {content: \"\\00b7\"; padding: 0 .5ex}\n",
       "</style>\n",
       "<ol class=list-inline><li>'/seq/illumina/runs/36/36226/cellranger-atac/cellranger-atac200_count_f773d0a12e1876c09a51845526147595'</li><li>'/seq/illumina/runs/36/36226/cellranger-atac/cellranger-atac200_count_25defcde43738c5b9388993d7bee5a15'</li><li>'/seq/illumina/runs/36/36226/cellranger-atac/cellranger-atac200_count_b7fa16470431cc74aa1e9ed894719d4e'</li><li>'/seq/illumina/runs/36/36226/cellranger-atac/cellranger-atac200_count_05414f61feb3300e899b2e794107d78d'</li><li>'/seq/illumina/runs/36/36170/cellranger-atac/cellranger-atac200_count_04d85df7704d0782c0b1064478388963'</li><li>'/seq/illumina/runs/36/36170/cellranger-atac/cellranger-atac200_count_117bb132811f35483bef97515cfc04b0'</li><li>'/seq/illumina/runs/39/39533/cellranger-atac/cellranger-atac200_count_94b8c7a00d75e24838a8222800fa8c92'</li><li>'/seq/illumina/runs/39/39533/cellranger-atac/cellranger-atac200_count_c59f81ac9263a14fdd7e4e098c981fb0'</li></ol>\n"
      ],
      "text/latex": [
       "\\begin{enumerate*}\n",
       "\\item '/seq/illumina/runs/36/36226/cellranger-atac/cellranger-atac200\\_count\\_f773d0a12e1876c09a51845526147595'\n",
       "\\item '/seq/illumina/runs/36/36226/cellranger-atac/cellranger-atac200\\_count\\_25defcde43738c5b9388993d7bee5a15'\n",
       "\\item '/seq/illumina/runs/36/36226/cellranger-atac/cellranger-atac200\\_count\\_b7fa16470431cc74aa1e9ed894719d4e'\n",
       "\\item '/seq/illumina/runs/36/36226/cellranger-atac/cellranger-atac200\\_count\\_05414f61feb3300e899b2e794107d78d'\n",
       "\\item '/seq/illumina/runs/36/36170/cellranger-atac/cellranger-atac200\\_count\\_04d85df7704d0782c0b1064478388963'\n",
       "\\item '/seq/illumina/runs/36/36170/cellranger-atac/cellranger-atac200\\_count\\_117bb132811f35483bef97515cfc04b0'\n",
       "\\item '/seq/illumina/runs/39/39533/cellranger-atac/cellranger-atac200\\_count\\_94b8c7a00d75e24838a8222800fa8c92'\n",
       "\\item '/seq/illumina/runs/39/39533/cellranger-atac/cellranger-atac200\\_count\\_c59f81ac9263a14fdd7e4e098c981fb0'\n",
       "\\end{enumerate*}\n"
      ],
      "text/markdown": [
       "1. '/seq/illumina/runs/36/36226/cellranger-atac/cellranger-atac200_count_f773d0a12e1876c09a51845526147595'\n",
       "2. '/seq/illumina/runs/36/36226/cellranger-atac/cellranger-atac200_count_25defcde43738c5b9388993d7bee5a15'\n",
       "3. '/seq/illumina/runs/36/36226/cellranger-atac/cellranger-atac200_count_b7fa16470431cc74aa1e9ed894719d4e'\n",
       "4. '/seq/illumina/runs/36/36226/cellranger-atac/cellranger-atac200_count_05414f61feb3300e899b2e794107d78d'\n",
       "5. '/seq/illumina/runs/36/36170/cellranger-atac/cellranger-atac200_count_04d85df7704d0782c0b1064478388963'\n",
       "6. '/seq/illumina/runs/36/36170/cellranger-atac/cellranger-atac200_count_117bb132811f35483bef97515cfc04b0'\n",
       "7. '/seq/illumina/runs/39/39533/cellranger-atac/cellranger-atac200_count_94b8c7a00d75e24838a8222800fa8c92'\n",
       "8. '/seq/illumina/runs/39/39533/cellranger-atac/cellranger-atac200_count_c59f81ac9263a14fdd7e4e098c981fb0'\n",
       "\n",
       "\n"
      ],
      "text/plain": [
       "[1] \"/seq/illumina/runs/36/36226/cellranger-atac/cellranger-atac200_count_f773d0a12e1876c09a51845526147595\"\n",
       "[2] \"/seq/illumina/runs/36/36226/cellranger-atac/cellranger-atac200_count_25defcde43738c5b9388993d7bee5a15\"\n",
       "[3] \"/seq/illumina/runs/36/36226/cellranger-atac/cellranger-atac200_count_b7fa16470431cc74aa1e9ed894719d4e\"\n",
       "[4] \"/seq/illumina/runs/36/36226/cellranger-atac/cellranger-atac200_count_05414f61feb3300e899b2e794107d78d\"\n",
       "[5] \"/seq/illumina/runs/36/36170/cellranger-atac/cellranger-atac200_count_04d85df7704d0782c0b1064478388963\"\n",
       "[6] \"/seq/illumina/runs/36/36170/cellranger-atac/cellranger-atac200_count_117bb132811f35483bef97515cfc04b0\"\n",
       "[7] \"/seq/illumina/runs/39/39533/cellranger-atac/cellranger-atac200_count_94b8c7a00d75e24838a8222800fa8c92\"\n",
       "[8] \"/seq/illumina/runs/39/39533/cellranger-atac/cellranger-atac200_count_c59f81ac9263a14fdd7e4e098c981fb0\""
      ]
     },
     "metadata": {},
     "output_type": "display_data"
    }
   ],
   "source": [
    "seq_inventory$irods_dir"
   ]
  },
  {
   "cell_type": "code",
   "execution_count": 5,
   "id": "charitable-airfare",
   "metadata": {},
   "outputs": [],
   "source": [
    "base_dir = \"/lustre/scratch126/cellgen/team297/bs16/current_projects/kidney_glomTI_response/data/seq_data/10X_snATACseq\""
   ]
  },
  {
   "cell_type": "code",
   "execution_count": 6,
   "id": "peaceful-plaintiff",
   "metadata": {},
   "outputs": [],
   "source": [
    "df = data.frame('directory' = file.path(base_dir, seq_inventory$irods_ID), \n",
    "                'chemistry' =  'ATAC',\n",
    "               'irods_ID' = seq_inventory$irods_ID,\n",
    "               'irods_DIR' = seq_inventory$irods_dir)"
   ]
  },
  {
   "cell_type": "code",
   "execution_count": 7,
   "id": "clean-generation",
   "metadata": {},
   "outputs": [],
   "source": [
    "write.table(df, file.path(base_dir, \"DHS_input.txt\"), row.names = FALSE,\n",
    "            quote = FALSE, col.names = FALSE, sep = \"\\t\")"
   ]
  },
  {
   "cell_type": "code",
   "execution_count": 1,
   "id": "dress-reverse",
   "metadata": {},
   "outputs": [
    {
     "data": {
      "text/plain": [
       "\n",
       "                          10X_3'_V3                         10X_ATACseq \n",
       "                                 92                                  10 \n",
       "                  10X_multiome_ATAC                    10X_multiome_GEX \n",
       "                                 27                                  27 \n",
       "                         10X_visium                     10X_visium_FFPE \n",
       "                                  4                                  20 \n",
       "                       bulk_RNA_seq                      PARSE_RNAseqV1 \n",
       "                                 42                                  13 \n",
       "     Single_glomerulus_SS2_96wp_LCM Single_glomerulus_SS2_96wp_pipetted \n",
       "                                  2                                   2 \n",
       "                            Storage \n",
       "                                  1 "
      ]
     },
     "metadata": {},
     "output_type": "display_data"
    }
   ],
   "source": [
    "#multiome\n",
    "seq_inventory <- read.csv(\"~/ben_nfs/sample_donor_data/sequencing_inventory.csv\")\n",
    "table(seq_inventory$experiment)\n",
    "seq_inventory = seq_inventory[seq_inventory$experiment %in% \"10X_multiome_ATAC\", ]\n",
    "seq_inventory = seq_inventory[!seq_inventory$poor_QC, ]\n",
    "seq_inventory = seq_inventory[seq_inventory$tissue %in% \"kidney_single_nucleus_suspension\", ]"
   ]
  },
  {
   "cell_type": "code",
   "execution_count": 2,
   "id": "appreciated-vulnerability",
   "metadata": {},
   "outputs": [],
   "source": [
    "base_dir = \"/lustre/scratch126/cellgen/team297/bs16/current_projects/kidney_glomTI_response/data/seq_data/10X_multiome\""
   ]
  },
  {
   "cell_type": "code",
   "execution_count": 6,
   "id": "stuffed-capability",
   "metadata": {},
   "outputs": [],
   "source": [
    "df = data.frame('directory' = file.path(base_dir, seq_inventory$irods_ID), \n",
    "                'chemistry' =  'multiome',\n",
    "               'irods_ID' = seq_inventory$irods_ID,\n",
    "               'irods_DIR' = seq_inventory$irods_dir)"
   ]
  },
  {
   "cell_type": "code",
   "execution_count": 7,
   "id": "ranging-globe",
   "metadata": {},
   "outputs": [
    {
     "data": {
      "text/html": [
       "<table class=\"dataframe\">\n",
       "<caption>A data.frame: 16 × 4</caption>\n",
       "<thead>\n",
       "\t<tr><th scope=col>directory</th><th scope=col>chemistry</th><th scope=col>irods_ID</th><th scope=col>irods_DIR</th></tr>\n",
       "\t<tr><th scope=col>&lt;chr&gt;</th><th scope=col>&lt;chr&gt;</th><th scope=col>&lt;chr&gt;</th><th scope=col>&lt;chr&gt;</th></tr>\n",
       "</thead>\n",
       "<tbody>\n",
       "\t<tr><td>/lustre/scratch126/cellgen/team297/bs16/current_projects/kidney_glomTI_response/data/seq_data/10X_multiome/cellranger-arc200_count_01cd0b1f038cca6db6a3172cce92d8b2</td><td>multiome</td><td>cellranger-arc200_count_01cd0b1f038cca6db6a3172cce92d8b2</td><td>/seq/illumina/cellranger-arc/cellranger-arc200_count_01cd0b1f038cca6db6a3172cce92d8b2</td></tr>\n",
       "\t<tr><td>/lustre/scratch126/cellgen/team297/bs16/current_projects/kidney_glomTI_response/data/seq_data/10X_multiome/cellranger-arc200_count_426421b13676b7ad1ab64607030fd992</td><td>multiome</td><td>cellranger-arc200_count_426421b13676b7ad1ab64607030fd992</td><td>/seq/illumina/cellranger-arc/cellranger-arc200_count_426421b13676b7ad1ab64607030fd992</td></tr>\n",
       "\t<tr><td>/lustre/scratch126/cellgen/team297/bs16/current_projects/kidney_glomTI_response/data/seq_data/10X_multiome/cellranger-arc200_count_ab64b7249f90c1a7b6b45a07813a6628</td><td>multiome</td><td>cellranger-arc200_count_ab64b7249f90c1a7b6b45a07813a6628</td><td>/seq/illumina/cellranger-arc/cellranger-arc200_count_ab64b7249f90c1a7b6b45a07813a6628</td></tr>\n",
       "\t<tr><td>/lustre/scratch126/cellgen/team297/bs16/current_projects/kidney_glomTI_response/data/seq_data/10X_multiome/cellranger-arc200_count_a7a1cc9612bab77c305d5f44b7fd527b</td><td>multiome</td><td>cellranger-arc200_count_a7a1cc9612bab77c305d5f44b7fd527b</td><td>/seq/illumina/cellranger-arc/cellranger-arc200_count_a7a1cc9612bab77c305d5f44b7fd527b</td></tr>\n",
       "\t<tr><td>/lustre/scratch126/cellgen/team297/bs16/current_projects/kidney_glomTI_response/data/seq_data/10X_multiome/cellranger-arc200_count_01bf5eb88f1fd6261cd273821e27ec62</td><td>multiome</td><td>cellranger-arc200_count_01bf5eb88f1fd6261cd273821e27ec62</td><td>/seq/illumina/cellranger-arc/cellranger-arc200_count_01bf5eb88f1fd6261cd273821e27ec62</td></tr>\n",
       "\t<tr><td>/lustre/scratch126/cellgen/team297/bs16/current_projects/kidney_glomTI_response/data/seq_data/10X_multiome/cellranger-arc200_count_ffb2d458cc939df2f22324fd3a5f9e66</td><td>multiome</td><td>cellranger-arc200_count_ffb2d458cc939df2f22324fd3a5f9e66</td><td>/seq/illumina/cellranger-arc/cellranger-arc200_count_ffb2d458cc939df2f22324fd3a5f9e66</td></tr>\n",
       "\t<tr><td>/lustre/scratch126/cellgen/team297/bs16/current_projects/kidney_glomTI_response/data/seq_data/10X_multiome/cellranger-arc200_count_4cf593ecccbf5c8b4fbe80bb80a48bef</td><td>multiome</td><td>cellranger-arc200_count_4cf593ecccbf5c8b4fbe80bb80a48bef</td><td>/seq/illumina/cellranger-arc/cellranger-arc200_count_4cf593ecccbf5c8b4fbe80bb80a48bef</td></tr>\n",
       "\t<tr><td>/lustre/scratch126/cellgen/team297/bs16/current_projects/kidney_glomTI_response/data/seq_data/10X_multiome/cellranger-arc200_count_74321fba0e783fce0013e58e85e71d44</td><td>multiome</td><td>cellranger-arc200_count_74321fba0e783fce0013e58e85e71d44</td><td>/seq/illumina/cellranger-arc/cellranger-arc200_count_74321fba0e783fce0013e58e85e71d44</td></tr>\n",
       "\t<tr><td>/lustre/scratch126/cellgen/team297/bs16/current_projects/kidney_glomTI_response/data/seq_data/10X_multiome/cellranger-arc200_count_8e59d6e5b9b4a25a7bbc7bb2467ecfab</td><td>multiome</td><td>cellranger-arc200_count_8e59d6e5b9b4a25a7bbc7bb2467ecfab</td><td>/seq/illumina/cellranger-arc/cellranger-arc200_count_8e59d6e5b9b4a25a7bbc7bb2467ecfab</td></tr>\n",
       "\t<tr><td>/lustre/scratch126/cellgen/team297/bs16/current_projects/kidney_glomTI_response/data/seq_data/10X_multiome/cellranger-arc200_count_6c2252bc28c267c2b3e6e944af693fdc</td><td>multiome</td><td>cellranger-arc200_count_6c2252bc28c267c2b3e6e944af693fdc</td><td>/seq/illumina/cellranger-arc/cellranger-arc200_count_6c2252bc28c267c2b3e6e944af693fdc</td></tr>\n",
       "\t<tr><td>/lustre/scratch126/cellgen/team297/bs16/current_projects/kidney_glomTI_response/data/seq_data/10X_multiome/cellranger-arc200_count_f4b032abc513453fee40a6bd05fe1c84</td><td>multiome</td><td>cellranger-arc200_count_f4b032abc513453fee40a6bd05fe1c84</td><td>/seq/illumina/cellranger-arc/cellranger-arc200_count_f4b032abc513453fee40a6bd05fe1c84</td></tr>\n",
       "\t<tr><td>/lustre/scratch126/cellgen/team297/bs16/current_projects/kidney_glomTI_response/data/seq_data/10X_multiome/cellranger-arc200_count_45b1a41724921d5ae562e15580bf2243</td><td>multiome</td><td>cellranger-arc200_count_45b1a41724921d5ae562e15580bf2243</td><td>/seq/illumina/cellranger-arc/cellranger-arc200_count_45b1a41724921d5ae562e15580bf2243</td></tr>\n",
       "\t<tr><td>/lustre/scratch126/cellgen/team297/bs16/current_projects/kidney_glomTI_response/data/seq_data/10X_multiome/cellranger-arc200_count_eaeba636b2c180fc9041a08278bd2bc8</td><td>multiome</td><td>cellranger-arc200_count_eaeba636b2c180fc9041a08278bd2bc8</td><td>/seq/illumina/cellranger-arc/cellranger-arc200_count_eaeba636b2c180fc9041a08278bd2bc8</td></tr>\n",
       "\t<tr><td>/lustre/scratch126/cellgen/team297/bs16/current_projects/kidney_glomTI_response/data/seq_data/10X_multiome/cellranger-arc200_count_a7e3f3b7368071bef84eefdb6632acd4</td><td>multiome</td><td>cellranger-arc200_count_a7e3f3b7368071bef84eefdb6632acd4</td><td>/seq/illumina/cellranger-arc/cellranger-arc200_count_a7e3f3b7368071bef84eefdb6632acd4</td></tr>\n",
       "\t<tr><td>/lustre/scratch126/cellgen/team297/bs16/current_projects/kidney_glomTI_response/data/seq_data/10X_multiome/cellranger-arc200_count_1025c2e00f0348103d1c9859a69d9096</td><td>multiome</td><td>cellranger-arc200_count_1025c2e00f0348103d1c9859a69d9096</td><td>/seq/illumina/cellranger-arc/cellranger-arc200_count_1025c2e00f0348103d1c9859a69d9096</td></tr>\n",
       "\t<tr><td>/lustre/scratch126/cellgen/team297/bs16/current_projects/kidney_glomTI_response/data/seq_data/10X_multiome/cellranger-arc200_count_1f05add56c821daa7f4f5f054982ad61</td><td>multiome</td><td>cellranger-arc200_count_1f05add56c821daa7f4f5f054982ad61</td><td>/seq/illumina/cellranger-arc/cellranger-arc200_count_1f05add56c821daa7f4f5f054982ad61</td></tr>\n",
       "</tbody>\n",
       "</table>\n"
      ],
      "text/latex": [
       "A data.frame: 16 × 4\n",
       "\\begin{tabular}{llll}\n",
       " directory & chemistry & irods\\_ID & irods\\_DIR\\\\\n",
       " <chr> & <chr> & <chr> & <chr>\\\\\n",
       "\\hline\n",
       "\t /lustre/scratch126/cellgen/team297/bs16/current\\_projects/kidney\\_glomTI\\_response/data/seq\\_data/10X\\_multiome/cellranger-arc200\\_count\\_01cd0b1f038cca6db6a3172cce92d8b2 & multiome & cellranger-arc200\\_count\\_01cd0b1f038cca6db6a3172cce92d8b2 & /seq/illumina/cellranger-arc/cellranger-arc200\\_count\\_01cd0b1f038cca6db6a3172cce92d8b2\\\\\n",
       "\t /lustre/scratch126/cellgen/team297/bs16/current\\_projects/kidney\\_glomTI\\_response/data/seq\\_data/10X\\_multiome/cellranger-arc200\\_count\\_426421b13676b7ad1ab64607030fd992 & multiome & cellranger-arc200\\_count\\_426421b13676b7ad1ab64607030fd992 & /seq/illumina/cellranger-arc/cellranger-arc200\\_count\\_426421b13676b7ad1ab64607030fd992\\\\\n",
       "\t /lustre/scratch126/cellgen/team297/bs16/current\\_projects/kidney\\_glomTI\\_response/data/seq\\_data/10X\\_multiome/cellranger-arc200\\_count\\_ab64b7249f90c1a7b6b45a07813a6628 & multiome & cellranger-arc200\\_count\\_ab64b7249f90c1a7b6b45a07813a6628 & /seq/illumina/cellranger-arc/cellranger-arc200\\_count\\_ab64b7249f90c1a7b6b45a07813a6628\\\\\n",
       "\t /lustre/scratch126/cellgen/team297/bs16/current\\_projects/kidney\\_glomTI\\_response/data/seq\\_data/10X\\_multiome/cellranger-arc200\\_count\\_a7a1cc9612bab77c305d5f44b7fd527b & multiome & cellranger-arc200\\_count\\_a7a1cc9612bab77c305d5f44b7fd527b & /seq/illumina/cellranger-arc/cellranger-arc200\\_count\\_a7a1cc9612bab77c305d5f44b7fd527b\\\\\n",
       "\t /lustre/scratch126/cellgen/team297/bs16/current\\_projects/kidney\\_glomTI\\_response/data/seq\\_data/10X\\_multiome/cellranger-arc200\\_count\\_01bf5eb88f1fd6261cd273821e27ec62 & multiome & cellranger-arc200\\_count\\_01bf5eb88f1fd6261cd273821e27ec62 & /seq/illumina/cellranger-arc/cellranger-arc200\\_count\\_01bf5eb88f1fd6261cd273821e27ec62\\\\\n",
       "\t /lustre/scratch126/cellgen/team297/bs16/current\\_projects/kidney\\_glomTI\\_response/data/seq\\_data/10X\\_multiome/cellranger-arc200\\_count\\_ffb2d458cc939df2f22324fd3a5f9e66 & multiome & cellranger-arc200\\_count\\_ffb2d458cc939df2f22324fd3a5f9e66 & /seq/illumina/cellranger-arc/cellranger-arc200\\_count\\_ffb2d458cc939df2f22324fd3a5f9e66\\\\\n",
       "\t /lustre/scratch126/cellgen/team297/bs16/current\\_projects/kidney\\_glomTI\\_response/data/seq\\_data/10X\\_multiome/cellranger-arc200\\_count\\_4cf593ecccbf5c8b4fbe80bb80a48bef & multiome & cellranger-arc200\\_count\\_4cf593ecccbf5c8b4fbe80bb80a48bef & /seq/illumina/cellranger-arc/cellranger-arc200\\_count\\_4cf593ecccbf5c8b4fbe80bb80a48bef\\\\\n",
       "\t /lustre/scratch126/cellgen/team297/bs16/current\\_projects/kidney\\_glomTI\\_response/data/seq\\_data/10X\\_multiome/cellranger-arc200\\_count\\_74321fba0e783fce0013e58e85e71d44 & multiome & cellranger-arc200\\_count\\_74321fba0e783fce0013e58e85e71d44 & /seq/illumina/cellranger-arc/cellranger-arc200\\_count\\_74321fba0e783fce0013e58e85e71d44\\\\\n",
       "\t /lustre/scratch126/cellgen/team297/bs16/current\\_projects/kidney\\_glomTI\\_response/data/seq\\_data/10X\\_multiome/cellranger-arc200\\_count\\_8e59d6e5b9b4a25a7bbc7bb2467ecfab & multiome & cellranger-arc200\\_count\\_8e59d6e5b9b4a25a7bbc7bb2467ecfab & /seq/illumina/cellranger-arc/cellranger-arc200\\_count\\_8e59d6e5b9b4a25a7bbc7bb2467ecfab\\\\\n",
       "\t /lustre/scratch126/cellgen/team297/bs16/current\\_projects/kidney\\_glomTI\\_response/data/seq\\_data/10X\\_multiome/cellranger-arc200\\_count\\_6c2252bc28c267c2b3e6e944af693fdc & multiome & cellranger-arc200\\_count\\_6c2252bc28c267c2b3e6e944af693fdc & /seq/illumina/cellranger-arc/cellranger-arc200\\_count\\_6c2252bc28c267c2b3e6e944af693fdc\\\\\n",
       "\t /lustre/scratch126/cellgen/team297/bs16/current\\_projects/kidney\\_glomTI\\_response/data/seq\\_data/10X\\_multiome/cellranger-arc200\\_count\\_f4b032abc513453fee40a6bd05fe1c84 & multiome & cellranger-arc200\\_count\\_f4b032abc513453fee40a6bd05fe1c84 & /seq/illumina/cellranger-arc/cellranger-arc200\\_count\\_f4b032abc513453fee40a6bd05fe1c84\\\\\n",
       "\t /lustre/scratch126/cellgen/team297/bs16/current\\_projects/kidney\\_glomTI\\_response/data/seq\\_data/10X\\_multiome/cellranger-arc200\\_count\\_45b1a41724921d5ae562e15580bf2243 & multiome & cellranger-arc200\\_count\\_45b1a41724921d5ae562e15580bf2243 & /seq/illumina/cellranger-arc/cellranger-arc200\\_count\\_45b1a41724921d5ae562e15580bf2243\\\\\n",
       "\t /lustre/scratch126/cellgen/team297/bs16/current\\_projects/kidney\\_glomTI\\_response/data/seq\\_data/10X\\_multiome/cellranger-arc200\\_count\\_eaeba636b2c180fc9041a08278bd2bc8 & multiome & cellranger-arc200\\_count\\_eaeba636b2c180fc9041a08278bd2bc8 & /seq/illumina/cellranger-arc/cellranger-arc200\\_count\\_eaeba636b2c180fc9041a08278bd2bc8\\\\\n",
       "\t /lustre/scratch126/cellgen/team297/bs16/current\\_projects/kidney\\_glomTI\\_response/data/seq\\_data/10X\\_multiome/cellranger-arc200\\_count\\_a7e3f3b7368071bef84eefdb6632acd4 & multiome & cellranger-arc200\\_count\\_a7e3f3b7368071bef84eefdb6632acd4 & /seq/illumina/cellranger-arc/cellranger-arc200\\_count\\_a7e3f3b7368071bef84eefdb6632acd4\\\\\n",
       "\t /lustre/scratch126/cellgen/team297/bs16/current\\_projects/kidney\\_glomTI\\_response/data/seq\\_data/10X\\_multiome/cellranger-arc200\\_count\\_1025c2e00f0348103d1c9859a69d9096 & multiome & cellranger-arc200\\_count\\_1025c2e00f0348103d1c9859a69d9096 & /seq/illumina/cellranger-arc/cellranger-arc200\\_count\\_1025c2e00f0348103d1c9859a69d9096\\\\\n",
       "\t /lustre/scratch126/cellgen/team297/bs16/current\\_projects/kidney\\_glomTI\\_response/data/seq\\_data/10X\\_multiome/cellranger-arc200\\_count\\_1f05add56c821daa7f4f5f054982ad61 & multiome & cellranger-arc200\\_count\\_1f05add56c821daa7f4f5f054982ad61 & /seq/illumina/cellranger-arc/cellranger-arc200\\_count\\_1f05add56c821daa7f4f5f054982ad61\\\\\n",
       "\\end{tabular}\n"
      ],
      "text/markdown": [
       "\n",
       "A data.frame: 16 × 4\n",
       "\n",
       "| directory &lt;chr&gt; | chemistry &lt;chr&gt; | irods_ID &lt;chr&gt; | irods_DIR &lt;chr&gt; |\n",
       "|---|---|---|---|\n",
       "| /lustre/scratch126/cellgen/team297/bs16/current_projects/kidney_glomTI_response/data/seq_data/10X_multiome/cellranger-arc200_count_01cd0b1f038cca6db6a3172cce92d8b2 | multiome | cellranger-arc200_count_01cd0b1f038cca6db6a3172cce92d8b2 | /seq/illumina/cellranger-arc/cellranger-arc200_count_01cd0b1f038cca6db6a3172cce92d8b2 |\n",
       "| /lustre/scratch126/cellgen/team297/bs16/current_projects/kidney_glomTI_response/data/seq_data/10X_multiome/cellranger-arc200_count_426421b13676b7ad1ab64607030fd992 | multiome | cellranger-arc200_count_426421b13676b7ad1ab64607030fd992 | /seq/illumina/cellranger-arc/cellranger-arc200_count_426421b13676b7ad1ab64607030fd992 |\n",
       "| /lustre/scratch126/cellgen/team297/bs16/current_projects/kidney_glomTI_response/data/seq_data/10X_multiome/cellranger-arc200_count_ab64b7249f90c1a7b6b45a07813a6628 | multiome | cellranger-arc200_count_ab64b7249f90c1a7b6b45a07813a6628 | /seq/illumina/cellranger-arc/cellranger-arc200_count_ab64b7249f90c1a7b6b45a07813a6628 |\n",
       "| /lustre/scratch126/cellgen/team297/bs16/current_projects/kidney_glomTI_response/data/seq_data/10X_multiome/cellranger-arc200_count_a7a1cc9612bab77c305d5f44b7fd527b | multiome | cellranger-arc200_count_a7a1cc9612bab77c305d5f44b7fd527b | /seq/illumina/cellranger-arc/cellranger-arc200_count_a7a1cc9612bab77c305d5f44b7fd527b |\n",
       "| /lustre/scratch126/cellgen/team297/bs16/current_projects/kidney_glomTI_response/data/seq_data/10X_multiome/cellranger-arc200_count_01bf5eb88f1fd6261cd273821e27ec62 | multiome | cellranger-arc200_count_01bf5eb88f1fd6261cd273821e27ec62 | /seq/illumina/cellranger-arc/cellranger-arc200_count_01bf5eb88f1fd6261cd273821e27ec62 |\n",
       "| /lustre/scratch126/cellgen/team297/bs16/current_projects/kidney_glomTI_response/data/seq_data/10X_multiome/cellranger-arc200_count_ffb2d458cc939df2f22324fd3a5f9e66 | multiome | cellranger-arc200_count_ffb2d458cc939df2f22324fd3a5f9e66 | /seq/illumina/cellranger-arc/cellranger-arc200_count_ffb2d458cc939df2f22324fd3a5f9e66 |\n",
       "| /lustre/scratch126/cellgen/team297/bs16/current_projects/kidney_glomTI_response/data/seq_data/10X_multiome/cellranger-arc200_count_4cf593ecccbf5c8b4fbe80bb80a48bef | multiome | cellranger-arc200_count_4cf593ecccbf5c8b4fbe80bb80a48bef | /seq/illumina/cellranger-arc/cellranger-arc200_count_4cf593ecccbf5c8b4fbe80bb80a48bef |\n",
       "| /lustre/scratch126/cellgen/team297/bs16/current_projects/kidney_glomTI_response/data/seq_data/10X_multiome/cellranger-arc200_count_74321fba0e783fce0013e58e85e71d44 | multiome | cellranger-arc200_count_74321fba0e783fce0013e58e85e71d44 | /seq/illumina/cellranger-arc/cellranger-arc200_count_74321fba0e783fce0013e58e85e71d44 |\n",
       "| /lustre/scratch126/cellgen/team297/bs16/current_projects/kidney_glomTI_response/data/seq_data/10X_multiome/cellranger-arc200_count_8e59d6e5b9b4a25a7bbc7bb2467ecfab | multiome | cellranger-arc200_count_8e59d6e5b9b4a25a7bbc7bb2467ecfab | /seq/illumina/cellranger-arc/cellranger-arc200_count_8e59d6e5b9b4a25a7bbc7bb2467ecfab |\n",
       "| /lustre/scratch126/cellgen/team297/bs16/current_projects/kidney_glomTI_response/data/seq_data/10X_multiome/cellranger-arc200_count_6c2252bc28c267c2b3e6e944af693fdc | multiome | cellranger-arc200_count_6c2252bc28c267c2b3e6e944af693fdc | /seq/illumina/cellranger-arc/cellranger-arc200_count_6c2252bc28c267c2b3e6e944af693fdc |\n",
       "| /lustre/scratch126/cellgen/team297/bs16/current_projects/kidney_glomTI_response/data/seq_data/10X_multiome/cellranger-arc200_count_f4b032abc513453fee40a6bd05fe1c84 | multiome | cellranger-arc200_count_f4b032abc513453fee40a6bd05fe1c84 | /seq/illumina/cellranger-arc/cellranger-arc200_count_f4b032abc513453fee40a6bd05fe1c84 |\n",
       "| /lustre/scratch126/cellgen/team297/bs16/current_projects/kidney_glomTI_response/data/seq_data/10X_multiome/cellranger-arc200_count_45b1a41724921d5ae562e15580bf2243 | multiome | cellranger-arc200_count_45b1a41724921d5ae562e15580bf2243 | /seq/illumina/cellranger-arc/cellranger-arc200_count_45b1a41724921d5ae562e15580bf2243 |\n",
       "| /lustre/scratch126/cellgen/team297/bs16/current_projects/kidney_glomTI_response/data/seq_data/10X_multiome/cellranger-arc200_count_eaeba636b2c180fc9041a08278bd2bc8 | multiome | cellranger-arc200_count_eaeba636b2c180fc9041a08278bd2bc8 | /seq/illumina/cellranger-arc/cellranger-arc200_count_eaeba636b2c180fc9041a08278bd2bc8 |\n",
       "| /lustre/scratch126/cellgen/team297/bs16/current_projects/kidney_glomTI_response/data/seq_data/10X_multiome/cellranger-arc200_count_a7e3f3b7368071bef84eefdb6632acd4 | multiome | cellranger-arc200_count_a7e3f3b7368071bef84eefdb6632acd4 | /seq/illumina/cellranger-arc/cellranger-arc200_count_a7e3f3b7368071bef84eefdb6632acd4 |\n",
       "| /lustre/scratch126/cellgen/team297/bs16/current_projects/kidney_glomTI_response/data/seq_data/10X_multiome/cellranger-arc200_count_1025c2e00f0348103d1c9859a69d9096 | multiome | cellranger-arc200_count_1025c2e00f0348103d1c9859a69d9096 | /seq/illumina/cellranger-arc/cellranger-arc200_count_1025c2e00f0348103d1c9859a69d9096 |\n",
       "| /lustre/scratch126/cellgen/team297/bs16/current_projects/kidney_glomTI_response/data/seq_data/10X_multiome/cellranger-arc200_count_1f05add56c821daa7f4f5f054982ad61 | multiome | cellranger-arc200_count_1f05add56c821daa7f4f5f054982ad61 | /seq/illumina/cellranger-arc/cellranger-arc200_count_1f05add56c821daa7f4f5f054982ad61 |\n",
       "\n"
      ],
      "text/plain": [
       "   directory                                                                                                                                                          \n",
       "1  /lustre/scratch126/cellgen/team297/bs16/current_projects/kidney_glomTI_response/data/seq_data/10X_multiome/cellranger-arc200_count_01cd0b1f038cca6db6a3172cce92d8b2\n",
       "2  /lustre/scratch126/cellgen/team297/bs16/current_projects/kidney_glomTI_response/data/seq_data/10X_multiome/cellranger-arc200_count_426421b13676b7ad1ab64607030fd992\n",
       "3  /lustre/scratch126/cellgen/team297/bs16/current_projects/kidney_glomTI_response/data/seq_data/10X_multiome/cellranger-arc200_count_ab64b7249f90c1a7b6b45a07813a6628\n",
       "4  /lustre/scratch126/cellgen/team297/bs16/current_projects/kidney_glomTI_response/data/seq_data/10X_multiome/cellranger-arc200_count_a7a1cc9612bab77c305d5f44b7fd527b\n",
       "5  /lustre/scratch126/cellgen/team297/bs16/current_projects/kidney_glomTI_response/data/seq_data/10X_multiome/cellranger-arc200_count_01bf5eb88f1fd6261cd273821e27ec62\n",
       "6  /lustre/scratch126/cellgen/team297/bs16/current_projects/kidney_glomTI_response/data/seq_data/10X_multiome/cellranger-arc200_count_ffb2d458cc939df2f22324fd3a5f9e66\n",
       "7  /lustre/scratch126/cellgen/team297/bs16/current_projects/kidney_glomTI_response/data/seq_data/10X_multiome/cellranger-arc200_count_4cf593ecccbf5c8b4fbe80bb80a48bef\n",
       "8  /lustre/scratch126/cellgen/team297/bs16/current_projects/kidney_glomTI_response/data/seq_data/10X_multiome/cellranger-arc200_count_74321fba0e783fce0013e58e85e71d44\n",
       "9  /lustre/scratch126/cellgen/team297/bs16/current_projects/kidney_glomTI_response/data/seq_data/10X_multiome/cellranger-arc200_count_8e59d6e5b9b4a25a7bbc7bb2467ecfab\n",
       "10 /lustre/scratch126/cellgen/team297/bs16/current_projects/kidney_glomTI_response/data/seq_data/10X_multiome/cellranger-arc200_count_6c2252bc28c267c2b3e6e944af693fdc\n",
       "11 /lustre/scratch126/cellgen/team297/bs16/current_projects/kidney_glomTI_response/data/seq_data/10X_multiome/cellranger-arc200_count_f4b032abc513453fee40a6bd05fe1c84\n",
       "12 /lustre/scratch126/cellgen/team297/bs16/current_projects/kidney_glomTI_response/data/seq_data/10X_multiome/cellranger-arc200_count_45b1a41724921d5ae562e15580bf2243\n",
       "13 /lustre/scratch126/cellgen/team297/bs16/current_projects/kidney_glomTI_response/data/seq_data/10X_multiome/cellranger-arc200_count_eaeba636b2c180fc9041a08278bd2bc8\n",
       "14 /lustre/scratch126/cellgen/team297/bs16/current_projects/kidney_glomTI_response/data/seq_data/10X_multiome/cellranger-arc200_count_a7e3f3b7368071bef84eefdb6632acd4\n",
       "15 /lustre/scratch126/cellgen/team297/bs16/current_projects/kidney_glomTI_response/data/seq_data/10X_multiome/cellranger-arc200_count_1025c2e00f0348103d1c9859a69d9096\n",
       "16 /lustre/scratch126/cellgen/team297/bs16/current_projects/kidney_glomTI_response/data/seq_data/10X_multiome/cellranger-arc200_count_1f05add56c821daa7f4f5f054982ad61\n",
       "   chemistry irods_ID                                                \n",
       "1  multiome  cellranger-arc200_count_01cd0b1f038cca6db6a3172cce92d8b2\n",
       "2  multiome  cellranger-arc200_count_426421b13676b7ad1ab64607030fd992\n",
       "3  multiome  cellranger-arc200_count_ab64b7249f90c1a7b6b45a07813a6628\n",
       "4  multiome  cellranger-arc200_count_a7a1cc9612bab77c305d5f44b7fd527b\n",
       "5  multiome  cellranger-arc200_count_01bf5eb88f1fd6261cd273821e27ec62\n",
       "6  multiome  cellranger-arc200_count_ffb2d458cc939df2f22324fd3a5f9e66\n",
       "7  multiome  cellranger-arc200_count_4cf593ecccbf5c8b4fbe80bb80a48bef\n",
       "8  multiome  cellranger-arc200_count_74321fba0e783fce0013e58e85e71d44\n",
       "9  multiome  cellranger-arc200_count_8e59d6e5b9b4a25a7bbc7bb2467ecfab\n",
       "10 multiome  cellranger-arc200_count_6c2252bc28c267c2b3e6e944af693fdc\n",
       "11 multiome  cellranger-arc200_count_f4b032abc513453fee40a6bd05fe1c84\n",
       "12 multiome  cellranger-arc200_count_45b1a41724921d5ae562e15580bf2243\n",
       "13 multiome  cellranger-arc200_count_eaeba636b2c180fc9041a08278bd2bc8\n",
       "14 multiome  cellranger-arc200_count_a7e3f3b7368071bef84eefdb6632acd4\n",
       "15 multiome  cellranger-arc200_count_1025c2e00f0348103d1c9859a69d9096\n",
       "16 multiome  cellranger-arc200_count_1f05add56c821daa7f4f5f054982ad61\n",
       "   irods_DIR                                                                            \n",
       "1  /seq/illumina/cellranger-arc/cellranger-arc200_count_01cd0b1f038cca6db6a3172cce92d8b2\n",
       "2  /seq/illumina/cellranger-arc/cellranger-arc200_count_426421b13676b7ad1ab64607030fd992\n",
       "3  /seq/illumina/cellranger-arc/cellranger-arc200_count_ab64b7249f90c1a7b6b45a07813a6628\n",
       "4  /seq/illumina/cellranger-arc/cellranger-arc200_count_a7a1cc9612bab77c305d5f44b7fd527b\n",
       "5  /seq/illumina/cellranger-arc/cellranger-arc200_count_01bf5eb88f1fd6261cd273821e27ec62\n",
       "6  /seq/illumina/cellranger-arc/cellranger-arc200_count_ffb2d458cc939df2f22324fd3a5f9e66\n",
       "7  /seq/illumina/cellranger-arc/cellranger-arc200_count_4cf593ecccbf5c8b4fbe80bb80a48bef\n",
       "8  /seq/illumina/cellranger-arc/cellranger-arc200_count_74321fba0e783fce0013e58e85e71d44\n",
       "9  /seq/illumina/cellranger-arc/cellranger-arc200_count_8e59d6e5b9b4a25a7bbc7bb2467ecfab\n",
       "10 /seq/illumina/cellranger-arc/cellranger-arc200_count_6c2252bc28c267c2b3e6e944af693fdc\n",
       "11 /seq/illumina/cellranger-arc/cellranger-arc200_count_f4b032abc513453fee40a6bd05fe1c84\n",
       "12 /seq/illumina/cellranger-arc/cellranger-arc200_count_45b1a41724921d5ae562e15580bf2243\n",
       "13 /seq/illumina/cellranger-arc/cellranger-arc200_count_eaeba636b2c180fc9041a08278bd2bc8\n",
       "14 /seq/illumina/cellranger-arc/cellranger-arc200_count_a7e3f3b7368071bef84eefdb6632acd4\n",
       "15 /seq/illumina/cellranger-arc/cellranger-arc200_count_1025c2e00f0348103d1c9859a69d9096\n",
       "16 /seq/illumina/cellranger-arc/cellranger-arc200_count_1f05add56c821daa7f4f5f054982ad61"
      ]
     },
     "metadata": {},
     "output_type": "display_data"
    }
   ],
   "source": [
    "df"
   ]
  },
  {
   "cell_type": "code",
   "execution_count": 8,
   "id": "sixth-independence",
   "metadata": {},
   "outputs": [],
   "source": [
    "write.table(df, file.path(base_dir, \"DHS_input.txt\"), row.names = FALSE,\n",
    "            quote = FALSE, col.names = FALSE, sep = \"\\t\")"
   ]
  },
  {
   "cell_type": "code",
   "execution_count": 9,
   "id": "handy-shore",
   "metadata": {},
   "outputs": [
    {
     "data": {
      "text/html": [
       "<table class=\"dataframe\">\n",
       "<caption>A data.frame: 16 × 4</caption>\n",
       "<thead>\n",
       "\t<tr><th scope=col>directory</th><th scope=col>chemistry</th><th scope=col>irods_ID</th><th scope=col>irods_DIR</th></tr>\n",
       "\t<tr><th scope=col>&lt;chr&gt;</th><th scope=col>&lt;chr&gt;</th><th scope=col>&lt;chr&gt;</th><th scope=col>&lt;chr&gt;</th></tr>\n",
       "</thead>\n",
       "<tbody>\n",
       "\t<tr><td>/lustre/scratch126/cellgen/team297/bs16/current_projects/kidney_glomTI_response/data/seq_data/10X_multiome/cellranger-arc200_count_01cd0b1f038cca6db6a3172cce92d8b2</td><td>multiome</td><td>cellranger-arc200_count_01cd0b1f038cca6db6a3172cce92d8b2</td><td>/seq/illumina/cellranger-arc/cellranger-arc200_count_01cd0b1f038cca6db6a3172cce92d8b2</td></tr>\n",
       "\t<tr><td>/lustre/scratch126/cellgen/team297/bs16/current_projects/kidney_glomTI_response/data/seq_data/10X_multiome/cellranger-arc200_count_426421b13676b7ad1ab64607030fd992</td><td>multiome</td><td>cellranger-arc200_count_426421b13676b7ad1ab64607030fd992</td><td>/seq/illumina/cellranger-arc/cellranger-arc200_count_426421b13676b7ad1ab64607030fd992</td></tr>\n",
       "\t<tr><td>/lustre/scratch126/cellgen/team297/bs16/current_projects/kidney_glomTI_response/data/seq_data/10X_multiome/cellranger-arc200_count_ab64b7249f90c1a7b6b45a07813a6628</td><td>multiome</td><td>cellranger-arc200_count_ab64b7249f90c1a7b6b45a07813a6628</td><td>/seq/illumina/cellranger-arc/cellranger-arc200_count_ab64b7249f90c1a7b6b45a07813a6628</td></tr>\n",
       "\t<tr><td>/lustre/scratch126/cellgen/team297/bs16/current_projects/kidney_glomTI_response/data/seq_data/10X_multiome/cellranger-arc200_count_a7a1cc9612bab77c305d5f44b7fd527b</td><td>multiome</td><td>cellranger-arc200_count_a7a1cc9612bab77c305d5f44b7fd527b</td><td>/seq/illumina/cellranger-arc/cellranger-arc200_count_a7a1cc9612bab77c305d5f44b7fd527b</td></tr>\n",
       "\t<tr><td>/lustre/scratch126/cellgen/team297/bs16/current_projects/kidney_glomTI_response/data/seq_data/10X_multiome/cellranger-arc200_count_01bf5eb88f1fd6261cd273821e27ec62</td><td>multiome</td><td>cellranger-arc200_count_01bf5eb88f1fd6261cd273821e27ec62</td><td>/seq/illumina/cellranger-arc/cellranger-arc200_count_01bf5eb88f1fd6261cd273821e27ec62</td></tr>\n",
       "\t<tr><td>/lustre/scratch126/cellgen/team297/bs16/current_projects/kidney_glomTI_response/data/seq_data/10X_multiome/cellranger-arc200_count_ffb2d458cc939df2f22324fd3a5f9e66</td><td>multiome</td><td>cellranger-arc200_count_ffb2d458cc939df2f22324fd3a5f9e66</td><td>/seq/illumina/cellranger-arc/cellranger-arc200_count_ffb2d458cc939df2f22324fd3a5f9e66</td></tr>\n",
       "\t<tr><td>/lustre/scratch126/cellgen/team297/bs16/current_projects/kidney_glomTI_response/data/seq_data/10X_multiome/cellranger-arc200_count_4cf593ecccbf5c8b4fbe80bb80a48bef</td><td>multiome</td><td>cellranger-arc200_count_4cf593ecccbf5c8b4fbe80bb80a48bef</td><td>/seq/illumina/cellranger-arc/cellranger-arc200_count_4cf593ecccbf5c8b4fbe80bb80a48bef</td></tr>\n",
       "\t<tr><td>/lustre/scratch126/cellgen/team297/bs16/current_projects/kidney_glomTI_response/data/seq_data/10X_multiome/cellranger-arc200_count_74321fba0e783fce0013e58e85e71d44</td><td>multiome</td><td>cellranger-arc200_count_74321fba0e783fce0013e58e85e71d44</td><td>/seq/illumina/cellranger-arc/cellranger-arc200_count_74321fba0e783fce0013e58e85e71d44</td></tr>\n",
       "\t<tr><td>/lustre/scratch126/cellgen/team297/bs16/current_projects/kidney_glomTI_response/data/seq_data/10X_multiome/cellranger-arc200_count_8e59d6e5b9b4a25a7bbc7bb2467ecfab</td><td>multiome</td><td>cellranger-arc200_count_8e59d6e5b9b4a25a7bbc7bb2467ecfab</td><td>/seq/illumina/cellranger-arc/cellranger-arc200_count_8e59d6e5b9b4a25a7bbc7bb2467ecfab</td></tr>\n",
       "\t<tr><td>/lustre/scratch126/cellgen/team297/bs16/current_projects/kidney_glomTI_response/data/seq_data/10X_multiome/cellranger-arc200_count_6c2252bc28c267c2b3e6e944af693fdc</td><td>multiome</td><td>cellranger-arc200_count_6c2252bc28c267c2b3e6e944af693fdc</td><td>/seq/illumina/cellranger-arc/cellranger-arc200_count_6c2252bc28c267c2b3e6e944af693fdc</td></tr>\n",
       "\t<tr><td>/lustre/scratch126/cellgen/team297/bs16/current_projects/kidney_glomTI_response/data/seq_data/10X_multiome/cellranger-arc200_count_f4b032abc513453fee40a6bd05fe1c84</td><td>multiome</td><td>cellranger-arc200_count_f4b032abc513453fee40a6bd05fe1c84</td><td>/seq/illumina/cellranger-arc/cellranger-arc200_count_f4b032abc513453fee40a6bd05fe1c84</td></tr>\n",
       "\t<tr><td>/lustre/scratch126/cellgen/team297/bs16/current_projects/kidney_glomTI_response/data/seq_data/10X_multiome/cellranger-arc200_count_45b1a41724921d5ae562e15580bf2243</td><td>multiome</td><td>cellranger-arc200_count_45b1a41724921d5ae562e15580bf2243</td><td>/seq/illumina/cellranger-arc/cellranger-arc200_count_45b1a41724921d5ae562e15580bf2243</td></tr>\n",
       "\t<tr><td>/lustre/scratch126/cellgen/team297/bs16/current_projects/kidney_glomTI_response/data/seq_data/10X_multiome/cellranger-arc200_count_eaeba636b2c180fc9041a08278bd2bc8</td><td>multiome</td><td>cellranger-arc200_count_eaeba636b2c180fc9041a08278bd2bc8</td><td>/seq/illumina/cellranger-arc/cellranger-arc200_count_eaeba636b2c180fc9041a08278bd2bc8</td></tr>\n",
       "\t<tr><td>/lustre/scratch126/cellgen/team297/bs16/current_projects/kidney_glomTI_response/data/seq_data/10X_multiome/cellranger-arc200_count_a7e3f3b7368071bef84eefdb6632acd4</td><td>multiome</td><td>cellranger-arc200_count_a7e3f3b7368071bef84eefdb6632acd4</td><td>/seq/illumina/cellranger-arc/cellranger-arc200_count_a7e3f3b7368071bef84eefdb6632acd4</td></tr>\n",
       "\t<tr><td>/lustre/scratch126/cellgen/team297/bs16/current_projects/kidney_glomTI_response/data/seq_data/10X_multiome/cellranger-arc200_count_1025c2e00f0348103d1c9859a69d9096</td><td>multiome</td><td>cellranger-arc200_count_1025c2e00f0348103d1c9859a69d9096</td><td>/seq/illumina/cellranger-arc/cellranger-arc200_count_1025c2e00f0348103d1c9859a69d9096</td></tr>\n",
       "\t<tr><td>/lustre/scratch126/cellgen/team297/bs16/current_projects/kidney_glomTI_response/data/seq_data/10X_multiome/cellranger-arc200_count_1f05add56c821daa7f4f5f054982ad61</td><td>multiome</td><td>cellranger-arc200_count_1f05add56c821daa7f4f5f054982ad61</td><td>/seq/illumina/cellranger-arc/cellranger-arc200_count_1f05add56c821daa7f4f5f054982ad61</td></tr>\n",
       "</tbody>\n",
       "</table>\n"
      ],
      "text/latex": [
       "A data.frame: 16 × 4\n",
       "\\begin{tabular}{llll}\n",
       " directory & chemistry & irods\\_ID & irods\\_DIR\\\\\n",
       " <chr> & <chr> & <chr> & <chr>\\\\\n",
       "\\hline\n",
       "\t /lustre/scratch126/cellgen/team297/bs16/current\\_projects/kidney\\_glomTI\\_response/data/seq\\_data/10X\\_multiome/cellranger-arc200\\_count\\_01cd0b1f038cca6db6a3172cce92d8b2 & multiome & cellranger-arc200\\_count\\_01cd0b1f038cca6db6a3172cce92d8b2 & /seq/illumina/cellranger-arc/cellranger-arc200\\_count\\_01cd0b1f038cca6db6a3172cce92d8b2\\\\\n",
       "\t /lustre/scratch126/cellgen/team297/bs16/current\\_projects/kidney\\_glomTI\\_response/data/seq\\_data/10X\\_multiome/cellranger-arc200\\_count\\_426421b13676b7ad1ab64607030fd992 & multiome & cellranger-arc200\\_count\\_426421b13676b7ad1ab64607030fd992 & /seq/illumina/cellranger-arc/cellranger-arc200\\_count\\_426421b13676b7ad1ab64607030fd992\\\\\n",
       "\t /lustre/scratch126/cellgen/team297/bs16/current\\_projects/kidney\\_glomTI\\_response/data/seq\\_data/10X\\_multiome/cellranger-arc200\\_count\\_ab64b7249f90c1a7b6b45a07813a6628 & multiome & cellranger-arc200\\_count\\_ab64b7249f90c1a7b6b45a07813a6628 & /seq/illumina/cellranger-arc/cellranger-arc200\\_count\\_ab64b7249f90c1a7b6b45a07813a6628\\\\\n",
       "\t /lustre/scratch126/cellgen/team297/bs16/current\\_projects/kidney\\_glomTI\\_response/data/seq\\_data/10X\\_multiome/cellranger-arc200\\_count\\_a7a1cc9612bab77c305d5f44b7fd527b & multiome & cellranger-arc200\\_count\\_a7a1cc9612bab77c305d5f44b7fd527b & /seq/illumina/cellranger-arc/cellranger-arc200\\_count\\_a7a1cc9612bab77c305d5f44b7fd527b\\\\\n",
       "\t /lustre/scratch126/cellgen/team297/bs16/current\\_projects/kidney\\_glomTI\\_response/data/seq\\_data/10X\\_multiome/cellranger-arc200\\_count\\_01bf5eb88f1fd6261cd273821e27ec62 & multiome & cellranger-arc200\\_count\\_01bf5eb88f1fd6261cd273821e27ec62 & /seq/illumina/cellranger-arc/cellranger-arc200\\_count\\_01bf5eb88f1fd6261cd273821e27ec62\\\\\n",
       "\t /lustre/scratch126/cellgen/team297/bs16/current\\_projects/kidney\\_glomTI\\_response/data/seq\\_data/10X\\_multiome/cellranger-arc200\\_count\\_ffb2d458cc939df2f22324fd3a5f9e66 & multiome & cellranger-arc200\\_count\\_ffb2d458cc939df2f22324fd3a5f9e66 & /seq/illumina/cellranger-arc/cellranger-arc200\\_count\\_ffb2d458cc939df2f22324fd3a5f9e66\\\\\n",
       "\t /lustre/scratch126/cellgen/team297/bs16/current\\_projects/kidney\\_glomTI\\_response/data/seq\\_data/10X\\_multiome/cellranger-arc200\\_count\\_4cf593ecccbf5c8b4fbe80bb80a48bef & multiome & cellranger-arc200\\_count\\_4cf593ecccbf5c8b4fbe80bb80a48bef & /seq/illumina/cellranger-arc/cellranger-arc200\\_count\\_4cf593ecccbf5c8b4fbe80bb80a48bef\\\\\n",
       "\t /lustre/scratch126/cellgen/team297/bs16/current\\_projects/kidney\\_glomTI\\_response/data/seq\\_data/10X\\_multiome/cellranger-arc200\\_count\\_74321fba0e783fce0013e58e85e71d44 & multiome & cellranger-arc200\\_count\\_74321fba0e783fce0013e58e85e71d44 & /seq/illumina/cellranger-arc/cellranger-arc200\\_count\\_74321fba0e783fce0013e58e85e71d44\\\\\n",
       "\t /lustre/scratch126/cellgen/team297/bs16/current\\_projects/kidney\\_glomTI\\_response/data/seq\\_data/10X\\_multiome/cellranger-arc200\\_count\\_8e59d6e5b9b4a25a7bbc7bb2467ecfab & multiome & cellranger-arc200\\_count\\_8e59d6e5b9b4a25a7bbc7bb2467ecfab & /seq/illumina/cellranger-arc/cellranger-arc200\\_count\\_8e59d6e5b9b4a25a7bbc7bb2467ecfab\\\\\n",
       "\t /lustre/scratch126/cellgen/team297/bs16/current\\_projects/kidney\\_glomTI\\_response/data/seq\\_data/10X\\_multiome/cellranger-arc200\\_count\\_6c2252bc28c267c2b3e6e944af693fdc & multiome & cellranger-arc200\\_count\\_6c2252bc28c267c2b3e6e944af693fdc & /seq/illumina/cellranger-arc/cellranger-arc200\\_count\\_6c2252bc28c267c2b3e6e944af693fdc\\\\\n",
       "\t /lustre/scratch126/cellgen/team297/bs16/current\\_projects/kidney\\_glomTI\\_response/data/seq\\_data/10X\\_multiome/cellranger-arc200\\_count\\_f4b032abc513453fee40a6bd05fe1c84 & multiome & cellranger-arc200\\_count\\_f4b032abc513453fee40a6bd05fe1c84 & /seq/illumina/cellranger-arc/cellranger-arc200\\_count\\_f4b032abc513453fee40a6bd05fe1c84\\\\\n",
       "\t /lustre/scratch126/cellgen/team297/bs16/current\\_projects/kidney\\_glomTI\\_response/data/seq\\_data/10X\\_multiome/cellranger-arc200\\_count\\_45b1a41724921d5ae562e15580bf2243 & multiome & cellranger-arc200\\_count\\_45b1a41724921d5ae562e15580bf2243 & /seq/illumina/cellranger-arc/cellranger-arc200\\_count\\_45b1a41724921d5ae562e15580bf2243\\\\\n",
       "\t /lustre/scratch126/cellgen/team297/bs16/current\\_projects/kidney\\_glomTI\\_response/data/seq\\_data/10X\\_multiome/cellranger-arc200\\_count\\_eaeba636b2c180fc9041a08278bd2bc8 & multiome & cellranger-arc200\\_count\\_eaeba636b2c180fc9041a08278bd2bc8 & /seq/illumina/cellranger-arc/cellranger-arc200\\_count\\_eaeba636b2c180fc9041a08278bd2bc8\\\\\n",
       "\t /lustre/scratch126/cellgen/team297/bs16/current\\_projects/kidney\\_glomTI\\_response/data/seq\\_data/10X\\_multiome/cellranger-arc200\\_count\\_a7e3f3b7368071bef84eefdb6632acd4 & multiome & cellranger-arc200\\_count\\_a7e3f3b7368071bef84eefdb6632acd4 & /seq/illumina/cellranger-arc/cellranger-arc200\\_count\\_a7e3f3b7368071bef84eefdb6632acd4\\\\\n",
       "\t /lustre/scratch126/cellgen/team297/bs16/current\\_projects/kidney\\_glomTI\\_response/data/seq\\_data/10X\\_multiome/cellranger-arc200\\_count\\_1025c2e00f0348103d1c9859a69d9096 & multiome & cellranger-arc200\\_count\\_1025c2e00f0348103d1c9859a69d9096 & /seq/illumina/cellranger-arc/cellranger-arc200\\_count\\_1025c2e00f0348103d1c9859a69d9096\\\\\n",
       "\t /lustre/scratch126/cellgen/team297/bs16/current\\_projects/kidney\\_glomTI\\_response/data/seq\\_data/10X\\_multiome/cellranger-arc200\\_count\\_1f05add56c821daa7f4f5f054982ad61 & multiome & cellranger-arc200\\_count\\_1f05add56c821daa7f4f5f054982ad61 & /seq/illumina/cellranger-arc/cellranger-arc200\\_count\\_1f05add56c821daa7f4f5f054982ad61\\\\\n",
       "\\end{tabular}\n"
      ],
      "text/markdown": [
       "\n",
       "A data.frame: 16 × 4\n",
       "\n",
       "| directory &lt;chr&gt; | chemistry &lt;chr&gt; | irods_ID &lt;chr&gt; | irods_DIR &lt;chr&gt; |\n",
       "|---|---|---|---|\n",
       "| /lustre/scratch126/cellgen/team297/bs16/current_projects/kidney_glomTI_response/data/seq_data/10X_multiome/cellranger-arc200_count_01cd0b1f038cca6db6a3172cce92d8b2 | multiome | cellranger-arc200_count_01cd0b1f038cca6db6a3172cce92d8b2 | /seq/illumina/cellranger-arc/cellranger-arc200_count_01cd0b1f038cca6db6a3172cce92d8b2 |\n",
       "| /lustre/scratch126/cellgen/team297/bs16/current_projects/kidney_glomTI_response/data/seq_data/10X_multiome/cellranger-arc200_count_426421b13676b7ad1ab64607030fd992 | multiome | cellranger-arc200_count_426421b13676b7ad1ab64607030fd992 | /seq/illumina/cellranger-arc/cellranger-arc200_count_426421b13676b7ad1ab64607030fd992 |\n",
       "| /lustre/scratch126/cellgen/team297/bs16/current_projects/kidney_glomTI_response/data/seq_data/10X_multiome/cellranger-arc200_count_ab64b7249f90c1a7b6b45a07813a6628 | multiome | cellranger-arc200_count_ab64b7249f90c1a7b6b45a07813a6628 | /seq/illumina/cellranger-arc/cellranger-arc200_count_ab64b7249f90c1a7b6b45a07813a6628 |\n",
       "| /lustre/scratch126/cellgen/team297/bs16/current_projects/kidney_glomTI_response/data/seq_data/10X_multiome/cellranger-arc200_count_a7a1cc9612bab77c305d5f44b7fd527b | multiome | cellranger-arc200_count_a7a1cc9612bab77c305d5f44b7fd527b | /seq/illumina/cellranger-arc/cellranger-arc200_count_a7a1cc9612bab77c305d5f44b7fd527b |\n",
       "| /lustre/scratch126/cellgen/team297/bs16/current_projects/kidney_glomTI_response/data/seq_data/10X_multiome/cellranger-arc200_count_01bf5eb88f1fd6261cd273821e27ec62 | multiome | cellranger-arc200_count_01bf5eb88f1fd6261cd273821e27ec62 | /seq/illumina/cellranger-arc/cellranger-arc200_count_01bf5eb88f1fd6261cd273821e27ec62 |\n",
       "| /lustre/scratch126/cellgen/team297/bs16/current_projects/kidney_glomTI_response/data/seq_data/10X_multiome/cellranger-arc200_count_ffb2d458cc939df2f22324fd3a5f9e66 | multiome | cellranger-arc200_count_ffb2d458cc939df2f22324fd3a5f9e66 | /seq/illumina/cellranger-arc/cellranger-arc200_count_ffb2d458cc939df2f22324fd3a5f9e66 |\n",
       "| /lustre/scratch126/cellgen/team297/bs16/current_projects/kidney_glomTI_response/data/seq_data/10X_multiome/cellranger-arc200_count_4cf593ecccbf5c8b4fbe80bb80a48bef | multiome | cellranger-arc200_count_4cf593ecccbf5c8b4fbe80bb80a48bef | /seq/illumina/cellranger-arc/cellranger-arc200_count_4cf593ecccbf5c8b4fbe80bb80a48bef |\n",
       "| /lustre/scratch126/cellgen/team297/bs16/current_projects/kidney_glomTI_response/data/seq_data/10X_multiome/cellranger-arc200_count_74321fba0e783fce0013e58e85e71d44 | multiome | cellranger-arc200_count_74321fba0e783fce0013e58e85e71d44 | /seq/illumina/cellranger-arc/cellranger-arc200_count_74321fba0e783fce0013e58e85e71d44 |\n",
       "| /lustre/scratch126/cellgen/team297/bs16/current_projects/kidney_glomTI_response/data/seq_data/10X_multiome/cellranger-arc200_count_8e59d6e5b9b4a25a7bbc7bb2467ecfab | multiome | cellranger-arc200_count_8e59d6e5b9b4a25a7bbc7bb2467ecfab | /seq/illumina/cellranger-arc/cellranger-arc200_count_8e59d6e5b9b4a25a7bbc7bb2467ecfab |\n",
       "| /lustre/scratch126/cellgen/team297/bs16/current_projects/kidney_glomTI_response/data/seq_data/10X_multiome/cellranger-arc200_count_6c2252bc28c267c2b3e6e944af693fdc | multiome | cellranger-arc200_count_6c2252bc28c267c2b3e6e944af693fdc | /seq/illumina/cellranger-arc/cellranger-arc200_count_6c2252bc28c267c2b3e6e944af693fdc |\n",
       "| /lustre/scratch126/cellgen/team297/bs16/current_projects/kidney_glomTI_response/data/seq_data/10X_multiome/cellranger-arc200_count_f4b032abc513453fee40a6bd05fe1c84 | multiome | cellranger-arc200_count_f4b032abc513453fee40a6bd05fe1c84 | /seq/illumina/cellranger-arc/cellranger-arc200_count_f4b032abc513453fee40a6bd05fe1c84 |\n",
       "| /lustre/scratch126/cellgen/team297/bs16/current_projects/kidney_glomTI_response/data/seq_data/10X_multiome/cellranger-arc200_count_45b1a41724921d5ae562e15580bf2243 | multiome | cellranger-arc200_count_45b1a41724921d5ae562e15580bf2243 | /seq/illumina/cellranger-arc/cellranger-arc200_count_45b1a41724921d5ae562e15580bf2243 |\n",
       "| /lustre/scratch126/cellgen/team297/bs16/current_projects/kidney_glomTI_response/data/seq_data/10X_multiome/cellranger-arc200_count_eaeba636b2c180fc9041a08278bd2bc8 | multiome | cellranger-arc200_count_eaeba636b2c180fc9041a08278bd2bc8 | /seq/illumina/cellranger-arc/cellranger-arc200_count_eaeba636b2c180fc9041a08278bd2bc8 |\n",
       "| /lustre/scratch126/cellgen/team297/bs16/current_projects/kidney_glomTI_response/data/seq_data/10X_multiome/cellranger-arc200_count_a7e3f3b7368071bef84eefdb6632acd4 | multiome | cellranger-arc200_count_a7e3f3b7368071bef84eefdb6632acd4 | /seq/illumina/cellranger-arc/cellranger-arc200_count_a7e3f3b7368071bef84eefdb6632acd4 |\n",
       "| /lustre/scratch126/cellgen/team297/bs16/current_projects/kidney_glomTI_response/data/seq_data/10X_multiome/cellranger-arc200_count_1025c2e00f0348103d1c9859a69d9096 | multiome | cellranger-arc200_count_1025c2e00f0348103d1c9859a69d9096 | /seq/illumina/cellranger-arc/cellranger-arc200_count_1025c2e00f0348103d1c9859a69d9096 |\n",
       "| /lustre/scratch126/cellgen/team297/bs16/current_projects/kidney_glomTI_response/data/seq_data/10X_multiome/cellranger-arc200_count_1f05add56c821daa7f4f5f054982ad61 | multiome | cellranger-arc200_count_1f05add56c821daa7f4f5f054982ad61 | /seq/illumina/cellranger-arc/cellranger-arc200_count_1f05add56c821daa7f4f5f054982ad61 |\n",
       "\n"
      ],
      "text/plain": [
       "   directory                                                                                                                                                          \n",
       "1  /lustre/scratch126/cellgen/team297/bs16/current_projects/kidney_glomTI_response/data/seq_data/10X_multiome/cellranger-arc200_count_01cd0b1f038cca6db6a3172cce92d8b2\n",
       "2  /lustre/scratch126/cellgen/team297/bs16/current_projects/kidney_glomTI_response/data/seq_data/10X_multiome/cellranger-arc200_count_426421b13676b7ad1ab64607030fd992\n",
       "3  /lustre/scratch126/cellgen/team297/bs16/current_projects/kidney_glomTI_response/data/seq_data/10X_multiome/cellranger-arc200_count_ab64b7249f90c1a7b6b45a07813a6628\n",
       "4  /lustre/scratch126/cellgen/team297/bs16/current_projects/kidney_glomTI_response/data/seq_data/10X_multiome/cellranger-arc200_count_a7a1cc9612bab77c305d5f44b7fd527b\n",
       "5  /lustre/scratch126/cellgen/team297/bs16/current_projects/kidney_glomTI_response/data/seq_data/10X_multiome/cellranger-arc200_count_01bf5eb88f1fd6261cd273821e27ec62\n",
       "6  /lustre/scratch126/cellgen/team297/bs16/current_projects/kidney_glomTI_response/data/seq_data/10X_multiome/cellranger-arc200_count_ffb2d458cc939df2f22324fd3a5f9e66\n",
       "7  /lustre/scratch126/cellgen/team297/bs16/current_projects/kidney_glomTI_response/data/seq_data/10X_multiome/cellranger-arc200_count_4cf593ecccbf5c8b4fbe80bb80a48bef\n",
       "8  /lustre/scratch126/cellgen/team297/bs16/current_projects/kidney_glomTI_response/data/seq_data/10X_multiome/cellranger-arc200_count_74321fba0e783fce0013e58e85e71d44\n",
       "9  /lustre/scratch126/cellgen/team297/bs16/current_projects/kidney_glomTI_response/data/seq_data/10X_multiome/cellranger-arc200_count_8e59d6e5b9b4a25a7bbc7bb2467ecfab\n",
       "10 /lustre/scratch126/cellgen/team297/bs16/current_projects/kidney_glomTI_response/data/seq_data/10X_multiome/cellranger-arc200_count_6c2252bc28c267c2b3e6e944af693fdc\n",
       "11 /lustre/scratch126/cellgen/team297/bs16/current_projects/kidney_glomTI_response/data/seq_data/10X_multiome/cellranger-arc200_count_f4b032abc513453fee40a6bd05fe1c84\n",
       "12 /lustre/scratch126/cellgen/team297/bs16/current_projects/kidney_glomTI_response/data/seq_data/10X_multiome/cellranger-arc200_count_45b1a41724921d5ae562e15580bf2243\n",
       "13 /lustre/scratch126/cellgen/team297/bs16/current_projects/kidney_glomTI_response/data/seq_data/10X_multiome/cellranger-arc200_count_eaeba636b2c180fc9041a08278bd2bc8\n",
       "14 /lustre/scratch126/cellgen/team297/bs16/current_projects/kidney_glomTI_response/data/seq_data/10X_multiome/cellranger-arc200_count_a7e3f3b7368071bef84eefdb6632acd4\n",
       "15 /lustre/scratch126/cellgen/team297/bs16/current_projects/kidney_glomTI_response/data/seq_data/10X_multiome/cellranger-arc200_count_1025c2e00f0348103d1c9859a69d9096\n",
       "16 /lustre/scratch126/cellgen/team297/bs16/current_projects/kidney_glomTI_response/data/seq_data/10X_multiome/cellranger-arc200_count_1f05add56c821daa7f4f5f054982ad61\n",
       "   chemistry irods_ID                                                \n",
       "1  multiome  cellranger-arc200_count_01cd0b1f038cca6db6a3172cce92d8b2\n",
       "2  multiome  cellranger-arc200_count_426421b13676b7ad1ab64607030fd992\n",
       "3  multiome  cellranger-arc200_count_ab64b7249f90c1a7b6b45a07813a6628\n",
       "4  multiome  cellranger-arc200_count_a7a1cc9612bab77c305d5f44b7fd527b\n",
       "5  multiome  cellranger-arc200_count_01bf5eb88f1fd6261cd273821e27ec62\n",
       "6  multiome  cellranger-arc200_count_ffb2d458cc939df2f22324fd3a5f9e66\n",
       "7  multiome  cellranger-arc200_count_4cf593ecccbf5c8b4fbe80bb80a48bef\n",
       "8  multiome  cellranger-arc200_count_74321fba0e783fce0013e58e85e71d44\n",
       "9  multiome  cellranger-arc200_count_8e59d6e5b9b4a25a7bbc7bb2467ecfab\n",
       "10 multiome  cellranger-arc200_count_6c2252bc28c267c2b3e6e944af693fdc\n",
       "11 multiome  cellranger-arc200_count_f4b032abc513453fee40a6bd05fe1c84\n",
       "12 multiome  cellranger-arc200_count_45b1a41724921d5ae562e15580bf2243\n",
       "13 multiome  cellranger-arc200_count_eaeba636b2c180fc9041a08278bd2bc8\n",
       "14 multiome  cellranger-arc200_count_a7e3f3b7368071bef84eefdb6632acd4\n",
       "15 multiome  cellranger-arc200_count_1025c2e00f0348103d1c9859a69d9096\n",
       "16 multiome  cellranger-arc200_count_1f05add56c821daa7f4f5f054982ad61\n",
       "   irods_DIR                                                                            \n",
       "1  /seq/illumina/cellranger-arc/cellranger-arc200_count_01cd0b1f038cca6db6a3172cce92d8b2\n",
       "2  /seq/illumina/cellranger-arc/cellranger-arc200_count_426421b13676b7ad1ab64607030fd992\n",
       "3  /seq/illumina/cellranger-arc/cellranger-arc200_count_ab64b7249f90c1a7b6b45a07813a6628\n",
       "4  /seq/illumina/cellranger-arc/cellranger-arc200_count_a7a1cc9612bab77c305d5f44b7fd527b\n",
       "5  /seq/illumina/cellranger-arc/cellranger-arc200_count_01bf5eb88f1fd6261cd273821e27ec62\n",
       "6  /seq/illumina/cellranger-arc/cellranger-arc200_count_ffb2d458cc939df2f22324fd3a5f9e66\n",
       "7  /seq/illumina/cellranger-arc/cellranger-arc200_count_4cf593ecccbf5c8b4fbe80bb80a48bef\n",
       "8  /seq/illumina/cellranger-arc/cellranger-arc200_count_74321fba0e783fce0013e58e85e71d44\n",
       "9  /seq/illumina/cellranger-arc/cellranger-arc200_count_8e59d6e5b9b4a25a7bbc7bb2467ecfab\n",
       "10 /seq/illumina/cellranger-arc/cellranger-arc200_count_6c2252bc28c267c2b3e6e944af693fdc\n",
       "11 /seq/illumina/cellranger-arc/cellranger-arc200_count_f4b032abc513453fee40a6bd05fe1c84\n",
       "12 /seq/illumina/cellranger-arc/cellranger-arc200_count_45b1a41724921d5ae562e15580bf2243\n",
       "13 /seq/illumina/cellranger-arc/cellranger-arc200_count_eaeba636b2c180fc9041a08278bd2bc8\n",
       "14 /seq/illumina/cellranger-arc/cellranger-arc200_count_a7e3f3b7368071bef84eefdb6632acd4\n",
       "15 /seq/illumina/cellranger-arc/cellranger-arc200_count_1025c2e00f0348103d1c9859a69d9096\n",
       "16 /seq/illumina/cellranger-arc/cellranger-arc200_count_1f05add56c821daa7f4f5f054982ad61"
      ]
     },
     "metadata": {},
     "output_type": "display_data"
    }
   ],
   "source": [
    "df"
   ]
  },
  {
   "cell_type": "code",
   "execution_count": null,
   "id": "attached-house",
   "metadata": {},
   "outputs": [],
   "source": []
  }
 ],
 "metadata": {
  "kernelspec": {
   "display_name": "R",
   "language": "R",
   "name": "ir"
  },
  "language_info": {
   "codemirror_mode": "r",
   "file_extension": ".r",
   "mimetype": "text/x-r-source",
   "name": "R",
   "pygments_lexer": "r",
   "version": "4.0.4"
  }
 },
 "nbformat": 4,
 "nbformat_minor": 5
}

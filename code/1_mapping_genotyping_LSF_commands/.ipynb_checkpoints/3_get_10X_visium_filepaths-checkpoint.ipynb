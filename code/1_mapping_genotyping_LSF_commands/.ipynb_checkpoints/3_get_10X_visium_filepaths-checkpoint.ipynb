{
 "cells": [
  {
   "cell_type": "code",
   "execution_count": 1,
   "id": "medium-impossible",
   "metadata": {},
   "outputs": [],
   "source": [
    "setwd(\"~/lustre/scratch126/cellgen/team297/bs16/current_projects/kidney_glomTI_response/data/seq_data\")"
   ]
  },
  {
   "cell_type": "code",
   "execution_count": 2,
   "id": "permanent-wednesday",
   "metadata": {},
   "outputs": [],
   "source": [
    "seq_inventory = read.csv(\"~/nfs/team297/bs16/sample_donor_data/sequencing_inventory.csv\")"
   ]
  },
  {
   "cell_type": "code",
   "execution_count": 3,
   "id": "awful-trace",
   "metadata": {},
   "outputs": [],
   "source": [
    "seq_inventory = seq_inventory[seq_inventory$experiment %in% \"10X_visium_FFPE\", ]"
   ]
  },
  {
   "cell_type": "code",
   "execution_count": 4,
   "id": "proof-rental",
   "metadata": {},
   "outputs": [],
   "source": [
    "seq_inventory = seq_inventory[!length(seq_inventory$irods_ID) == 0, ]"
   ]
  },
  {
   "cell_type": "code",
   "execution_count": 5,
   "id": "thick-ground",
   "metadata": {},
   "outputs": [],
   "source": [
    "write.table(gsub(\" \", \"\", seq_inventory$irods_dir), \"./visium/visium_irods.txt\",\n",
    "          sep = \" \", dec = \".\",\n",
    "            row.names = FALSE, col.names = FALSE, quote = FALSE)"
   ]
  },
  {
   "cell_type": "code",
   "execution_count": 6,
   "id": "human-brief",
   "metadata": {},
   "outputs": [],
   "source": [
    "write.table(gsub(\" \", \"\", seq_inventory$irods_ID), \"./visium/visium_slides.txt\",\n",
    "          sep = \" \", dec = \".\",\n",
    "            row.names = FALSE, col.names = FALSE, quote = FALSE)"
   ]
  }
 ],
 "metadata": {
  "kernelspec": {
   "display_name": "R",
   "language": "R",
   "name": "ir"
  },
  "language_info": {
   "codemirror_mode": "r",
   "file_extension": ".r",
   "mimetype": "text/x-r-source",
   "name": "R",
   "pygments_lexer": "r",
   "version": "4.0.4"
  }
 },
 "nbformat": 4,
 "nbformat_minor": 5
}

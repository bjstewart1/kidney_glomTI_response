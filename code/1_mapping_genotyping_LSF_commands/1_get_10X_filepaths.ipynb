{
 "cells": [
  {
   "cell_type": "code",
   "execution_count": 1,
   "id": "complicated-shoot",
   "metadata": {},
   "outputs": [],
   "source": [
    "setwd(\"~/lustre/scratch126/cellgen/team297/bs16/current_projects/kidney_glomTI_response/data/seq_data\")"
   ]
  },
  {
   "cell_type": "code",
   "execution_count": 2,
   "id": "renewable-penguin",
   "metadata": {},
   "outputs": [],
   "source": [
    "#10X3p\n",
    "seq_inventory = read.csv(\"~/nfs/team297/bs16/sample_donor_data/sequencing_inventory.csv\")"
   ]
  },
  {
   "cell_type": "code",
   "execution_count": 3,
   "id": "extended-button",
   "metadata": {},
   "outputs": [],
   "source": [
    "seq_inventory = seq_inventory[seq_inventory$experiment %in% \"10X_3'_V3\", ]"
   ]
  },
  {
   "cell_type": "code",
   "execution_count": 4,
   "id": "devoted-miracle",
   "metadata": {},
   "outputs": [],
   "source": [
    "seq_inventory = seq_inventory[seq_inventory$tissue %in% c(\"Glomerulus_single_cell_suspension\", \n",
    "                                  \"kidney_single_cell_suspension\",\n",
    "                                  \"PBMC_single_cell_suspension\",\n",
    "                                  \"TI_compartment_single_cell_suspension\",\n",
    "                                  \"TI_compartment_single_cell_suspension_AND_Glomerulus_single_cell_suspension\",\n",
    "                              \"spleen_myeloid_single_cell_suspension\", \n",
    "                              \"spleen_lymphoid_single_cell_suspension\",\n",
    "                              \"lymph_node_lymphoid_single_cell_suspension\",\n",
    "                              \"lymph_node_myeloid_single_cell_suspension\",\n",
    "                                                          \"lymph_node_single_cell_suspension\",\n",
    "                              \"lung_single_cell_suspension\"),\n",
    "                              ]"
   ]
  },
  {
   "cell_type": "code",
   "execution_count": 5,
   "id": "random-castle",
   "metadata": {},
   "outputs": [],
   "source": [
    "write.table(gsub(\" \", \"\", seq_inventory$irods_dir), \"./10X_3p/3p_irods.txt\",\n",
    "          sep = \" \", dec = \".\",\n",
    "            row.names = FALSE, col.names = FALSE, quote = FALSE)"
   ]
  },
  {
   "cell_type": "code",
   "execution_count": 6,
   "id": "printable-writing",
   "metadata": {},
   "outputs": [],
   "source": [
    "write.table(seq_inventory$irods_ID, \n",
    "            \"./10X_3p/3p_channels.txt\",\n",
    "            sep = \" \", dec = \".\",\n",
    "            row.names = FALSE, col.names = FALSE, quote = FALSE)"
   ]
  },
  {
   "cell_type": "code",
   "execution_count": 7,
   "id": "elegant-hierarchy",
   "metadata": {},
   "outputs": [],
   "source": [
    "#10X ATAC\n",
    "seq_inventory = read.csv(\"~/nfs/team297/bs16/sample_donor_data/sequencing_inventory.csv\")\n",
    "seq_inventory = seq_inventory[seq_inventory$experiment %in% \"10X_ATACseq\", ]\n",
    "seq_inventory = seq_inventory[!seq_inventory$poor_QC, ]"
   ]
  },
  {
   "cell_type": "code",
   "execution_count": 8,
   "id": "explicit-reset",
   "metadata": {},
   "outputs": [],
   "source": [
    "write.table(gsub(\" \", \"\", seq_inventory$irods_dir), \"./10X_snATACseq/ATAC_irods.txt\",\n",
    "          sep = \" \", dec = \".\",\n",
    "            row.names = FALSE, col.names = FALSE, quote = FALSE)\n",
    "write.table(seq_inventory$irods_ID, \n",
    "            \"./10X_snATACseq/ATAC_channels.txt\",\n",
    "            sep = \" \", dec = \".\",\n",
    "            row.names = FALSE, col.names = FALSE, quote = FALSE)"
   ]
  },
  {
   "cell_type": "code",
   "execution_count": 9,
   "id": "consistent-carnival",
   "metadata": {},
   "outputs": [],
   "source": [
    "#10X multiome\n",
    "seq_inventory = read.csv(\"~/nfs/team297/bs16/sample_donor_data/sequencing_inventory.csv\")\n"
   ]
  },
  {
   "cell_type": "code",
   "execution_count": 10,
   "id": "round-luther",
   "metadata": {},
   "outputs": [
    {
     "data": {
      "text/plain": [
       "\n",
       "                          10X_3'_V3                         10X_ATACseq \n",
       "                                 92                                  10 \n",
       "                  10X_multiome_ATAC                    10X_multiome_GEX \n",
       "                                 27                                  27 \n",
       "                         10X_visium                     10X_visium_FFPE \n",
       "                                  4                                  20 \n",
       "                       bulk_RNA_seq                      PARSE_RNAseqV1 \n",
       "                                 42                                  13 \n",
       "     Single_glomerulus_SS2_96wp_LCM Single_glomerulus_SS2_96wp_pipetted \n",
       "                                  2                                   2 \n",
       "                            Storage \n",
       "                                  1 "
      ]
     },
     "metadata": {},
     "output_type": "display_data"
    }
   ],
   "source": [
    "table(seq_inventory$experiment)"
   ]
  },
  {
   "cell_type": "code",
   "execution_count": 11,
   "id": "frozen-injection",
   "metadata": {},
   "outputs": [],
   "source": [
    "seq_inventory = seq_inventory[seq_inventory$experiment %in% \"10X_multiome_ATAC\", ]\n",
    "seq_inventory = seq_inventory[!seq_inventory$poor_QC, ]\n",
    "seq_inventory = seq_inventory[seq_inventory$tissue %in% \"kidney_single_nucleus_suspension\", ]"
   ]
  },
  {
   "cell_type": "code",
   "execution_count": 12,
   "id": "future-amazon",
   "metadata": {},
   "outputs": [],
   "source": [
    "write.table(gsub(\" \", \"\", seq_inventory$irods_dir), \"./10X_multiome/multiome_irods.txt\",\n",
    "          sep = \" \", dec = \".\",\n",
    "            row.names = FALSE, col.names = FALSE, quote = FALSE)\n",
    "write.table(seq_inventory$irods_ID, \n",
    "            \"./10X_multiome/multiome_channels.txt\",\n",
    "            sep = \" \", dec = \".\",\n",
    "            row.names = FALSE, col.names = FALSE, quote = FALSE)"
   ]
  }
 ],
 "metadata": {
  "kernelspec": {
   "display_name": "R",
   "language": "R",
   "name": "ir"
  },
  "language_info": {
   "codemirror_mode": "r",
   "file_extension": ".r",
   "mimetype": "text/x-r-source",
   "name": "R",
   "pygments_lexer": "r",
   "version": "4.0.4"
  }
 },
 "nbformat": 4,
 "nbformat_minor": 5
}

{
 "cells": [
  {
   "cell_type": "code",
   "execution_count": 1,
   "id": "official-spanish",
   "metadata": {},
   "outputs": [
    {
     "name": "stderr",
     "output_type": "stream",
     "text": [
      "Warning message:\n",
      "“\u001b[1m\u001b[22mThe `size` argument of `element_rect()` is deprecated as of ggplot2 3.4.0.\n",
      "\u001b[36mℹ\u001b[39m Please use the `linewidth` argument instead.”\n"
     ]
    }
   ],
   "source": [
    "#marker genes\n",
    "setwd(\"~/ben_lustre/current_projects/kidney_glomTI_response\")\n",
    "suppressPackageStartupMessages(source(\"https://raw.githubusercontent.com/bjstewart1/helpful_singlecell/main/functions.R\"))\n",
    "ad <- import(\"anndata\")\n",
    "sc <- import(\"scanpy\")\n",
    "clean_theme <- theme_bw() + theme(axis.text = element_text(color = \"black\"), axis.title = element_text(color = \"black\"))"
   ]
  },
  {
   "cell_type": "code",
   "execution_count": null,
   "id": "distributed-foster",
   "metadata": {},
   "outputs": [],
   "source": [
    "### single cell atlas\n",
    "sc_adata = sc$read_h5ad('./data/annotated/scRNAseq_glom_TI_kidney.h5ad')"
   ]
  },
  {
   "cell_type": "code",
   "execution_count": null,
   "id": "continental-digest",
   "metadata": {},
   "outputs": [],
   "source": [
    "sc_atlas_markers = tfidf_all_markers(sc_adata, groups = 'cell_type')"
   ]
  },
  {
   "cell_type": "code",
   "execution_count": null,
   "id": "breathing-shuttle",
   "metadata": {},
   "outputs": [],
   "source": [
    "sc_markers = do.call(rbind, lapply(names(sc_atlas_markers), function(x){mrk = sc_atlas_markers[[x]]\n",
    "                                           mrk$cell_type = x\n",
    "                                            return(mrk[1:50, ])}))"
   ]
  },
  {
   "cell_type": "code",
   "execution_count": null,
   "id": "respiratory-console",
   "metadata": {},
   "outputs": [],
   "source": [
    "write.csv(sc_markers, \"./data/markers/sc_atlas_markers.csv\")"
   ]
  },
  {
   "cell_type": "code",
   "execution_count": 2,
   "id": "dutch-launch",
   "metadata": {},
   "outputs": [],
   "source": [
    "mo_adata = sc$read_h5ad(\"./data/annotated/multiome_adata.h5ad\")"
   ]
  },
  {
   "cell_type": "code",
   "execution_count": 3,
   "id": "speaking-solid",
   "metadata": {},
   "outputs": [],
   "source": [
    "mo_adata = py_eval(\"r.mo_adata[:, r.mo_adata.var['feature_types'].isin(['Gene Expression'])]\")"
   ]
  },
  {
   "cell_type": "code",
   "execution_count": 4,
   "id": "devoted-investor",
   "metadata": {},
   "outputs": [
    {
     "name": "stderr",
     "output_type": "stream",
     "text": [
      "using all genes\n",
      "\n",
      "Loading required package: parallel\n",
      "\n"
     ]
    }
   ],
   "source": [
    "multiome_atlas_markers = tfidf_all_markers(mo_adata, groups = 'cell_type')"
   ]
  },
  {
   "cell_type": "code",
   "execution_count": 5,
   "id": "american-tissue",
   "metadata": {},
   "outputs": [],
   "source": [
    "mo_markers = do.call(rbind, lapply(names(multiome_atlas_markers), function(x){mrk = multiome_atlas_markers[[x]]\n",
    "                                           mrk$cell_type = x\n",
    "                                            return(mrk[1:50, ])}))"
   ]
  },
  {
   "cell_type": "code",
   "execution_count": 6,
   "id": "heated-anthropology",
   "metadata": {},
   "outputs": [],
   "source": [
    "write.csv(mo_markers, \"./data/markers/mo_atlas_markers.csv\")"
   ]
  },
  {
   "cell_type": "code",
   "execution_count": 13,
   "id": "humanitarian-stereo",
   "metadata": {},
   "outputs": [],
   "source": [
    "### single cell perfusion atlas\n",
    "sc_perfusion_adata = sc$read_h5ad('./data/annotated/scRNAseq_perturbation_kidney.h5ad')"
   ]
  },
  {
   "cell_type": "code",
   "execution_count": 14,
   "id": "hidden-perth",
   "metadata": {},
   "outputs": [
    {
     "name": "stderr",
     "output_type": "stream",
     "text": [
      "using all genes\n",
      "\n"
     ]
    }
   ],
   "source": [
    "sc_perfusion_markers = tfidf_all_markers(sc_perfusion_adata, groups = 'cell_type')"
   ]
  },
  {
   "cell_type": "code",
   "execution_count": 15,
   "id": "hidden-birmingham",
   "metadata": {},
   "outputs": [],
   "source": [
    "perfusion_markers = do.call(rbind, lapply(names(sc_perfusion_markers), function(x){mrk = sc_perfusion_markers[[x]]\n",
    "                                           mrk$cell_type = x\n",
    "                                            return(mrk[1:50, ])}))"
   ]
  },
  {
   "cell_type": "code",
   "execution_count": 16,
   "id": "accepting-definition",
   "metadata": {},
   "outputs": [],
   "source": [
    "write.csv(perfusion_markers, \"./data/markers/perfusion_markers.csv\")"
   ]
  },
  {
   "cell_type": "code",
   "execution_count": 3,
   "id": "separated-glasgow",
   "metadata": {},
   "outputs": [],
   "source": [
    "#sortseq data\n",
    "sortseq = sc$read_h5ad(\"./data/annotated/perfusion_sortseq.h5ad\")"
   ]
  },
  {
   "cell_type": "code",
   "execution_count": 10,
   "id": "incredible-average",
   "metadata": {},
   "outputs": [
    {
     "name": "stderr",
     "output_type": "stream",
     "text": [
      "using all genes\n",
      "\n"
     ]
    }
   ],
   "source": [
    "sortseq_markers = tfidf_all_markers(sortseq, groups = 'cell_type')"
   ]
  },
  {
   "cell_type": "code",
   "execution_count": 11,
   "id": "civil-penguin",
   "metadata": {},
   "outputs": [],
   "source": [
    "sortseq_markers = do.call(rbind, lapply(names(sortseq_markers), function(x){mrk = sortseq_markers[[x]]\n",
    "                                           mrk$cell_type = x\n",
    "                                          f  return(mrk[1:50, ])}))"
   ]
  },
  {
   "cell_type": "code",
   "execution_count": 12,
   "id": "protected-turning",
   "metadata": {},
   "outputs": [],
   "source": [
    "write.csv(sortseq_markers, \"./data/markers/sortseq_markers.csv\")"
   ]
  },
  {
   "cell_type": "code",
   "execution_count": 2,
   "id": "naughty-purpose",
   "metadata": {},
   "outputs": [],
   "source": [
    "immune = sc$read_h5ad(\"./data/annotated/scRNAseq_glom_TI_kidney_immune_compartment.h5ad\")"
   ]
  },
  {
   "cell_type": "code",
   "execution_count": 3,
   "id": "analyzed-springer",
   "metadata": {},
   "outputs": [
    {
     "name": "stderr",
     "output_type": "stream",
     "text": [
      "using all genes\n",
      "\n",
      "Loading required package: parallel\n",
      "\n"
     ]
    }
   ],
   "source": [
    "immune_markers = tfidf_all_markers(immune, groups = 'cell_type')"
   ]
  },
  {
   "cell_type": "code",
   "execution_count": 5,
   "id": "architectural-settlement",
   "metadata": {},
   "outputs": [],
   "source": [
    "immune_markers = do.call(rbind, lapply(names(immune_markers), function(x){mrk = immune_markers[[x]]\n",
    "                                           mrk$cell_type = x\n",
    "                                          return(mrk[1:50, ])}))"
   ]
  },
  {
   "cell_type": "code",
   "execution_count": 6,
   "id": "correct-source",
   "metadata": {},
   "outputs": [],
   "source": [
    "write.csv(immune_markers, \"./data/markers/immune_markers.csv\")"
   ]
  },
  {
   "cell_type": "code",
   "execution_count": null,
   "id": "quiet-database",
   "metadata": {},
   "outputs": [],
   "source": [
    "#response genesets "
   ]
  }
 ],
 "metadata": {
  "kernelspec": {
   "display_name": "R 4.2",
   "language": "R",
   "name": "ir42"
  },
  "language_info": {
   "codemirror_mode": "r",
   "file_extension": ".r",
   "mimetype": "text/x-r-source",
   "name": "R",
   "pygments_lexer": "r",
   "version": "4.2.3"
  }
 },
 "nbformat": 4,
 "nbformat_minor": 5
}

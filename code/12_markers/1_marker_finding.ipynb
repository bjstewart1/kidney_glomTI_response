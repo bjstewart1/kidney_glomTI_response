{
 "cells": [
  {
   "cell_type": "code",
   "execution_count": 1,
   "id": "front-palmer",
   "metadata": {},
   "outputs": [
    {
     "name": "stderr",
     "output_type": "stream",
     "text": [
      "Warning message:\n",
      "“\u001b[1m\u001b[22mThe `size` argument of `element_rect()` is deprecated as of ggplot2 3.4.0.\n",
      "\u001b[36mℹ\u001b[39m Please use the `linewidth` argument instead.”\n"
     ]
    }
   ],
   "source": [
    "#marker genes\n",
    "setwd(\"~/ben_lustre/current_projects/kidney_glomTI_response\")\n",
    "suppressPackageStartupMessages(source(\"https://raw.githubusercontent.com/bjstewart1/helpful_singlecell/main/functions.R\"))\n",
    "ad <- import(\"anndata\")\n",
    "sc <- import(\"scanpy\")\n",
    "clean_theme <- theme_bw() + theme(axis.text = element_text(color = \"black\"), axis.title = element_text(color = \"black\"))"
   ]
  },
  {
   "cell_type": "code",
   "execution_count": null,
   "id": "neither-precipitation",
   "metadata": {},
   "outputs": [],
   "source": [
    "### single cell atlas\n",
    "sc_adata = sc$read_h5ad('./data/annotated/scRNAseq_glom_TI_kidney.h5ad')"
   ]
  },
  {
   "cell_type": "code",
   "execution_count": null,
   "id": "innocent-traveler",
   "metadata": {},
   "outputs": [],
   "source": [
    "sc_atlas_markers = tfidf_all_markers(sc_adata, groups = 'cell_type')"
   ]
  },
  {
   "cell_type": "code",
   "execution_count": null,
   "id": "insured-intention",
   "metadata": {},
   "outputs": [],
   "source": [
    "sc_markers = do.call(rbind, lapply(names(sc_atlas_markers), function(x){mrk = sc_atlas_markers[[x]]\n",
    "                                           mrk$cell_type = x\n",
    "                                            return(mrk[1:50, ])}))"
   ]
  },
  {
   "cell_type": "code",
   "execution_count": null,
   "id": "noted-talent",
   "metadata": {},
   "outputs": [],
   "source": [
    "write.csv(sc_markers, \"./data/markers/sc_atlas_markers.csv\")"
   ]
  },
  {
   "cell_type": "code",
   "execution_count": null,
   "id": "advisory-calvin",
   "metadata": {},
   "outputs": [],
   "source": [
    "mo_adata = sc$read_h5ad(\"./data/annotated/multiome_adata.h5ad\")"
   ]
  },
  {
   "cell_type": "code",
   "execution_count": null,
   "id": "right-norfolk",
   "metadata": {},
   "outputs": [],
   "source": [
    "mo_adata = py_eval(\"r.mo_adata[:, r.mo_adata.var['feature_types'].isin(['Gene Expression'])]\")"
   ]
  },
  {
   "cell_type": "code",
   "execution_count": null,
   "id": "beginning-hamburg",
   "metadata": {},
   "outputs": [],
   "source": [
    "multiome_atlas_markers = tfidf_all_markers(mo_adata, groups = 'cell_type')"
   ]
  },
  {
   "cell_type": "code",
   "execution_count": null,
   "id": "expected-jacksonville",
   "metadata": {},
   "outputs": [],
   "source": [
    "mo_markers = do.call(rbind, lapply(names(multiome_atlas_markers), function(x){mrk = multiome_atlas_markers[[x]]\n",
    "                                           mrk$cell_type = x\n",
    "                                            return(mrk[1:50, ])}))"
   ]
  },
  {
   "cell_type": "code",
   "execution_count": null,
   "id": "amended-battle",
   "metadata": {},
   "outputs": [],
   "source": [
    "write.csv(mo_markers, \"./data/markers/mo_atlas_markers.csv\")"
   ]
  },
  {
   "cell_type": "code",
   "execution_count": null,
   "id": "taken-vision",
   "metadata": {},
   "outputs": [],
   "source": [
    "### single cell perfusion atlas\n",
    "sc_perfusion_adata = sc$read_h5ad('./data/annotated/scRNAseq_perturbation_kidney.h5ad')"
   ]
  },
  {
   "cell_type": "code",
   "execution_count": null,
   "id": "american-checklist",
   "metadata": {},
   "outputs": [],
   "source": [
    "sc_perfusion_markers = tfidf_all_markers(sc_perfusion_adata, groups = 'cell_type')"
   ]
  },
  {
   "cell_type": "code",
   "execution_count": null,
   "id": "criminal-spank",
   "metadata": {},
   "outputs": [],
   "source": [
    "perfusion_markers = do.call(rbind, lapply(names(sc_perfusion_markers), function(x){mrk = sc_perfusion_markers[[x]]\n",
    "                                           mrk$cell_type = x\n",
    "                                            return(mrk[1:50, ])}))"
   ]
  },
  {
   "cell_type": "code",
   "execution_count": null,
   "id": "brave-syracuse",
   "metadata": {},
   "outputs": [],
   "source": [
    "write.csv(perfusion_markers, \"./data/markers/perfusion_markers.csv\")"
   ]
  },
  {
   "cell_type": "code",
   "execution_count": null,
   "id": "secret-surgery",
   "metadata": {},
   "outputs": [],
   "source": [
    "#sortseq data\n",
    "sortseq = sc$read_h5ad(\"./data/annotated/perfusion_sortseq.h5ad\")"
   ]
  },
  {
   "cell_type": "code",
   "execution_count": null,
   "id": "located-answer",
   "metadata": {},
   "outputs": [],
   "source": [
    "sortseq_markers = tfidf_all_markers(sortseq, groups = 'cell_type')"
   ]
  },
  {
   "cell_type": "code",
   "execution_count": null,
   "id": "conscious-swift",
   "metadata": {},
   "outputs": [],
   "source": [
    "sortseq_markers = do.call(rbind, lapply(names(sortseq_markers), function(x){mrk = sortseq_markers[[x]]\n",
    "                                           mrk$cell_type = x\n",
    "                                          f  return(mrk[1:50, ])}))"
   ]
  },
  {
   "cell_type": "code",
   "execution_count": null,
   "id": "ethical-supervisor",
   "metadata": {},
   "outputs": [],
   "source": [
    "write.csv(sortseq_markers, \"./data/markers/sortseq_markers.csv\")"
   ]
  },
  {
   "cell_type": "code",
   "execution_count": null,
   "id": "lightweight-memorial",
   "metadata": {},
   "outputs": [],
   "source": [
    "immune = sc$read_h5ad(\"./data/annotated/scRNAseq_glom_TI_kidney_immune_compartment.h5ad\")"
   ]
  },
  {
   "cell_type": "code",
   "execution_count": null,
   "id": "offensive-frontier",
   "metadata": {},
   "outputs": [],
   "source": [
    "immune_markers = tfidf_all_markers(immune, groups = 'cell_type')"
   ]
  },
  {
   "cell_type": "code",
   "execution_count": null,
   "id": "documented-structure",
   "metadata": {},
   "outputs": [],
   "source": [
    "immune_markers = do.call(rbind, lapply(names(immune_markers), function(x){mrk = immune_markers[[x]]\n",
    "                                           mrk$cell_type = x\n",
    "                                          return(mrk[1:50, ])}))"
   ]
  },
  {
   "cell_type": "code",
   "execution_count": null,
   "id": "static-reader",
   "metadata": {},
   "outputs": [],
   "source": [
    "write.csv(immune_markers, \"./data/markers/immune_markers.csv\")"
   ]
  },
  {
   "cell_type": "code",
   "execution_count": 16,
   "id": "exciting-fifteen",
   "metadata": {},
   "outputs": [],
   "source": [
    "#response genesets \n",
    "#get the response genesets \n",
    "response_sig_dir = './data/da_results/perfusion/response_signatures'\n",
    "response_genesets = do.call(rbind, lapply(c(\"GEC\", \"NK1\", \"classical_monocyte\"), function(x){\n",
    "    read.csv(file.path(response_sig_dir, paste0(x, \"_response_geneset.csv\")))\n",
    "}))\n",
    "response_genesets = data.frame(response_genesets)[, -1]\n",
    "colnames(response_genesets)[1] = 'gene'"
   ]
  },
  {
   "cell_type": "code",
   "execution_count": 19,
   "id": "challenging-vienna",
   "metadata": {},
   "outputs": [],
   "source": [
    "write.csv(response_genesets, \"./data/da_results/perfusion/response_signatures/aggregated_response_signatures.csv\")"
   ]
  },
  {
   "cell_type": "code",
   "execution_count": null,
   "id": "genetic-traveler",
   "metadata": {},
   "outputs": [],
   "source": []
  }
 ],
 "metadata": {
  "kernelspec": {
   "display_name": "R 4.2",
   "language": "R",
   "name": "ir42"
  },
  "language_info": {
   "codemirror_mode": "r",
   "file_extension": ".r",
   "mimetype": "text/x-r-source",
   "name": "R",
   "pygments_lexer": "r",
   "version": "4.2.3"
  }
 },
 "nbformat": 4,
 "nbformat_minor": 5
}

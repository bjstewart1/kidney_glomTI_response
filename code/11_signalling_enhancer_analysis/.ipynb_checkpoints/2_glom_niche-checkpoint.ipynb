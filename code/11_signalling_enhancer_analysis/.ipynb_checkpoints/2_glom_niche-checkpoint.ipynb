{
 "cells": [
  {
   "cell_type": "code",
   "execution_count": 1,
   "id": "uniform-apartment",
   "metadata": {},
   "outputs": [],
   "source": [
    "#glom niche cellphoneDB"
   ]
  },
  {
   "cell_type": "code",
   "execution_count": 2,
   "id": "featured-norfolk",
   "metadata": {},
   "outputs": [
    {
     "name": "stderr",
     "output_type": "stream",
     "text": [
      "Warning message:\n",
      "“\u001b[1m\u001b[22mThe `size` argument of `element_rect()` is deprecated as of ggplot2 3.4.0.\n",
      "\u001b[36mℹ\u001b[39m Please use the `linewidth` argument instead.”\n"
     ]
    }
   ],
   "source": [
    "project_dir = \"~/ben_lustre/current_projects/kidney_glomTI_response\"\n",
    "setwd(project_dir)\n",
    "suppressPackageStartupMessages(source(\"https://raw.githubusercontent.com/bjstewart1/helpful_singlecell/main/functions.R\"))\n",
    "ad <- import(\"anndata\")\n",
    "sc <- import(\"scanpy\")\n",
    "scv <- import(\"scvelo\")\n",
    "sp = import(\"scipy\")\n",
    "clean_theme <- theme_bw() + theme(axis.text = element_text(color = \"black\"), axis.title = element_text(color = \"black\"))\n",
    "library(ktplots)"
   ]
  },
  {
   "cell_type": "code",
   "execution_count": 3,
   "id": "nominated-depth",
   "metadata": {},
   "outputs": [
    {
     "data": {
      "text/plain": [
       "python:         /home/jovyan/my-conda-envs/myenv/bin/python\n",
       "libpython:      /home/jovyan/my-conda-envs/myenv/lib/libpython3.9.so\n",
       "pythonhome:     /home/jovyan/my-conda-envs/myenv:/home/jovyan/my-conda-envs/myenv\n",
       "version:        3.9.14 | packaged by conda-forge | (main, Nov 21 2022, 13:18:18)  [GCC 10.4.0]\n",
       "numpy:          /home/jovyan/my-conda-envs/myenv/lib/python3.9/site-packages/numpy\n",
       "numpy_version:  1.22.4\n",
       "\n",
       "NOTE: Python version was forced by RETICULATE_PYTHON"
      ]
     },
     "metadata": {},
     "output_type": "display_data"
    }
   ],
   "source": [
    "py_config()"
   ]
  },
  {
   "cell_type": "code",
   "execution_count": 4,
   "id": "scenic-rogers",
   "metadata": {},
   "outputs": [],
   "source": [
    "adata = sc$read_h5ad(\"./data/cellphoneDB/glom/input_adata.h5ad\")"
   ]
  },
  {
   "cell_type": "code",
   "execution_count": 5,
   "id": "certified-modification",
   "metadata": {},
   "outputs": [
    {
     "name": "stderr",
     "output_type": "stream",
     "text": [
      "Warning message in asMethod(object):\n",
      "“sparse->dense coercion: allocating vector of size 23.9 GiB”\n"
     ]
    }
   ],
   "source": [
    "#convert it to singlecellexperiment format \n",
    "library(SingleCellExperiment)\n",
    "#raw_adata = adata$uns['raw_adata'][adata$obs_names]$copy()\n",
    "#raw_adata$obs = adata$obs\n",
    "#adata = raw_adata$copy()\n",
    "sce = SingleCellExperiment(list(logcounts = as.matrix(t(adata$X))), \n",
    "                           colData = adata$obs, rowData = adata$var)"
   ]
  },
  {
   "cell_type": "code",
   "execution_count": 6,
   "id": "about-chile",
   "metadata": {},
   "outputs": [],
   "source": [
    "glomti_cpdb = 'data/cellphoneDB/glom'\n",
    "fls = list.files(glomti_cpdb)\n",
    "pvals = grep(\"pvalues\", fls, value = T)\n",
    "means = grep(\"statistical_analysis_means\", fls, value = T)\n",
    "deconvoluted = grep(\"deconvoluted\", fls, value = T)"
   ]
  },
  {
   "cell_type": "code",
   "execution_count": 7,
   "id": "abstract-decision",
   "metadata": {},
   "outputs": [],
   "source": [
    "pvals <- read.delim(file.path(glomti_cpdb, pvals), check.names = FALSE)\n",
    "means <- read.delim(file.path(glomti_cpdb, means), check.names = FALSE)\n",
    "deconvoluted <- read.delim(file.path(glomti_cpdb, deconvoluted), check.names = FALSE)"
   ]
  },
  {
   "cell_type": "code",
   "execution_count": 10,
   "id": "clinical-deviation",
   "metadata": {},
   "outputs": [],
   "source": [
    "options(repr.plot.width=18, repr.plot.height=8)\n",
    "pl = plot_cpdb(cell_type1 = 'podocyte|^MC|GEC', cell_type2 = 'classical_monocyte|NK1', scdata = sce, keep_significant_only = TRUE, \n",
    "\tidents = 'cell_type', # column name where the cell ids are located in the metadata\n",
    "\tmeans = means, pvals = pvals, gene.family = c('chemokine', 'niche', 'cytokine'),\n",
    "         standard_scale = TRUE, cluster_rows = TRUE, highlight = 'grey10', \n",
    "              col_option = viridis::magma(100)) +\n",
    "small_axis(fontsize = 15) + small_grid() + coord_fixed()# some helper functions included in ktplots to help with the plotting"
   ]
  },
  {
   "cell_type": "code",
   "execution_count": 12,
   "id": "caring-landscape",
   "metadata": {},
   "outputs": [
    {
     "data": {
      "text/html": [
       "<strong>png:</strong> 2"
      ],
      "text/latex": [
       "\\textbf{png:} 2"
      ],
      "text/markdown": [
       "**png:** 2"
      ],
      "text/plain": [
       "png \n",
       "  2 "
      ]
     },
     "metadata": {},
     "output_type": "display_data"
    }
   ],
   "source": [
    "pdf(file = \"figures/cellphonedb_glomTI_glom_niche.pdf\",\n",
    "    width = 20, \n",
    "    height = 10) \n",
    "pl #egg is useful for keeping stuff the same size\n",
    "dev.off()"
   ]
  },
  {
   "cell_type": "code",
   "execution_count": null,
   "id": "coated-particle",
   "metadata": {},
   "outputs": [],
   "source": []
  }
 ],
 "metadata": {
  "kernelspec": {
   "display_name": "R 4.2",
   "language": "R",
   "name": "ir42"
  },
  "language_info": {
   "codemirror_mode": "r",
   "file_extension": ".r",
   "mimetype": "text/x-r-source",
   "name": "R",
   "pygments_lexer": "r",
   "version": "4.2.2"
  }
 },
 "nbformat": 4,
 "nbformat_minor": 5
}

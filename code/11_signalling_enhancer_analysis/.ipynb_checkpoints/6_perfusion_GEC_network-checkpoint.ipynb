{
 "cells": [
  {
   "cell_type": "code",
   "execution_count": 1,
   "id": "alleged-seafood",
   "metadata": {},
   "outputs": [
    {
     "name": "stderr",
     "output_type": "stream",
     "text": [
      "\n",
      "Attaching package: ‘dplyr’\n",
      "\n",
      "\n",
      "The following objects are masked from ‘package:stats’:\n",
      "\n",
      "    filter, lag\n",
      "\n",
      "\n",
      "The following objects are masked from ‘package:base’:\n",
      "\n",
      "    intersect, setdiff, setequal, union\n",
      "\n",
      "\n",
      "Warning message:\n",
      "“package ‘reticulate’ was built under R version 4.2.3”\n",
      "Warning message:\n",
      "“\u001b[1m\u001b[22mThe `size` argument of `element_rect()` is deprecated as of ggplot2 3.4.0.\n",
      "\u001b[36mℹ\u001b[39m Please use the `linewidth` argument instead.”\n",
      "Registered S3 method overwritten by 'zellkonverter':\n",
      "  method                from      \n",
      "  py_to_r.numpy.ndarray reticulate\n",
      "\n",
      "Loading required package: ensembldb\n",
      "\n",
      "Loading required package: GenomicFeatures\n",
      "\n",
      "Loading required package: AnnotationDbi\n",
      "\n",
      "\n",
      "Attaching package: ‘AnnotationDbi’\n",
      "\n",
      "\n",
      "The following object is masked from ‘package:dplyr’:\n",
      "\n",
      "    select\n",
      "\n",
      "\n",
      "Loading required package: AnnotationFilter\n",
      "\n",
      "\n",
      "Attaching package: ‘AnnotationFilter’\n",
      "\n",
      "\n",
      "The following object is masked from ‘package:magrittr’:\n",
      "\n",
      "    not\n",
      "\n",
      "\n",
      "\n",
      "Attaching package: 'ensembldb'\n",
      "\n",
      "\n",
      "The following object is masked from 'package:dplyr':\n",
      "\n",
      "    filter\n",
      "\n",
      "\n",
      "The following object is masked from 'package:stats':\n",
      "\n",
      "    filter\n",
      "\n",
      "\n",
      "Attaching SeuratObject\n",
      "\n",
      "\n",
      "Attaching package: 'Seurat'\n",
      "\n",
      "\n",
      "The following object is masked from 'package:SummarizedExperiment':\n",
      "\n",
      "    Assays\n",
      "\n",
      "\n"
     ]
    }
   ],
   "source": [
    "#make a network analysis of transcription factor - target signalling in GECs.... \n",
    "library(OmnipathR)\n",
    "library(magrittr)\n",
    "library(dplyr)\n",
    "library(decoupleR)\n",
    "#link peaks to genes\n",
    "setwd(\"~/ben_lustre/current_projects/kidney_glomTI_response\")\n",
    "suppressPackageStartupMessages(source(\"https://raw.githubusercontent.com/bjstewart1/helpful_singlecell/main/functions.R\"))\n",
    "ad <- import(\"anndata\")\n",
    "sc <- import(\"scanpy\")\n",
    "sp <- import(\"scipy\")\n",
    "mu <- import(\"muon\")\n",
    "library(GenomicRanges)\n",
    "library(Pando)\n",
    "library(Signac)\n",
    "library(zellkonverter)\n",
    "library(GenomicRanges)\n",
    "library(Pando)\n",
    "library(GenomeInfoDb)\n",
    "library(EnsDb.Hsapiens.v86)\n",
    "library(Signac)\n",
    "library(Seurat)"
   ]
  },
  {
   "cell_type": "code",
   "execution_count": 2,
   "id": "sustained-cargo",
   "metadata": {},
   "outputs": [],
   "source": [
    "collectri_regulons = OmnipathR::collectri(organism=9606L, genesymbols=TRUE, loops=TRUE)"
   ]
  },
  {
   "cell_type": "code",
   "execution_count": 3,
   "id": "viral-worship",
   "metadata": {},
   "outputs": [],
   "source": [
    "regulons = lapply(unique(collectri_regulons$source_genesymbol), function(x){\n",
    "    collectri_regulons[collectri_regulons$source_genesymbol %in% x, c('source_genesymbol','target_genesymbol')]\n",
    "})\n",
    "names(regulons) = unique(collectri_regulons$source_genesymbol)"
   ]
  },
  {
   "cell_type": "code",
   "execution_count": 4,
   "id": "smaller-chess",
   "metadata": {},
   "outputs": [],
   "source": [
    "full_ppi_targets = c('IL6', 'CXCL1', 'CXCL2', 'CXCL3', 'CXCL8', 'CSF3', 'CCL2', 'TGFB3', 'TGFB2', 'KITLG', 'HBEGF',\n",
    "'IL2RA', 'IL15RA', 'TNFRSF1A', 'TACR1', 'PLAUR', 'SDC4',\n",
    "'SELE', 'ICAM1', 'ICAM4', 'JAM3','PVR', 'ITGB3', 'NINJ1', 'CD83', 'CD200', 'ITGA9', 'CD55',\n",
    "'IRAK2', 'TNIP1', 'TNFAIP1', 'TNFAIP2', 'TNFAIP3','TRAF1', 'TRAF3', 'MAP2K3', 'IRF1', 'SMAD3', 'NFIL3', 'NRIP1',\n",
    "'HSPA1A', 'HSPA1B', 'HSPA6', 'CRYAB', 'HSPA8','DNAJA1', 'DNAJA4', 'HSPE1', 'HSPD1', 'DNAJB4', 'HSP90AA1', 'HSPB1', 'HSP90AB1', 'DNAJB6', 'HSPA9',\n",
    "'NFKB1', 'NFKB2', 'NFKBIA', 'NR4A2', 'NFAT5', 'BCL6', 'BCL3', 'BHLHE40', 'ATF3', 'SOX7', 'IER5', 'FOSL1', 'CREB5', 'ETS1')\n",
    "#this is the subset that we plot in figure 3\n",
    "ppi_targets =c(\n",
    "    'IL6',\n",
    "  'CXCL1','CXCL2','CXCL3','CXCL8','CSF3','CCL2',\n",
    "  'TGFB2','HBEGF','IL2RA', 'IL15RA', 'TACR1', 'PLAUR', 'SDC4','SELE', 'ICAM1', 'ITGB3', 'NINJ1', 'CD83', 'CD55','IRAK2',\n",
    "  'TNIP1','TNFAIP2','TNFAIP3','TRAF1','TRAF3','IRF1','NRIP1',\n",
    "'NFKB1', 'NFKB2', 'NR4A2', 'BCL3', 'ATF3', 'FOSL1', 'ETS1')"
   ]
  },
  {
   "cell_type": "code",
   "execution_count": 5,
   "id": "funded-invalid",
   "metadata": {},
   "outputs": [],
   "source": [
    "#get the transcription factor activity differential expression\n",
    "setwd(\"/lustre/scratch126/cellgen/team297/bs16/current_projects/kidney_glomTI_response\")\n",
    "gec_tf = read.csv('./data/TF_activities/GEC_perfusion_DEG_TF_activities.csv', sep = '\\t', row.names = 1)\n",
    "gec_tf_p = read.csv('./data/TF_activities/GEC_perfusion_DEG_TF_pvals.csv', sep = '\\t', row.names = 1)\n",
    "gec_tf = cbind(gec_tf, gec_tf_p)\n",
    "colnames(gec_tf) = c(\"lfc_mean\", \"lfc_p\")\n",
    "gec_tf = gec_tf[order(gec_tf$lfc_mean, decreasing = T), ]\n",
    "signf = gec_tf[gec_tf$lfc_p < 0.0001 & gec_tf$lfc_mean > 2, ]\n",
    "#get regulons that are significant\n",
    "significant_regulons = do.call(rbind, regulons[rownames(signf)])\n",
    "all_tfs = unique(significant_regulons$source_genesymbol)\n",
    "\n",
    "#now subset to the genes that we find in our response signature\n",
    "#response_signature = read.csv(\"./data/da_results/perfusion/response_signatures/GEC_response_geneset.csv\")\n",
    "#significant_regulons = significant_regulons[significant_regulons$target_genesymbol %in% response_signature$X, ]\n",
    "significant_regulons = significant_regulons[significant_regulons$target_genesymbol %in% ppi_targets, ]\n",
    "#make a graph from this\n",
    "library(igraph)\n",
    "significant_regulon_graph = graph_from_edgelist(as.matrix(significant_regulons), directed = FALSE)"
   ]
  },
  {
   "cell_type": "code",
   "execution_count": 6,
   "id": "comfortable-hospital",
   "metadata": {},
   "outputs": [],
   "source": [
    "#now do pagerank on this graph\n",
    "pr = data.frame(\"gene\" = names(page_rank(significant_regulon_graph)$vector), \"pr\" = page_rank(significant_regulon_graph)$vector)\n",
    "#order by pagerank score\n",
    "pr = pr[order(pr$pr, decreasing = TRUE), ]\n",
    "#get the TFS\n",
    "pr_tfs = pr[pr$gene %in% all_tfs, ]\n",
    "#get the targets\n",
    "pr_targets =  pr[!pr$gene %in% all_tfs, ]\n",
    "\n",
    "#this is a graph which defines the skeleton\n",
    "targets = pr_targets$gene\n",
    "tfs = pr_tfs$gene\n",
    "el1 <- data.frame(\"from\" = \"root\", \"to\" = c(\"TF\", \"TARGET\"))\n",
    "el2 <- data.frame(\"from\" = \"TF\", \"to\" = paste0(tfs, \"_\", \"TF\"))\n",
    "el3 <- data.frame(\"from\" = \"TARGET\", \"to\" = paste0(targets, \"_\", \"target\"))\n",
    "master_el <- do.call(rbind, list(el1, el2, el3))\n",
    "gr <- graph_from_edgelist(as.matrix(master_el))\n",
    "V(gr)$type = 'root'\n",
    "V(gr)$type[grep(\"TF\", V(gr)$name)] = 'TF'\n",
    "V(gr)$type[grep(\"target\", V(gr)$name)] = 'target'\n",
    "#then establish the node order on the basis of the pagerank scores\n",
    "target_order = paste0(ppi_targets, \"_\", \"target\") [paste0(ppi_targets, \"_\", \"target\") %in% V(gr)$name]\n",
    "node_order = c(\"root\", \"TF\", \"TARGET\", paste0(pr_tfs$gene, \"_\", \"TF\"), rev(paste0(pr_targets$gene, \"_\", \"target\"))) #order them with the TF first then the target\n",
    "#node_order = c(\"root\", \"TF\", \"TARGET\", paste0(pr_tfs$gene, \"_\", \"TF\"), rev(target_order)) #order them with the TF first then the target\n",
    "\n",
    "gr = permute(gr, match(V(gr)$name, node_order))"
   ]
  },
  {
   "cell_type": "code",
   "execution_count": 7,
   "id": "available-energy",
   "metadata": {},
   "outputs": [],
   "source": [
    "ig_gr = significant_regulons\n",
    "colnames(ig_gr) <- c(\"from\", \"to\")\n",
    "ig_gr$from = paste0(ig_gr$from, \"_\", \"TF\")\n",
    "ig_gr$to = paste0(ig_gr$to, \"_\", \"target\")\n",
    "ig_gr = ig_gr[ig_gr$to %in% V(gr)$name, ]\n",
    "from = match( ig_gr$from, V(gr)$name)\n",
    "to = match(ig_gr$to, V(gr)$name)"
   ]
  },
  {
   "cell_type": "raw",
   "id": "elect-professor",
   "metadata": {},
   "source": [
    "#now we add in protein protein interactions \n",
    "ppi <-\n",
    "    import_omnipath_interactions(\n",
    "        datasets = 'omnipath',\n",
    "        entity_types = 'protein'\n",
    "    )\n",
    "interaction_genes = lapply(strsplit(V(gr)$name, \"_\"), function(x){x[1]})\n",
    "pp_interactions = ppi[ppi$source_genesymbol %in% interaction_genes & ppi$target_genesymbol %in% interaction_genes, 3:4]\n",
    "interactions_tf = unique(pp_interactions[apply(pp_interactions, 2, function(x){x %in% all_tfs}) ])\n",
    "pp_interactions = do.call(rbind, lapply(1:nrow(pp_interactions), function(x){\n",
    "    source = pp_interactions[x, 1]\n",
    "    target = pp_interactions[x, 2]\n",
    "    if(source %in% interactions_tf){\n",
    "        source = paste0(source, \"_\", \"TF\")\n",
    "    }else{\n",
    "        source = paste0(source, \"_\", \"target\")\n",
    "    }\n",
    "    if(target %in% interactions_tf){\n",
    "                target = paste0(target, \"_\", \"TF\")\n",
    "    }else{\n",
    "        target = paste0(target, \"_\", \"target\")\n",
    "    }\n",
    "    data.frame(\"source\" = source, \"target\" = target)\n",
    "}))\n",
    "from2 = match( pp_interactions$source, V(gr)$name)\n",
    "to2 = match(pp_interactions$target, V(gr)$name)\n",
    "from = c(from, from2)\n",
    "to = c(to, to2)"
   ]
  },
  {
   "cell_type": "code",
   "execution_count": 9,
   "id": "proper-banking",
   "metadata": {},
   "outputs": [
    {
     "name": "stderr",
     "output_type": "stream",
     "text": [
      "Warning message:\n",
      "\"\u001b[1m\u001b[22mUsing the `size` aesthetic in this geom was deprecated in ggplot2 3.4.0.\n",
      "\u001b[36mℹ\u001b[39m Please use `linewidth` in the `default_aes` field and elsewhere instead.\"\n"
     ]
    },
    {
     "data": {
      "text/html": [
       "<strong>png:</strong> 2"
      ],
      "text/latex": [
       "\\textbf{png:} 2"
      ],
      "text/markdown": [
       "**png:** 2"
      ],
      "text/plain": [
       "png \n",
       "  2 "
      ]
     },
     "metadata": {},
     "output_type": "display_data"
    }
   ],
   "source": [
    "#save this graph\n",
    "library(ggraph)\n",
    "pdf(\"./figures/GEC_TF_network.pdf\", width = 10, height = 10)\n",
    "ggraph(gr, layout = 'dendrogram', circular = TRUE) + geom_node_point(pch =19, aes(filter = leaf)) + \n",
    "geom_conn_bundle(data = get_con(from = from, to =  to), \n",
    "                   alpha=0.2, color = 'grey30', tension = 0.6) +  coord_fixed() + \n",
    "geom_node_label(aes(label = name, filter = leaf, fill = type) )\n",
    "dev.off()"
   ]
  },
  {
   "cell_type": "code",
   "execution_count": null,
   "id": "mental-logic",
   "metadata": {},
   "outputs": [],
   "source": []
  }
 ],
 "metadata": {
  "kernelspec": {
   "display_name": "R 4.2",
   "language": "R",
   "name": "ir42"
  },
  "language_info": {
   "codemirror_mode": "r",
   "file_extension": ".r",
   "mimetype": "text/x-r-source",
   "name": "R",
   "pygments_lexer": "r",
   "version": "4.2.2"
  }
 },
 "nbformat": 4,
 "nbformat_minor": 5
}

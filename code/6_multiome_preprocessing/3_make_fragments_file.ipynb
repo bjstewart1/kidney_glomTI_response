{
 "cells": [
  {
   "cell_type": "code",
   "execution_count": 1,
   "id": "according-scout",
   "metadata": {},
   "outputs": [],
   "source": [
    "setwd(\"~/ben_lustre/current_projects/kidney_glomTI_response/data/seq_data/10X_multiome\")"
   ]
  },
  {
   "cell_type": "code",
   "execution_count": 2,
   "id": "searching-program",
   "metadata": {},
   "outputs": [],
   "source": [
    "aggregation = read.csv(\"aggregation.csv\")"
   ]
  },
  {
   "cell_type": "code",
   "execution_count": 3,
   "id": "three-commission",
   "metadata": {},
   "outputs": [],
   "source": [
    "seq_inventory = read.csv(\"~/ben_nfs/sample_donor_data/sequencing_inventory.csv\")\n",
    "seq_inventory = seq_inventory[seq_inventory$experiment %in% \"10X_multiome_ATAC\", ] \n",
    "rownames(seq_inventory) = seq_inventory$irods_ID\n",
    "seq_inventory = seq_inventory[aggregation$library_id, ]\n",
    "aggregation$sangerID = seq_inventory$sanger_ID"
   ]
  },
  {
   "cell_type": "code",
   "execution_count": 4,
   "id": "rubber-stress",
   "metadata": {},
   "outputs": [],
   "source": [
    "library(data.table)\n",
    "fragments = fread('./multiome_aggr/outs/atac_fragments.tsv.gz')"
   ]
  },
  {
   "cell_type": "code",
   "execution_count": 5,
   "id": "utility-liquid",
   "metadata": {},
   "outputs": [],
   "source": [
    "cellnames = unique(fragments$V4)\n",
    "cellsplits = strsplit(cellnames, \"-\")\n",
    "channel = unlist(lapply(cellsplits, function(x){x[[2]]}))\n",
    "channel = aggregation[channel, 'sangerID']\n",
    "barcode = paste0(unlist(lapply(cellsplits, function(x){x[[1]]})), \"-1\")\n",
    "cbc = paste0(channel, \"_\", barcode)"
   ]
  },
  {
   "cell_type": "code",
   "execution_count": 6,
   "id": "graduate-distributor",
   "metadata": {},
   "outputs": [],
   "source": [
    "df = data.frame(cellnames, cbc)\n",
    "rownames(df) = cellnames"
   ]
  },
  {
   "cell_type": "code",
   "execution_count": 7,
   "id": "animal-cigarette",
   "metadata": {},
   "outputs": [
    {
     "data": {
      "text/html": [
       "<table class=\"dataframe\">\n",
       "<caption>A data.frame: 6 × 2</caption>\n",
       "<thead>\n",
       "\t<tr><th></th><th scope=col>cellnames</th><th scope=col>cbc</th></tr>\n",
       "\t<tr><th></th><th scope=col>&lt;chr&gt;</th><th scope=col>&lt;chr&gt;</th></tr>\n",
       "</thead>\n",
       "<tbody>\n",
       "\t<tr><th scope=row>CTTCGCGTCGACAAAG-16</th><td>CTTCGCGTCGACAAAG-16</td><td>Well_KID10340600_CTTCGCGTCGACAAAG-1</td></tr>\n",
       "\t<tr><th scope=row>CAATATGTCCTTGAGG-1</th><td>CAATATGTCCTTGAGG-1 </td><td>Well_KID10340599_CAATATGTCCTTGAGG-1</td></tr>\n",
       "\t<tr><th scope=row>CCAATATCACAATGCC-1</th><td>CCAATATCACAATGCC-1 </td><td>Well_KID10340599_CCAATATCACAATGCC-1</td></tr>\n",
       "\t<tr><th scope=row>CTATAACCACCTAATG-1</th><td>CTATAACCACCTAATG-1 </td><td>Well_KID10340599_CTATAACCACCTAATG-1</td></tr>\n",
       "\t<tr><th scope=row>AGTAACCTCGGTTTCC-16</th><td>AGTAACCTCGGTTTCC-16</td><td>Well_KID10340600_AGTAACCTCGGTTTCC-1</td></tr>\n",
       "\t<tr><th scope=row>ATAGATGCAGGATAAC-1</th><td>ATAGATGCAGGATAAC-1 </td><td>Well_KID10340599_ATAGATGCAGGATAAC-1</td></tr>\n",
       "</tbody>\n",
       "</table>\n"
      ],
      "text/latex": [
       "A data.frame: 6 × 2\n",
       "\\begin{tabular}{r|ll}\n",
       "  & cellnames & cbc\\\\\n",
       "  & <chr> & <chr>\\\\\n",
       "\\hline\n",
       "\tCTTCGCGTCGACAAAG-16 & CTTCGCGTCGACAAAG-16 & Well\\_KID10340600\\_CTTCGCGTCGACAAAG-1\\\\\n",
       "\tCAATATGTCCTTGAGG-1 & CAATATGTCCTTGAGG-1  & Well\\_KID10340599\\_CAATATGTCCTTGAGG-1\\\\\n",
       "\tCCAATATCACAATGCC-1 & CCAATATCACAATGCC-1  & Well\\_KID10340599\\_CCAATATCACAATGCC-1\\\\\n",
       "\tCTATAACCACCTAATG-1 & CTATAACCACCTAATG-1  & Well\\_KID10340599\\_CTATAACCACCTAATG-1\\\\\n",
       "\tAGTAACCTCGGTTTCC-16 & AGTAACCTCGGTTTCC-16 & Well\\_KID10340600\\_AGTAACCTCGGTTTCC-1\\\\\n",
       "\tATAGATGCAGGATAAC-1 & ATAGATGCAGGATAAC-1  & Well\\_KID10340599\\_ATAGATGCAGGATAAC-1\\\\\n",
       "\\end{tabular}\n"
      ],
      "text/markdown": [
       "\n",
       "A data.frame: 6 × 2\n",
       "\n",
       "| <!--/--> | cellnames &lt;chr&gt; | cbc &lt;chr&gt; |\n",
       "|---|---|---|\n",
       "| CTTCGCGTCGACAAAG-16 | CTTCGCGTCGACAAAG-16 | Well_KID10340600_CTTCGCGTCGACAAAG-1 |\n",
       "| CAATATGTCCTTGAGG-1 | CAATATGTCCTTGAGG-1  | Well_KID10340599_CAATATGTCCTTGAGG-1 |\n",
       "| CCAATATCACAATGCC-1 | CCAATATCACAATGCC-1  | Well_KID10340599_CCAATATCACAATGCC-1 |\n",
       "| CTATAACCACCTAATG-1 | CTATAACCACCTAATG-1  | Well_KID10340599_CTATAACCACCTAATG-1 |\n",
       "| AGTAACCTCGGTTTCC-16 | AGTAACCTCGGTTTCC-16 | Well_KID10340600_AGTAACCTCGGTTTCC-1 |\n",
       "| ATAGATGCAGGATAAC-1 | ATAGATGCAGGATAAC-1  | Well_KID10340599_ATAGATGCAGGATAAC-1 |\n",
       "\n"
      ],
      "text/plain": [
       "                    cellnames           cbc                                \n",
       "CTTCGCGTCGACAAAG-16 CTTCGCGTCGACAAAG-16 Well_KID10340600_CTTCGCGTCGACAAAG-1\n",
       "CAATATGTCCTTGAGG-1  CAATATGTCCTTGAGG-1  Well_KID10340599_CAATATGTCCTTGAGG-1\n",
       "CCAATATCACAATGCC-1  CCAATATCACAATGCC-1  Well_KID10340599_CCAATATCACAATGCC-1\n",
       "CTATAACCACCTAATG-1  CTATAACCACCTAATG-1  Well_KID10340599_CTATAACCACCTAATG-1\n",
       "AGTAACCTCGGTTTCC-16 AGTAACCTCGGTTTCC-16 Well_KID10340600_AGTAACCTCGGTTTCC-1\n",
       "ATAGATGCAGGATAAC-1  ATAGATGCAGGATAAC-1  Well_KID10340599_ATAGATGCAGGATAAC-1"
      ]
     },
     "metadata": {},
     "output_type": "display_data"
    }
   ],
   "source": [
    "head(df)"
   ]
  },
  {
   "cell_type": "code",
   "execution_count": 8,
   "id": "advised-parameter",
   "metadata": {},
   "outputs": [],
   "source": [
    "frag_cellnames = fragments$V4\n",
    "barcodes = df[frag_cellnames, 'cbc']"
   ]
  },
  {
   "cell_type": "code",
   "execution_count": 9,
   "id": "linear-armstrong",
   "metadata": {},
   "outputs": [
    {
     "data": {
      "text/html": [
       "917450655"
      ],
      "text/latex": [
       "917450655"
      ],
      "text/markdown": [
       "917450655"
      ],
      "text/plain": [
       "[1] 917450655"
      ]
     },
     "metadata": {},
     "output_type": "display_data"
    }
   ],
   "source": [
    "length(barcodes)"
   ]
  },
  {
   "cell_type": "code",
   "execution_count": 10,
   "id": "quiet-player",
   "metadata": {},
   "outputs": [
    {
     "data": {
      "text/html": [
       "<table class=\"dataframe\">\n",
       "<caption>A data.table: 6 × 5</caption>\n",
       "<thead>\n",
       "\t<tr><th scope=col>V1</th><th scope=col>V2</th><th scope=col>V3</th><th scope=col>V4</th><th scope=col>V5</th></tr>\n",
       "\t<tr><th scope=col>&lt;chr&gt;</th><th scope=col>&lt;int&gt;</th><th scope=col>&lt;int&gt;</th><th scope=col>&lt;chr&gt;</th><th scope=col>&lt;int&gt;</th></tr>\n",
       "</thead>\n",
       "<tbody>\n",
       "\t<tr><td>chr1</td><td>10065</td><td>10363</td><td>CTTCGCGTCGACAAAG-16</td><td>1</td></tr>\n",
       "\t<tr><td>chr1</td><td>10078</td><td>10285</td><td>CAATATGTCCTTGAGG-1 </td><td>1</td></tr>\n",
       "\t<tr><td>chr1</td><td>10079</td><td>10340</td><td>CCAATATCACAATGCC-1 </td><td>1</td></tr>\n",
       "\t<tr><td>chr1</td><td>10079</td><td>10351</td><td>CTATAACCACCTAATG-1 </td><td>1</td></tr>\n",
       "\t<tr><td>chr1</td><td>10084</td><td>10346</td><td>AGTAACCTCGGTTTCC-16</td><td>1</td></tr>\n",
       "\t<tr><td>chr1</td><td>10084</td><td>10478</td><td>ATAGATGCAGGATAAC-1 </td><td>1</td></tr>\n",
       "</tbody>\n",
       "</table>\n"
      ],
      "text/latex": [
       "A data.table: 6 × 5\n",
       "\\begin{tabular}{lllll}\n",
       " V1 & V2 & V3 & V4 & V5\\\\\n",
       " <chr> & <int> & <int> & <chr> & <int>\\\\\n",
       "\\hline\n",
       "\t chr1 & 10065 & 10363 & CTTCGCGTCGACAAAG-16 & 1\\\\\n",
       "\t chr1 & 10078 & 10285 & CAATATGTCCTTGAGG-1  & 1\\\\\n",
       "\t chr1 & 10079 & 10340 & CCAATATCACAATGCC-1  & 1\\\\\n",
       "\t chr1 & 10079 & 10351 & CTATAACCACCTAATG-1  & 1\\\\\n",
       "\t chr1 & 10084 & 10346 & AGTAACCTCGGTTTCC-16 & 1\\\\\n",
       "\t chr1 & 10084 & 10478 & ATAGATGCAGGATAAC-1  & 1\\\\\n",
       "\\end{tabular}\n"
      ],
      "text/markdown": [
       "\n",
       "A data.table: 6 × 5\n",
       "\n",
       "| V1 &lt;chr&gt; | V2 &lt;int&gt; | V3 &lt;int&gt; | V4 &lt;chr&gt; | V5 &lt;int&gt; |\n",
       "|---|---|---|---|---|\n",
       "| chr1 | 10065 | 10363 | CTTCGCGTCGACAAAG-16 | 1 |\n",
       "| chr1 | 10078 | 10285 | CAATATGTCCTTGAGG-1  | 1 |\n",
       "| chr1 | 10079 | 10340 | CCAATATCACAATGCC-1  | 1 |\n",
       "| chr1 | 10079 | 10351 | CTATAACCACCTAATG-1  | 1 |\n",
       "| chr1 | 10084 | 10346 | AGTAACCTCGGTTTCC-16 | 1 |\n",
       "| chr1 | 10084 | 10478 | ATAGATGCAGGATAAC-1  | 1 |\n",
       "\n"
      ],
      "text/plain": [
       "  V1   V2    V3    V4                  V5\n",
       "1 chr1 10065 10363 CTTCGCGTCGACAAAG-16 1 \n",
       "2 chr1 10078 10285 CAATATGTCCTTGAGG-1  1 \n",
       "3 chr1 10079 10340 CCAATATCACAATGCC-1  1 \n",
       "4 chr1 10079 10351 CTATAACCACCTAATG-1  1 \n",
       "5 chr1 10084 10346 AGTAACCTCGGTTTCC-16 1 \n",
       "6 chr1 10084 10478 ATAGATGCAGGATAAC-1  1 "
      ]
     },
     "metadata": {},
     "output_type": "display_data"
    }
   ],
   "source": [
    "head(fragments)"
   ]
  },
  {
   "cell_type": "code",
   "execution_count": 11,
   "id": "twenty-evening",
   "metadata": {},
   "outputs": [
    {
     "data": {
      "text/html": [
       "<style>\n",
       ".list-inline {list-style: none; margin:0; padding: 0}\n",
       ".list-inline>li {display: inline-block}\n",
       ".list-inline>li:not(:last-child)::after {content: \"\\00b7\"; padding: 0 .5ex}\n",
       "</style>\n",
       "<ol class=list-inline><li>'Well_KID10340600_CTTCGCGTCGACAAAG-1'</li><li>'Well_KID10340599_CAATATGTCCTTGAGG-1'</li><li>'Well_KID10340599_CCAATATCACAATGCC-1'</li><li>'Well_KID10340599_CTATAACCACCTAATG-1'</li><li>'Well_KID10340600_AGTAACCTCGGTTTCC-1'</li><li>'Well_KID10340599_ATAGATGCAGGATAAC-1'</li></ol>\n"
      ],
      "text/latex": [
       "\\begin{enumerate*}\n",
       "\\item 'Well\\_KID10340600\\_CTTCGCGTCGACAAAG-1'\n",
       "\\item 'Well\\_KID10340599\\_CAATATGTCCTTGAGG-1'\n",
       "\\item 'Well\\_KID10340599\\_CCAATATCACAATGCC-1'\n",
       "\\item 'Well\\_KID10340599\\_CTATAACCACCTAATG-1'\n",
       "\\item 'Well\\_KID10340600\\_AGTAACCTCGGTTTCC-1'\n",
       "\\item 'Well\\_KID10340599\\_ATAGATGCAGGATAAC-1'\n",
       "\\end{enumerate*}\n"
      ],
      "text/markdown": [
       "1. 'Well_KID10340600_CTTCGCGTCGACAAAG-1'\n",
       "2. 'Well_KID10340599_CAATATGTCCTTGAGG-1'\n",
       "3. 'Well_KID10340599_CCAATATCACAATGCC-1'\n",
       "4. 'Well_KID10340599_CTATAACCACCTAATG-1'\n",
       "5. 'Well_KID10340600_AGTAACCTCGGTTTCC-1'\n",
       "6. 'Well_KID10340599_ATAGATGCAGGATAAC-1'\n",
       "\n",
       "\n"
      ],
      "text/plain": [
       "[1] \"Well_KID10340600_CTTCGCGTCGACAAAG-1\" \"Well_KID10340599_CAATATGTCCTTGAGG-1\"\n",
       "[3] \"Well_KID10340599_CCAATATCACAATGCC-1\" \"Well_KID10340599_CTATAACCACCTAATG-1\"\n",
       "[5] \"Well_KID10340600_AGTAACCTCGGTTTCC-1\" \"Well_KID10340599_ATAGATGCAGGATAAC-1\""
      ]
     },
     "metadata": {},
     "output_type": "display_data"
    }
   ],
   "source": [
    "head(barcodes)"
   ]
  },
  {
   "cell_type": "code",
   "execution_count": 12,
   "id": "quiet-wiring",
   "metadata": {},
   "outputs": [],
   "source": [
    "fragments$V4 = barcodes"
   ]
  },
  {
   "cell_type": "code",
   "execution_count": 13,
   "id": "wicked-application",
   "metadata": {},
   "outputs": [
    {
     "data": {
      "text/html": [
       "<table class=\"dataframe\">\n",
       "<caption>A data.table: 6 × 5</caption>\n",
       "<thead>\n",
       "\t<tr><th scope=col>V1</th><th scope=col>V2</th><th scope=col>V3</th><th scope=col>V4</th><th scope=col>V5</th></tr>\n",
       "\t<tr><th scope=col>&lt;chr&gt;</th><th scope=col>&lt;int&gt;</th><th scope=col>&lt;int&gt;</th><th scope=col>&lt;chr&gt;</th><th scope=col>&lt;int&gt;</th></tr>\n",
       "</thead>\n",
       "<tbody>\n",
       "\t<tr><td>chr1</td><td>10065</td><td>10363</td><td>Well_KID10340600_CTTCGCGTCGACAAAG-1</td><td>1</td></tr>\n",
       "\t<tr><td>chr1</td><td>10078</td><td>10285</td><td>Well_KID10340599_CAATATGTCCTTGAGG-1</td><td>1</td></tr>\n",
       "\t<tr><td>chr1</td><td>10079</td><td>10340</td><td>Well_KID10340599_CCAATATCACAATGCC-1</td><td>1</td></tr>\n",
       "\t<tr><td>chr1</td><td>10079</td><td>10351</td><td>Well_KID10340599_CTATAACCACCTAATG-1</td><td>1</td></tr>\n",
       "\t<tr><td>chr1</td><td>10084</td><td>10346</td><td>Well_KID10340600_AGTAACCTCGGTTTCC-1</td><td>1</td></tr>\n",
       "\t<tr><td>chr1</td><td>10084</td><td>10478</td><td>Well_KID10340599_ATAGATGCAGGATAAC-1</td><td>1</td></tr>\n",
       "</tbody>\n",
       "</table>\n"
      ],
      "text/latex": [
       "A data.table: 6 × 5\n",
       "\\begin{tabular}{lllll}\n",
       " V1 & V2 & V3 & V4 & V5\\\\\n",
       " <chr> & <int> & <int> & <chr> & <int>\\\\\n",
       "\\hline\n",
       "\t chr1 & 10065 & 10363 & Well\\_KID10340600\\_CTTCGCGTCGACAAAG-1 & 1\\\\\n",
       "\t chr1 & 10078 & 10285 & Well\\_KID10340599\\_CAATATGTCCTTGAGG-1 & 1\\\\\n",
       "\t chr1 & 10079 & 10340 & Well\\_KID10340599\\_CCAATATCACAATGCC-1 & 1\\\\\n",
       "\t chr1 & 10079 & 10351 & Well\\_KID10340599\\_CTATAACCACCTAATG-1 & 1\\\\\n",
       "\t chr1 & 10084 & 10346 & Well\\_KID10340600\\_AGTAACCTCGGTTTCC-1 & 1\\\\\n",
       "\t chr1 & 10084 & 10478 & Well\\_KID10340599\\_ATAGATGCAGGATAAC-1 & 1\\\\\n",
       "\\end{tabular}\n"
      ],
      "text/markdown": [
       "\n",
       "A data.table: 6 × 5\n",
       "\n",
       "| V1 &lt;chr&gt; | V2 &lt;int&gt; | V3 &lt;int&gt; | V4 &lt;chr&gt; | V5 &lt;int&gt; |\n",
       "|---|---|---|---|---|\n",
       "| chr1 | 10065 | 10363 | Well_KID10340600_CTTCGCGTCGACAAAG-1 | 1 |\n",
       "| chr1 | 10078 | 10285 | Well_KID10340599_CAATATGTCCTTGAGG-1 | 1 |\n",
       "| chr1 | 10079 | 10340 | Well_KID10340599_CCAATATCACAATGCC-1 | 1 |\n",
       "| chr1 | 10079 | 10351 | Well_KID10340599_CTATAACCACCTAATG-1 | 1 |\n",
       "| chr1 | 10084 | 10346 | Well_KID10340600_AGTAACCTCGGTTTCC-1 | 1 |\n",
       "| chr1 | 10084 | 10478 | Well_KID10340599_ATAGATGCAGGATAAC-1 | 1 |\n",
       "\n"
      ],
      "text/plain": [
       "  V1   V2    V3    V4                                  V5\n",
       "1 chr1 10065 10363 Well_KID10340600_CTTCGCGTCGACAAAG-1 1 \n",
       "2 chr1 10078 10285 Well_KID10340599_CAATATGTCCTTGAGG-1 1 \n",
       "3 chr1 10079 10340 Well_KID10340599_CCAATATCACAATGCC-1 1 \n",
       "4 chr1 10079 10351 Well_KID10340599_CTATAACCACCTAATG-1 1 \n",
       "5 chr1 10084 10346 Well_KID10340600_AGTAACCTCGGTTTCC-1 1 \n",
       "6 chr1 10084 10478 Well_KID10340599_ATAGATGCAGGATAAC-1 1 "
      ]
     },
     "metadata": {},
     "output_type": "display_data"
    }
   ],
   "source": [
    "head(fragments)"
   ]
  },
  {
   "cell_type": "code",
   "execution_count": 14,
   "id": "signal-miniature",
   "metadata": {},
   "outputs": [],
   "source": [
    "fwrite(fragments, \"aggregated_fragments.tsv\", col.names = FALSE, sep = '\\t')"
   ]
  }
 ],
 "metadata": {
  "kernelspec": {
   "display_name": "R",
   "language": "R",
   "name": "ir"
  },
  "language_info": {
   "codemirror_mode": "r",
   "file_extension": ".r",
   "mimetype": "text/x-r-source",
   "name": "R",
   "pygments_lexer": "r",
   "version": "4.0.4"
  }
 },
 "nbformat": 4,
 "nbformat_minor": 5
}

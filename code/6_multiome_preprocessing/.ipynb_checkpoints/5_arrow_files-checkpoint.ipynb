{
 "cells": [
  {
   "cell_type": "code",
   "execution_count": 1,
   "id": "alive-centre",
   "metadata": {},
   "outputs": [],
   "source": [
    "setwd(\"~/ben_lustre/current_projects/kidney_glomTI_response\")"
   ]
  },
  {
   "cell_type": "code",
   "execution_count": 2,
   "id": "critical-weight",
   "metadata": {},
   "outputs": [
    {
     "name": "stderr",
     "output_type": "stream",
     "text": [
      "\n",
      "                                                   / |\n",
      "                                                 /    \\\n",
      "            .                                  /      |.\n",
      "            \\\\\\                              /        |.\n",
      "              \\\\\\                          /           `|.\n",
      "                \\\\\\                      /              |.\n",
      "                  \\                    /                |\\\n",
      "                  \\\\#####\\           /                  ||\n",
      "                ==###########>      /                   ||\n",
      "                 \\\\##==......\\    /                     ||\n",
      "            ______ =       =|__ /__                     ||      \\\\\\\n",
      "        ,--' ,----`-,__ ___/'  --,-`-===================##========>\n",
      "       \\               '        ##_______ _____ ,--,__,=##,__   ///\n",
      "        ,    __==    ___,-,__,--'#'  ==='      `-'    | ##,-/\n",
      "        -,____,---'       \\\\####\\\\________________,--\\\\_##,/\n",
      "           ___      .______        ______  __    __  .______      \n",
      "          /   \\     |   _  \\      /      ||  |  |  | |   _  \\     \n",
      "         /  ^  \\    |  |_)  |    |  ,----'|  |__|  | |  |_)  |    \n",
      "        /  /_\\  \\   |      /     |  |     |   __   | |      /     \n",
      "       /  _____  \\  |  |\\  \\\\___ |  `----.|  |  |  | |  |\\  \\\\___.\n",
      "      /__/     \\__\\ | _| `._____| \\______||__|  |__| | _| `._____|\n",
      "    \n",
      "\n",
      "ArchR : Version 1.0.2\n",
      "For more information see our website : www.ArchRProject.com\n",
      "If you encounter a bug please report : https://github.com/GreenleafLab/ArchR/issues\n",
      "\n",
      "Loading Required Packages...\n",
      "\n",
      "\tLoading Package : grid v4.0.4\n",
      "\n",
      "\tLoading Package : gridExtra v2.3\n",
      "\n",
      "\tLoading Package : gtools v3.9.4\n",
      "\n",
      "\tLoading Package : gtable v0.3.1\n",
      "\n",
      "\tLoading Package : ggplot2 v3.4.0\n",
      "\n",
      "\tLoading Package : magrittr v2.0.3\n",
      "\n",
      "\tLoading Package : plyr v1.8.8\n",
      "\n",
      "\tLoading Package : stringr v1.4.1\n",
      "\n",
      "\tLoading Package : data.table v1.14.6\n",
      "\n",
      "\tLoading Package : matrixStats v0.63.0\n",
      "\n",
      "\tLoading Package : S4Vectors v0.28.1\n",
      "\n",
      "\tLoading Package : GenomicRanges v1.42.0\n",
      "\n",
      "\tLoading Package : BiocGenerics v0.36.1\n",
      "\n",
      "\tLoading Package : Matrix v1.4.1\n",
      "\n",
      "\tLoading Package : Rcpp v1.0.9\n",
      "\n",
      "\tLoading Package : SummarizedExperiment v1.20.0\n",
      "\n",
      "\tLoading Package : rhdf5 v2.34.0\n",
      "\n",
      "Setting default number of Parallel threads to 16.\n",
      "\n"
     ]
    }
   ],
   "source": [
    "library(ArchR)\n",
    "set.seed(1)\n",
    "addArchRThreads(threads = 16) "
   ]
  },
  {
   "cell_type": "code",
   "execution_count": 3,
   "id": "acquired-monaco",
   "metadata": {},
   "outputs": [
    {
     "name": "stderr",
     "output_type": "stream",
     "text": [
      "Setting default genome to Hg38.\n",
      "\n"
     ]
    }
   ],
   "source": [
    "addArchRGenome(\"hg38\")"
   ]
  },
  {
   "cell_type": "code",
   "execution_count": 4,
   "id": "checked-ozone",
   "metadata": {},
   "outputs": [],
   "source": [
    "#get sequencing inventory\n",
    "seq_inventory = read.csv(\"~/ben_nfs/sample_donor_data/sequencing_inventory.csv\")\n",
    "seq_inventory = seq_inventory[seq_inventory$experiment %in% \"10X_multiome_ATAC\", ]\n",
    "seq_inventory = seq_inventory[!seq_inventory$poor_QC, ]\n",
    "seq_inventory = seq_inventory[seq_inventory$tissue %in% \"kidney_single_nucleus_suspension\", ]"
   ]
  },
  {
   "cell_type": "code",
   "execution_count": 5,
   "id": "surgical-customs",
   "metadata": {},
   "outputs": [],
   "source": [
    "input_files = file.path(\"/lustre/scratch126/cellgen/team297/bs16/current_projects/kidney_glomTI_response/data/seq_data/10X_multiome\", seq_inventory$irods_ID, 'atac_fragments.tsv.gz' )\n",
    "names(input_files) = seq_inventory$sanger_ID"
   ]
  },
  {
   "cell_type": "code",
   "execution_count": 6,
   "id": "improved-greece",
   "metadata": {},
   "outputs": [],
   "source": [
    "barcode_files = file.path(\"/lustre/scratch126/cellgen/team297/bs16/current_projects/kidney_glomTI_response/data/seq_data/10X_multiome\", seq_inventory$irods_ID, \n",
    "                         'filtered_feature_bc_matrix', 'barcodes.tsv.gz')\n",
    "names(input_files) = seq_inventory$sanger_ID"
   ]
  },
  {
   "cell_type": "code",
   "execution_count": 7,
   "id": "alternative-cleaners",
   "metadata": {},
   "outputs": [],
   "source": [
    "valid_barcodes = lapply(barcode_files, function(x){\n",
    "    read.csv(x, header = FALSE, sep = '\\t')[, 1]\n",
    "})"
   ]
  },
  {
   "cell_type": "code",
   "execution_count": 8,
   "id": "traditional-education",
   "metadata": {},
   "outputs": [
    {
     "name": "stderr",
     "output_type": "stream",
     "text": [
      "Using GeneAnnotation set by addArchRGenome(Hg38)!\n",
      "\n",
      "Using GeneAnnotation set by addArchRGenome(Hg38)!\n",
      "\n",
      "ArchR logging to : ArchRLogs/ArchR-createArrows-332b4fd54acf-Date-2023-02-08_Time-16-43-03.log\n",
      "If there is an issue, please report to github with logFile!\n",
      "\n",
      "Cleaning Temporary Files\n",
      "\n",
      "2023-02-08 16:43:03 : Batch Execution w/ safelapply!, 0 mins elapsed.\n",
      "\n",
      "ArchR logging successful to : ArchRLogs/ArchR-createArrows-332b4fd54acf-Date-2023-02-08_Time-16-43-03.log\n",
      "\n"
     ]
    }
   ],
   "source": [
    "#we do this in a dedicated dir because it creates all sorts of messy files.\n",
    "setwd(\"/lustre/scratch126/cellgen/team297/bs16/current_projects/kidney_glomTI_response/data/raw/10X_multiome/archR_files\")\n",
    "#make the arrow files \n",
    "ArrowFiles <- createArrowFiles(\n",
    "  inputFiles = input_files,\n",
    "  sampleNames = names(input_files),\n",
    "    validBarcodes = valid_barcodes, \n",
    "    minTSS = 0,\n",
    "  minFrags = 0, \n",
    "  addTileMat = TRUE,\n",
    "  addGeneScoreMat = TRUE\n",
    ")"
   ]
  },
  {
   "cell_type": "code",
   "execution_count": 9,
   "id": "compliant-tradition",
   "metadata": {},
   "outputs": [
    {
     "data": {
      "text/html": [
       "<style>\n",
       ".list-inline {list-style: none; margin:0; padding: 0}\n",
       ".list-inline>li {display: inline-block}\n",
       ".list-inline>li:not(:last-child)::after {content: \"\\00b7\"; padding: 0 .5ex}\n",
       "</style>\n",
       "<ol class=list-inline><li>'Well_KID11925175.arrow'</li><li>'Well_KID11925176.arrow'</li><li>'Well_KID11925177.arrow'</li><li>'Well_KID11925174.arrow'</li><li>'Well_KID10340601.arrow'</li><li>'Well_KID10340604.arrow'</li><li>'Well_KID10340606.arrow'</li><li>'Well_KID10340597.arrow'</li><li>'Well_KID10340603.arrow'</li><li>'Well_KID10340605.arrow'</li><li>'Well_KID10340598.arrow'</li><li>'Well_KID10340602.arrow'</li><li>'Well_KID10340595.arrow'</li><li>'Well_KID10340596.arrow'</li><li>'Well_KID10340599.arrow'</li><li>'Well_KID10340600.arrow'</li></ol>\n"
      ],
      "text/latex": [
       "\\begin{enumerate*}\n",
       "\\item 'Well\\_KID11925175.arrow'\n",
       "\\item 'Well\\_KID11925176.arrow'\n",
       "\\item 'Well\\_KID11925177.arrow'\n",
       "\\item 'Well\\_KID11925174.arrow'\n",
       "\\item 'Well\\_KID10340601.arrow'\n",
       "\\item 'Well\\_KID10340604.arrow'\n",
       "\\item 'Well\\_KID10340606.arrow'\n",
       "\\item 'Well\\_KID10340597.arrow'\n",
       "\\item 'Well\\_KID10340603.arrow'\n",
       "\\item 'Well\\_KID10340605.arrow'\n",
       "\\item 'Well\\_KID10340598.arrow'\n",
       "\\item 'Well\\_KID10340602.arrow'\n",
       "\\item 'Well\\_KID10340595.arrow'\n",
       "\\item 'Well\\_KID10340596.arrow'\n",
       "\\item 'Well\\_KID10340599.arrow'\n",
       "\\item 'Well\\_KID10340600.arrow'\n",
       "\\end{enumerate*}\n"
      ],
      "text/markdown": [
       "1. 'Well_KID11925175.arrow'\n",
       "2. 'Well_KID11925176.arrow'\n",
       "3. 'Well_KID11925177.arrow'\n",
       "4. 'Well_KID11925174.arrow'\n",
       "5. 'Well_KID10340601.arrow'\n",
       "6. 'Well_KID10340604.arrow'\n",
       "7. 'Well_KID10340606.arrow'\n",
       "8. 'Well_KID10340597.arrow'\n",
       "9. 'Well_KID10340603.arrow'\n",
       "10. 'Well_KID10340605.arrow'\n",
       "11. 'Well_KID10340598.arrow'\n",
       "12. 'Well_KID10340602.arrow'\n",
       "13. 'Well_KID10340595.arrow'\n",
       "14. 'Well_KID10340596.arrow'\n",
       "15. 'Well_KID10340599.arrow'\n",
       "16. 'Well_KID10340600.arrow'\n",
       "\n",
       "\n"
      ],
      "text/plain": [
       " [1] \"Well_KID11925175.arrow\" \"Well_KID11925176.arrow\" \"Well_KID11925177.arrow\"\n",
       " [4] \"Well_KID11925174.arrow\" \"Well_KID10340601.arrow\" \"Well_KID10340604.arrow\"\n",
       " [7] \"Well_KID10340606.arrow\" \"Well_KID10340597.arrow\" \"Well_KID10340603.arrow\"\n",
       "[10] \"Well_KID10340605.arrow\" \"Well_KID10340598.arrow\" \"Well_KID10340602.arrow\"\n",
       "[13] \"Well_KID10340595.arrow\" \"Well_KID10340596.arrow\" \"Well_KID10340599.arrow\"\n",
       "[16] \"Well_KID10340600.arrow\""
      ]
     },
     "metadata": {},
     "output_type": "display_data"
    }
   ],
   "source": [
    "ArrowFiles"
   ]
  },
  {
   "cell_type": "code",
   "execution_count": 10,
   "id": "mechanical-desire",
   "metadata": {},
   "outputs": [
    {
     "data": {
      "text/html": [
       "<style>\n",
       ".list-inline {list-style: none; margin:0; padding: 0}\n",
       ".list-inline>li {display: inline-block}\n",
       ".list-inline>li:not(:last-child)::after {content: \"\\00b7\"; padding: 0 .5ex}\n",
       "</style>\n",
       "<ol class=list-inline><li>'Well_KID11925175.arrow'</li><li>'Well_KID11925176.arrow'</li><li>'Well_KID11925177.arrow'</li><li>'Well_KID11925174.arrow'</li><li>'Well_KID10340601.arrow'</li><li>'Well_KID10340604.arrow'</li><li>'Well_KID10340606.arrow'</li><li>'Well_KID10340597.arrow'</li><li>'Well_KID10340603.arrow'</li><li>'Well_KID10340605.arrow'</li><li>'Well_KID10340598.arrow'</li><li>'Well_KID10340602.arrow'</li><li>'Well_KID10340595.arrow'</li><li>'Well_KID10340596.arrow'</li><li>'Well_KID10340599.arrow'</li><li>'Well_KID10340600.arrow'</li></ol>\n"
      ],
      "text/latex": [
       "\\begin{enumerate*}\n",
       "\\item 'Well\\_KID11925175.arrow'\n",
       "\\item 'Well\\_KID11925176.arrow'\n",
       "\\item 'Well\\_KID11925177.arrow'\n",
       "\\item 'Well\\_KID11925174.arrow'\n",
       "\\item 'Well\\_KID10340601.arrow'\n",
       "\\item 'Well\\_KID10340604.arrow'\n",
       "\\item 'Well\\_KID10340606.arrow'\n",
       "\\item 'Well\\_KID10340597.arrow'\n",
       "\\item 'Well\\_KID10340603.arrow'\n",
       "\\item 'Well\\_KID10340605.arrow'\n",
       "\\item 'Well\\_KID10340598.arrow'\n",
       "\\item 'Well\\_KID10340602.arrow'\n",
       "\\item 'Well\\_KID10340595.arrow'\n",
       "\\item 'Well\\_KID10340596.arrow'\n",
       "\\item 'Well\\_KID10340599.arrow'\n",
       "\\item 'Well\\_KID10340600.arrow'\n",
       "\\end{enumerate*}\n"
      ],
      "text/markdown": [
       "1. 'Well_KID11925175.arrow'\n",
       "2. 'Well_KID11925176.arrow'\n",
       "3. 'Well_KID11925177.arrow'\n",
       "4. 'Well_KID11925174.arrow'\n",
       "5. 'Well_KID10340601.arrow'\n",
       "6. 'Well_KID10340604.arrow'\n",
       "7. 'Well_KID10340606.arrow'\n",
       "8. 'Well_KID10340597.arrow'\n",
       "9. 'Well_KID10340603.arrow'\n",
       "10. 'Well_KID10340605.arrow'\n",
       "11. 'Well_KID10340598.arrow'\n",
       "12. 'Well_KID10340602.arrow'\n",
       "13. 'Well_KID10340595.arrow'\n",
       "14. 'Well_KID10340596.arrow'\n",
       "15. 'Well_KID10340599.arrow'\n",
       "16. 'Well_KID10340600.arrow'\n",
       "\n",
       "\n"
      ],
      "text/plain": [
       " [1] \"Well_KID11925175.arrow\" \"Well_KID11925176.arrow\" \"Well_KID11925177.arrow\"\n",
       " [4] \"Well_KID11925174.arrow\" \"Well_KID10340601.arrow\" \"Well_KID10340604.arrow\"\n",
       " [7] \"Well_KID10340606.arrow\" \"Well_KID10340597.arrow\" \"Well_KID10340603.arrow\"\n",
       "[10] \"Well_KID10340605.arrow\" \"Well_KID10340598.arrow\" \"Well_KID10340602.arrow\"\n",
       "[13] \"Well_KID10340595.arrow\" \"Well_KID10340596.arrow\" \"Well_KID10340599.arrow\"\n",
       "[16] \"Well_KID10340600.arrow\""
      ]
     },
     "metadata": {},
     "output_type": "display_data"
    }
   ],
   "source": [
    "#this is a vector of file paths\n",
    "ArrowFiles\n",
    "saveRDS(ArrowFiles, \"./arrow_files.RDS\")"
   ]
  },
  {
   "cell_type": "code",
   "execution_count": 11,
   "id": "relevant-pearl",
   "metadata": {},
   "outputs": [],
   "source": [
    "#make a file of arrow paths\n",
    "base = '/lustre/scratch126/cellgen/team297/bs16/current_projects/kidney_glomTI_response/data/raw/10X_multiome/archR_files'\n",
    "fp = file.path(base, ArrowFiles)\n",
    "#save this out\n",
    "write.table(fp, file.path(base, \"arrow_paths.txt\"),\n",
    "          sep = \" \", dec = \".\",\n",
    "            row.names = FALSE, col.names = FALSE, quote = FALSE)\n"
   ]
  }
 ],
 "metadata": {
  "kernelspec": {
   "display_name": "R",
   "language": "R",
   "name": "ir"
  },
  "language_info": {
   "codemirror_mode": "r",
   "file_extension": ".r",
   "mimetype": "text/x-r-source",
   "name": "R",
   "pygments_lexer": "r",
   "version": "4.0.4"
  }
 },
 "nbformat": 4,
 "nbformat_minor": 5
}

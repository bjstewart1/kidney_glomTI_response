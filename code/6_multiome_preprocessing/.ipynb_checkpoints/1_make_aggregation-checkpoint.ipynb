{
 "cells": [
  {
   "cell_type": "code",
   "execution_count": 1,
   "id": "smooth-priority",
   "metadata": {},
   "outputs": [],
   "source": [
    "setwd(\"~/ben_lustre/current_projects/kidney_glomTI_response/data/seq_data/10X_snATACseq\")\n",
    "files = grep(\"cellranger\", list.files(getwd()), value = TRUE)"
   ]
  },
  {
   "cell_type": "code",
   "execution_count": 2,
   "id": "insured-incidence",
   "metadata": {},
   "outputs": [
    {
     "data": {
      "text/html": [
       "<style>\n",
       ".list-inline {list-style: none; margin:0; padding: 0}\n",
       ".list-inline>li {display: inline-block}\n",
       ".list-inline>li:not(:last-child)::after {content: \"\\00b7\"; padding: 0 .5ex}\n",
       "</style>\n",
       "<ol class=list-inline><li>'cellranger_aggr'</li><li>'cellranger-atac200_count_04d85df7704d0782c0b1064478388963'</li><li>'cellranger-atac200_count_05414f61feb3300e899b2e794107d78d'</li><li>'cellranger-atac200_count_117bb132811f35483bef97515cfc04b0'</li><li>'cellranger-atac200_count_25defcde43738c5b9388993d7bee5a15'</li><li>'cellranger-atac200_count_94b8c7a00d75e24838a8222800fa8c92'</li><li>'cellranger-atac200_count_b7fa16470431cc74aa1e9ed894719d4e'</li><li>'cellranger-atac200_count_c59f81ac9263a14fdd7e4e098c981fb0'</li><li>'cellranger-atac200_count_f773d0a12e1876c09a51845526147595'</li></ol>\n"
      ],
      "text/latex": [
       "\\begin{enumerate*}\n",
       "\\item 'cellranger\\_aggr'\n",
       "\\item 'cellranger-atac200\\_count\\_04d85df7704d0782c0b1064478388963'\n",
       "\\item 'cellranger-atac200\\_count\\_05414f61feb3300e899b2e794107d78d'\n",
       "\\item 'cellranger-atac200\\_count\\_117bb132811f35483bef97515cfc04b0'\n",
       "\\item 'cellranger-atac200\\_count\\_25defcde43738c5b9388993d7bee5a15'\n",
       "\\item 'cellranger-atac200\\_count\\_94b8c7a00d75e24838a8222800fa8c92'\n",
       "\\item 'cellranger-atac200\\_count\\_b7fa16470431cc74aa1e9ed894719d4e'\n",
       "\\item 'cellranger-atac200\\_count\\_c59f81ac9263a14fdd7e4e098c981fb0'\n",
       "\\item 'cellranger-atac200\\_count\\_f773d0a12e1876c09a51845526147595'\n",
       "\\end{enumerate*}\n"
      ],
      "text/markdown": [
       "1. 'cellranger_aggr'\n",
       "2. 'cellranger-atac200_count_04d85df7704d0782c0b1064478388963'\n",
       "3. 'cellranger-atac200_count_05414f61feb3300e899b2e794107d78d'\n",
       "4. 'cellranger-atac200_count_117bb132811f35483bef97515cfc04b0'\n",
       "5. 'cellranger-atac200_count_25defcde43738c5b9388993d7bee5a15'\n",
       "6. 'cellranger-atac200_count_94b8c7a00d75e24838a8222800fa8c92'\n",
       "7. 'cellranger-atac200_count_b7fa16470431cc74aa1e9ed894719d4e'\n",
       "8. 'cellranger-atac200_count_c59f81ac9263a14fdd7e4e098c981fb0'\n",
       "9. 'cellranger-atac200_count_f773d0a12e1876c09a51845526147595'\n",
       "\n",
       "\n"
      ],
      "text/plain": [
       "[1] \"cellranger_aggr\"                                          \n",
       "[2] \"cellranger-atac200_count_04d85df7704d0782c0b1064478388963\"\n",
       "[3] \"cellranger-atac200_count_05414f61feb3300e899b2e794107d78d\"\n",
       "[4] \"cellranger-atac200_count_117bb132811f35483bef97515cfc04b0\"\n",
       "[5] \"cellranger-atac200_count_25defcde43738c5b9388993d7bee5a15\"\n",
       "[6] \"cellranger-atac200_count_94b8c7a00d75e24838a8222800fa8c92\"\n",
       "[7] \"cellranger-atac200_count_b7fa16470431cc74aa1e9ed894719d4e\"\n",
       "[8] \"cellranger-atac200_count_c59f81ac9263a14fdd7e4e098c981fb0\"\n",
       "[9] \"cellranger-atac200_count_f773d0a12e1876c09a51845526147595\""
      ]
     },
     "metadata": {},
     "output_type": "display_data"
    }
   ],
   "source": [
    "files"
   ]
  },
  {
   "cell_type": "code",
   "execution_count": 5,
   "id": "parental-branch",
   "metadata": {},
   "outputs": [],
   "source": [
    "seq_dir = '/lustre/scratch126/cellgen/team297/bs16/current_projects/kidney_glomTI_response/data/seq_data/10X_snATACseq'\n",
    "aggr_df= data.frame(\n",
    "    library_id = files, \n",
    "          fragments = file.path(seq_dir,files, 'fragments.tsv.gz'),\n",
    "          cells = file.path(seq_dir, files, 'singlecell.csv'))"
   ]
  },
  {
   "cell_type": "code",
   "execution_count": 6,
   "id": "duplicate-submission",
   "metadata": {},
   "outputs": [],
   "source": [
    "write.csv(aggr_df, file.path(seq_dir, \"aggregation.csv\"), row.names = FALSE, quote = FALSE)"
   ]
  },
  {
   "cell_type": "code",
   "execution_count": 7,
   "id": "confident-consolidation",
   "metadata": {},
   "outputs": [],
   "source": [
    "setwd(\"~/ben_lustre/current_projects/kidney_glomTI_response/data/seq_data/10X_multiome\")\n",
    "files = grep(\"cellranger\", list.files(getwd()), value = TRUE)"
   ]
  },
  {
   "cell_type": "code",
   "execution_count": 8,
   "id": "annual-patent",
   "metadata": {},
   "outputs": [
    {
     "data": {
      "text/html": [
       "<style>\n",
       ".list-inline {list-style: none; margin:0; padding: 0}\n",
       ".list-inline>li {display: inline-block}\n",
       ".list-inline>li:not(:last-child)::after {content: \"\\00b7\"; padding: 0 .5ex}\n",
       "</style>\n",
       "<ol class=list-inline><li>'cellranger-arc200_count_01bf5eb88f1fd6261cd273821e27ec62'</li><li>'cellranger-arc200_count_01cd0b1f038cca6db6a3172cce92d8b2'</li><li>'cellranger-arc200_count_1025c2e00f0348103d1c9859a69d9096'</li><li>'cellranger-arc200_count_1f05add56c821daa7f4f5f054982ad61'</li><li>'cellranger-arc200_count_426421b13676b7ad1ab64607030fd992'</li><li>'cellranger-arc200_count_45b1a41724921d5ae562e15580bf2243'</li><li>'cellranger-arc200_count_4cf593ecccbf5c8b4fbe80bb80a48bef'</li><li>'cellranger-arc200_count_6c2252bc28c267c2b3e6e944af693fdc'</li><li>'cellranger-arc200_count_74321fba0e783fce0013e58e85e71d44'</li><li>'cellranger-arc200_count_8e59d6e5b9b4a25a7bbc7bb2467ecfab'</li><li>'cellranger-arc200_count_a7a1cc9612bab77c305d5f44b7fd527b'</li><li>'cellranger-arc200_count_a7e3f3b7368071bef84eefdb6632acd4'</li><li>'cellranger-arc200_count_ab64b7249f90c1a7b6b45a07813a6628'</li><li>'cellranger-arc200_count_eaeba636b2c180fc9041a08278bd2bc8'</li><li>'cellranger-arc200_count_f4b032abc513453fee40a6bd05fe1c84'</li><li>'cellranger-arc200_count_ffb2d458cc939df2f22324fd3a5f9e66'</li></ol>\n"
      ],
      "text/latex": [
       "\\begin{enumerate*}\n",
       "\\item 'cellranger-arc200\\_count\\_01bf5eb88f1fd6261cd273821e27ec62'\n",
       "\\item 'cellranger-arc200\\_count\\_01cd0b1f038cca6db6a3172cce92d8b2'\n",
       "\\item 'cellranger-arc200\\_count\\_1025c2e00f0348103d1c9859a69d9096'\n",
       "\\item 'cellranger-arc200\\_count\\_1f05add56c821daa7f4f5f054982ad61'\n",
       "\\item 'cellranger-arc200\\_count\\_426421b13676b7ad1ab64607030fd992'\n",
       "\\item 'cellranger-arc200\\_count\\_45b1a41724921d5ae562e15580bf2243'\n",
       "\\item 'cellranger-arc200\\_count\\_4cf593ecccbf5c8b4fbe80bb80a48bef'\n",
       "\\item 'cellranger-arc200\\_count\\_6c2252bc28c267c2b3e6e944af693fdc'\n",
       "\\item 'cellranger-arc200\\_count\\_74321fba0e783fce0013e58e85e71d44'\n",
       "\\item 'cellranger-arc200\\_count\\_8e59d6e5b9b4a25a7bbc7bb2467ecfab'\n",
       "\\item 'cellranger-arc200\\_count\\_a7a1cc9612bab77c305d5f44b7fd527b'\n",
       "\\item 'cellranger-arc200\\_count\\_a7e3f3b7368071bef84eefdb6632acd4'\n",
       "\\item 'cellranger-arc200\\_count\\_ab64b7249f90c1a7b6b45a07813a6628'\n",
       "\\item 'cellranger-arc200\\_count\\_eaeba636b2c180fc9041a08278bd2bc8'\n",
       "\\item 'cellranger-arc200\\_count\\_f4b032abc513453fee40a6bd05fe1c84'\n",
       "\\item 'cellranger-arc200\\_count\\_ffb2d458cc939df2f22324fd3a5f9e66'\n",
       "\\end{enumerate*}\n"
      ],
      "text/markdown": [
       "1. 'cellranger-arc200_count_01bf5eb88f1fd6261cd273821e27ec62'\n",
       "2. 'cellranger-arc200_count_01cd0b1f038cca6db6a3172cce92d8b2'\n",
       "3. 'cellranger-arc200_count_1025c2e00f0348103d1c9859a69d9096'\n",
       "4. 'cellranger-arc200_count_1f05add56c821daa7f4f5f054982ad61'\n",
       "5. 'cellranger-arc200_count_426421b13676b7ad1ab64607030fd992'\n",
       "6. 'cellranger-arc200_count_45b1a41724921d5ae562e15580bf2243'\n",
       "7. 'cellranger-arc200_count_4cf593ecccbf5c8b4fbe80bb80a48bef'\n",
       "8. 'cellranger-arc200_count_6c2252bc28c267c2b3e6e944af693fdc'\n",
       "9. 'cellranger-arc200_count_74321fba0e783fce0013e58e85e71d44'\n",
       "10. 'cellranger-arc200_count_8e59d6e5b9b4a25a7bbc7bb2467ecfab'\n",
       "11. 'cellranger-arc200_count_a7a1cc9612bab77c305d5f44b7fd527b'\n",
       "12. 'cellranger-arc200_count_a7e3f3b7368071bef84eefdb6632acd4'\n",
       "13. 'cellranger-arc200_count_ab64b7249f90c1a7b6b45a07813a6628'\n",
       "14. 'cellranger-arc200_count_eaeba636b2c180fc9041a08278bd2bc8'\n",
       "15. 'cellranger-arc200_count_f4b032abc513453fee40a6bd05fe1c84'\n",
       "16. 'cellranger-arc200_count_ffb2d458cc939df2f22324fd3a5f9e66'\n",
       "\n",
       "\n"
      ],
      "text/plain": [
       " [1] \"cellranger-arc200_count_01bf5eb88f1fd6261cd273821e27ec62\"\n",
       " [2] \"cellranger-arc200_count_01cd0b1f038cca6db6a3172cce92d8b2\"\n",
       " [3] \"cellranger-arc200_count_1025c2e00f0348103d1c9859a69d9096\"\n",
       " [4] \"cellranger-arc200_count_1f05add56c821daa7f4f5f054982ad61\"\n",
       " [5] \"cellranger-arc200_count_426421b13676b7ad1ab64607030fd992\"\n",
       " [6] \"cellranger-arc200_count_45b1a41724921d5ae562e15580bf2243\"\n",
       " [7] \"cellranger-arc200_count_4cf593ecccbf5c8b4fbe80bb80a48bef\"\n",
       " [8] \"cellranger-arc200_count_6c2252bc28c267c2b3e6e944af693fdc\"\n",
       " [9] \"cellranger-arc200_count_74321fba0e783fce0013e58e85e71d44\"\n",
       "[10] \"cellranger-arc200_count_8e59d6e5b9b4a25a7bbc7bb2467ecfab\"\n",
       "[11] \"cellranger-arc200_count_a7a1cc9612bab77c305d5f44b7fd527b\"\n",
       "[12] \"cellranger-arc200_count_a7e3f3b7368071bef84eefdb6632acd4\"\n",
       "[13] \"cellranger-arc200_count_ab64b7249f90c1a7b6b45a07813a6628\"\n",
       "[14] \"cellranger-arc200_count_eaeba636b2c180fc9041a08278bd2bc8\"\n",
       "[15] \"cellranger-arc200_count_f4b032abc513453fee40a6bd05fe1c84\"\n",
       "[16] \"cellranger-arc200_count_ffb2d458cc939df2f22324fd3a5f9e66\""
      ]
     },
     "metadata": {},
     "output_type": "display_data"
    }
   ],
   "source": [
    "files"
   ]
  },
  {
   "cell_type": "code",
   "execution_count": 13,
   "id": "satisfactory-dutch",
   "metadata": {},
   "outputs": [],
   "source": [
    "seq_dir = '/lustre/scratch126/cellgen/team297/bs16/current_projects/kidney_glomTI_response/data/seq_data/10X_multiome'\n",
    "aggr_df= data.frame(\n",
    "    library_id = files, \n",
    "          fragments = file.path(seq_dir,files, 'atac_fragments.tsv.gz'),\n",
    "          cells = file.path(seq_dir, files, 'per_barcode_metrics.csv'), \n",
    "            gex_molecule_info = file.path(seq_dir, files, 'gex_molecule_info.h5'))"
   ]
  },
  {
   "cell_type": "code",
   "execution_count": 14,
   "id": "worth-canvas",
   "metadata": {},
   "outputs": [
    {
     "data": {
      "text/html": [
       "<table class=\"dataframe\">\n",
       "<caption>A data.frame: 16 × 4</caption>\n",
       "<thead>\n",
       "\t<tr><th scope=col>library_id</th><th scope=col>fragments</th><th scope=col>cells</th><th scope=col>gex_molecule_info</th></tr>\n",
       "\t<tr><th scope=col>&lt;chr&gt;</th><th scope=col>&lt;chr&gt;</th><th scope=col>&lt;chr&gt;</th><th scope=col>&lt;chr&gt;</th></tr>\n",
       "</thead>\n",
       "<tbody>\n",
       "\t<tr><td>cellranger-arc200_count_01bf5eb88f1fd6261cd273821e27ec62</td><td>/lustre/scratch126/cellgen/team297/bs16/current_projects/kidney_glomTI_response/data/seq_data/10X_multiome/cellranger-arc200_count_01bf5eb88f1fd6261cd273821e27ec62/atac_fragments.tsv.gz</td><td>/lustre/scratch126/cellgen/team297/bs16/current_projects/kidney_glomTI_response/data/seq_data/10X_multiome/cellranger-arc200_count_01bf5eb88f1fd6261cd273821e27ec62/per_barcode_metrics.csv</td><td>/lustre/scratch126/cellgen/team297/bs16/current_projects/kidney_glomTI_response/data/seq_data/10X_multiome/cellranger-arc200_count_01bf5eb88f1fd6261cd273821e27ec62/gex_molecule_info.h5</td></tr>\n",
       "\t<tr><td>cellranger-arc200_count_01cd0b1f038cca6db6a3172cce92d8b2</td><td>/lustre/scratch126/cellgen/team297/bs16/current_projects/kidney_glomTI_response/data/seq_data/10X_multiome/cellranger-arc200_count_01cd0b1f038cca6db6a3172cce92d8b2/atac_fragments.tsv.gz</td><td>/lustre/scratch126/cellgen/team297/bs16/current_projects/kidney_glomTI_response/data/seq_data/10X_multiome/cellranger-arc200_count_01cd0b1f038cca6db6a3172cce92d8b2/per_barcode_metrics.csv</td><td>/lustre/scratch126/cellgen/team297/bs16/current_projects/kidney_glomTI_response/data/seq_data/10X_multiome/cellranger-arc200_count_01cd0b1f038cca6db6a3172cce92d8b2/gex_molecule_info.h5</td></tr>\n",
       "\t<tr><td>cellranger-arc200_count_1025c2e00f0348103d1c9859a69d9096</td><td>/lustre/scratch126/cellgen/team297/bs16/current_projects/kidney_glomTI_response/data/seq_data/10X_multiome/cellranger-arc200_count_1025c2e00f0348103d1c9859a69d9096/atac_fragments.tsv.gz</td><td>/lustre/scratch126/cellgen/team297/bs16/current_projects/kidney_glomTI_response/data/seq_data/10X_multiome/cellranger-arc200_count_1025c2e00f0348103d1c9859a69d9096/per_barcode_metrics.csv</td><td>/lustre/scratch126/cellgen/team297/bs16/current_projects/kidney_glomTI_response/data/seq_data/10X_multiome/cellranger-arc200_count_1025c2e00f0348103d1c9859a69d9096/gex_molecule_info.h5</td></tr>\n",
       "\t<tr><td>cellranger-arc200_count_1f05add56c821daa7f4f5f054982ad61</td><td>/lustre/scratch126/cellgen/team297/bs16/current_projects/kidney_glomTI_response/data/seq_data/10X_multiome/cellranger-arc200_count_1f05add56c821daa7f4f5f054982ad61/atac_fragments.tsv.gz</td><td>/lustre/scratch126/cellgen/team297/bs16/current_projects/kidney_glomTI_response/data/seq_data/10X_multiome/cellranger-arc200_count_1f05add56c821daa7f4f5f054982ad61/per_barcode_metrics.csv</td><td>/lustre/scratch126/cellgen/team297/bs16/current_projects/kidney_glomTI_response/data/seq_data/10X_multiome/cellranger-arc200_count_1f05add56c821daa7f4f5f054982ad61/gex_molecule_info.h5</td></tr>\n",
       "\t<tr><td>cellranger-arc200_count_426421b13676b7ad1ab64607030fd992</td><td>/lustre/scratch126/cellgen/team297/bs16/current_projects/kidney_glomTI_response/data/seq_data/10X_multiome/cellranger-arc200_count_426421b13676b7ad1ab64607030fd992/atac_fragments.tsv.gz</td><td>/lustre/scratch126/cellgen/team297/bs16/current_projects/kidney_glomTI_response/data/seq_data/10X_multiome/cellranger-arc200_count_426421b13676b7ad1ab64607030fd992/per_barcode_metrics.csv</td><td>/lustre/scratch126/cellgen/team297/bs16/current_projects/kidney_glomTI_response/data/seq_data/10X_multiome/cellranger-arc200_count_426421b13676b7ad1ab64607030fd992/gex_molecule_info.h5</td></tr>\n",
       "\t<tr><td>cellranger-arc200_count_45b1a41724921d5ae562e15580bf2243</td><td>/lustre/scratch126/cellgen/team297/bs16/current_projects/kidney_glomTI_response/data/seq_data/10X_multiome/cellranger-arc200_count_45b1a41724921d5ae562e15580bf2243/atac_fragments.tsv.gz</td><td>/lustre/scratch126/cellgen/team297/bs16/current_projects/kidney_glomTI_response/data/seq_data/10X_multiome/cellranger-arc200_count_45b1a41724921d5ae562e15580bf2243/per_barcode_metrics.csv</td><td>/lustre/scratch126/cellgen/team297/bs16/current_projects/kidney_glomTI_response/data/seq_data/10X_multiome/cellranger-arc200_count_45b1a41724921d5ae562e15580bf2243/gex_molecule_info.h5</td></tr>\n",
       "\t<tr><td>cellranger-arc200_count_4cf593ecccbf5c8b4fbe80bb80a48bef</td><td>/lustre/scratch126/cellgen/team297/bs16/current_projects/kidney_glomTI_response/data/seq_data/10X_multiome/cellranger-arc200_count_4cf593ecccbf5c8b4fbe80bb80a48bef/atac_fragments.tsv.gz</td><td>/lustre/scratch126/cellgen/team297/bs16/current_projects/kidney_glomTI_response/data/seq_data/10X_multiome/cellranger-arc200_count_4cf593ecccbf5c8b4fbe80bb80a48bef/per_barcode_metrics.csv</td><td>/lustre/scratch126/cellgen/team297/bs16/current_projects/kidney_glomTI_response/data/seq_data/10X_multiome/cellranger-arc200_count_4cf593ecccbf5c8b4fbe80bb80a48bef/gex_molecule_info.h5</td></tr>\n",
       "\t<tr><td>cellranger-arc200_count_6c2252bc28c267c2b3e6e944af693fdc</td><td>/lustre/scratch126/cellgen/team297/bs16/current_projects/kidney_glomTI_response/data/seq_data/10X_multiome/cellranger-arc200_count_6c2252bc28c267c2b3e6e944af693fdc/atac_fragments.tsv.gz</td><td>/lustre/scratch126/cellgen/team297/bs16/current_projects/kidney_glomTI_response/data/seq_data/10X_multiome/cellranger-arc200_count_6c2252bc28c267c2b3e6e944af693fdc/per_barcode_metrics.csv</td><td>/lustre/scratch126/cellgen/team297/bs16/current_projects/kidney_glomTI_response/data/seq_data/10X_multiome/cellranger-arc200_count_6c2252bc28c267c2b3e6e944af693fdc/gex_molecule_info.h5</td></tr>\n",
       "\t<tr><td>cellranger-arc200_count_74321fba0e783fce0013e58e85e71d44</td><td>/lustre/scratch126/cellgen/team297/bs16/current_projects/kidney_glomTI_response/data/seq_data/10X_multiome/cellranger-arc200_count_74321fba0e783fce0013e58e85e71d44/atac_fragments.tsv.gz</td><td>/lustre/scratch126/cellgen/team297/bs16/current_projects/kidney_glomTI_response/data/seq_data/10X_multiome/cellranger-arc200_count_74321fba0e783fce0013e58e85e71d44/per_barcode_metrics.csv</td><td>/lustre/scratch126/cellgen/team297/bs16/current_projects/kidney_glomTI_response/data/seq_data/10X_multiome/cellranger-arc200_count_74321fba0e783fce0013e58e85e71d44/gex_molecule_info.h5</td></tr>\n",
       "\t<tr><td>cellranger-arc200_count_8e59d6e5b9b4a25a7bbc7bb2467ecfab</td><td>/lustre/scratch126/cellgen/team297/bs16/current_projects/kidney_glomTI_response/data/seq_data/10X_multiome/cellranger-arc200_count_8e59d6e5b9b4a25a7bbc7bb2467ecfab/atac_fragments.tsv.gz</td><td>/lustre/scratch126/cellgen/team297/bs16/current_projects/kidney_glomTI_response/data/seq_data/10X_multiome/cellranger-arc200_count_8e59d6e5b9b4a25a7bbc7bb2467ecfab/per_barcode_metrics.csv</td><td>/lustre/scratch126/cellgen/team297/bs16/current_projects/kidney_glomTI_response/data/seq_data/10X_multiome/cellranger-arc200_count_8e59d6e5b9b4a25a7bbc7bb2467ecfab/gex_molecule_info.h5</td></tr>\n",
       "\t<tr><td>cellranger-arc200_count_a7a1cc9612bab77c305d5f44b7fd527b</td><td>/lustre/scratch126/cellgen/team297/bs16/current_projects/kidney_glomTI_response/data/seq_data/10X_multiome/cellranger-arc200_count_a7a1cc9612bab77c305d5f44b7fd527b/atac_fragments.tsv.gz</td><td>/lustre/scratch126/cellgen/team297/bs16/current_projects/kidney_glomTI_response/data/seq_data/10X_multiome/cellranger-arc200_count_a7a1cc9612bab77c305d5f44b7fd527b/per_barcode_metrics.csv</td><td>/lustre/scratch126/cellgen/team297/bs16/current_projects/kidney_glomTI_response/data/seq_data/10X_multiome/cellranger-arc200_count_a7a1cc9612bab77c305d5f44b7fd527b/gex_molecule_info.h5</td></tr>\n",
       "\t<tr><td>cellranger-arc200_count_a7e3f3b7368071bef84eefdb6632acd4</td><td>/lustre/scratch126/cellgen/team297/bs16/current_projects/kidney_glomTI_response/data/seq_data/10X_multiome/cellranger-arc200_count_a7e3f3b7368071bef84eefdb6632acd4/atac_fragments.tsv.gz</td><td>/lustre/scratch126/cellgen/team297/bs16/current_projects/kidney_glomTI_response/data/seq_data/10X_multiome/cellranger-arc200_count_a7e3f3b7368071bef84eefdb6632acd4/per_barcode_metrics.csv</td><td>/lustre/scratch126/cellgen/team297/bs16/current_projects/kidney_glomTI_response/data/seq_data/10X_multiome/cellranger-arc200_count_a7e3f3b7368071bef84eefdb6632acd4/gex_molecule_info.h5</td></tr>\n",
       "\t<tr><td>cellranger-arc200_count_ab64b7249f90c1a7b6b45a07813a6628</td><td>/lustre/scratch126/cellgen/team297/bs16/current_projects/kidney_glomTI_response/data/seq_data/10X_multiome/cellranger-arc200_count_ab64b7249f90c1a7b6b45a07813a6628/atac_fragments.tsv.gz</td><td>/lustre/scratch126/cellgen/team297/bs16/current_projects/kidney_glomTI_response/data/seq_data/10X_multiome/cellranger-arc200_count_ab64b7249f90c1a7b6b45a07813a6628/per_barcode_metrics.csv</td><td>/lustre/scratch126/cellgen/team297/bs16/current_projects/kidney_glomTI_response/data/seq_data/10X_multiome/cellranger-arc200_count_ab64b7249f90c1a7b6b45a07813a6628/gex_molecule_info.h5</td></tr>\n",
       "\t<tr><td>cellranger-arc200_count_eaeba636b2c180fc9041a08278bd2bc8</td><td>/lustre/scratch126/cellgen/team297/bs16/current_projects/kidney_glomTI_response/data/seq_data/10X_multiome/cellranger-arc200_count_eaeba636b2c180fc9041a08278bd2bc8/atac_fragments.tsv.gz</td><td>/lustre/scratch126/cellgen/team297/bs16/current_projects/kidney_glomTI_response/data/seq_data/10X_multiome/cellranger-arc200_count_eaeba636b2c180fc9041a08278bd2bc8/per_barcode_metrics.csv</td><td>/lustre/scratch126/cellgen/team297/bs16/current_projects/kidney_glomTI_response/data/seq_data/10X_multiome/cellranger-arc200_count_eaeba636b2c180fc9041a08278bd2bc8/gex_molecule_info.h5</td></tr>\n",
       "\t<tr><td>cellranger-arc200_count_f4b032abc513453fee40a6bd05fe1c84</td><td>/lustre/scratch126/cellgen/team297/bs16/current_projects/kidney_glomTI_response/data/seq_data/10X_multiome/cellranger-arc200_count_f4b032abc513453fee40a6bd05fe1c84/atac_fragments.tsv.gz</td><td>/lustre/scratch126/cellgen/team297/bs16/current_projects/kidney_glomTI_response/data/seq_data/10X_multiome/cellranger-arc200_count_f4b032abc513453fee40a6bd05fe1c84/per_barcode_metrics.csv</td><td>/lustre/scratch126/cellgen/team297/bs16/current_projects/kidney_glomTI_response/data/seq_data/10X_multiome/cellranger-arc200_count_f4b032abc513453fee40a6bd05fe1c84/gex_molecule_info.h5</td></tr>\n",
       "\t<tr><td>cellranger-arc200_count_ffb2d458cc939df2f22324fd3a5f9e66</td><td>/lustre/scratch126/cellgen/team297/bs16/current_projects/kidney_glomTI_response/data/seq_data/10X_multiome/cellranger-arc200_count_ffb2d458cc939df2f22324fd3a5f9e66/atac_fragments.tsv.gz</td><td>/lustre/scratch126/cellgen/team297/bs16/current_projects/kidney_glomTI_response/data/seq_data/10X_multiome/cellranger-arc200_count_ffb2d458cc939df2f22324fd3a5f9e66/per_barcode_metrics.csv</td><td>/lustre/scratch126/cellgen/team297/bs16/current_projects/kidney_glomTI_response/data/seq_data/10X_multiome/cellranger-arc200_count_ffb2d458cc939df2f22324fd3a5f9e66/gex_molecule_info.h5</td></tr>\n",
       "</tbody>\n",
       "</table>\n"
      ],
      "text/latex": [
       "A data.frame: 16 × 4\n",
       "\\begin{tabular}{llll}\n",
       " library\\_id & fragments & cells & gex\\_molecule\\_info\\\\\n",
       " <chr> & <chr> & <chr> & <chr>\\\\\n",
       "\\hline\n",
       "\t cellranger-arc200\\_count\\_01bf5eb88f1fd6261cd273821e27ec62 & /lustre/scratch126/cellgen/team297/bs16/current\\_projects/kidney\\_glomTI\\_response/data/seq\\_data/10X\\_multiome/cellranger-arc200\\_count\\_01bf5eb88f1fd6261cd273821e27ec62/atac\\_fragments.tsv.gz & /lustre/scratch126/cellgen/team297/bs16/current\\_projects/kidney\\_glomTI\\_response/data/seq\\_data/10X\\_multiome/cellranger-arc200\\_count\\_01bf5eb88f1fd6261cd273821e27ec62/per\\_barcode\\_metrics.csv & /lustre/scratch126/cellgen/team297/bs16/current\\_projects/kidney\\_glomTI\\_response/data/seq\\_data/10X\\_multiome/cellranger-arc200\\_count\\_01bf5eb88f1fd6261cd273821e27ec62/gex\\_molecule\\_info.h5\\\\\n",
       "\t cellranger-arc200\\_count\\_01cd0b1f038cca6db6a3172cce92d8b2 & /lustre/scratch126/cellgen/team297/bs16/current\\_projects/kidney\\_glomTI\\_response/data/seq\\_data/10X\\_multiome/cellranger-arc200\\_count\\_01cd0b1f038cca6db6a3172cce92d8b2/atac\\_fragments.tsv.gz & /lustre/scratch126/cellgen/team297/bs16/current\\_projects/kidney\\_glomTI\\_response/data/seq\\_data/10X\\_multiome/cellranger-arc200\\_count\\_01cd0b1f038cca6db6a3172cce92d8b2/per\\_barcode\\_metrics.csv & /lustre/scratch126/cellgen/team297/bs16/current\\_projects/kidney\\_glomTI\\_response/data/seq\\_data/10X\\_multiome/cellranger-arc200\\_count\\_01cd0b1f038cca6db6a3172cce92d8b2/gex\\_molecule\\_info.h5\\\\\n",
       "\t cellranger-arc200\\_count\\_1025c2e00f0348103d1c9859a69d9096 & /lustre/scratch126/cellgen/team297/bs16/current\\_projects/kidney\\_glomTI\\_response/data/seq\\_data/10X\\_multiome/cellranger-arc200\\_count\\_1025c2e00f0348103d1c9859a69d9096/atac\\_fragments.tsv.gz & /lustre/scratch126/cellgen/team297/bs16/current\\_projects/kidney\\_glomTI\\_response/data/seq\\_data/10X\\_multiome/cellranger-arc200\\_count\\_1025c2e00f0348103d1c9859a69d9096/per\\_barcode\\_metrics.csv & /lustre/scratch126/cellgen/team297/bs16/current\\_projects/kidney\\_glomTI\\_response/data/seq\\_data/10X\\_multiome/cellranger-arc200\\_count\\_1025c2e00f0348103d1c9859a69d9096/gex\\_molecule\\_info.h5\\\\\n",
       "\t cellranger-arc200\\_count\\_1f05add56c821daa7f4f5f054982ad61 & /lustre/scratch126/cellgen/team297/bs16/current\\_projects/kidney\\_glomTI\\_response/data/seq\\_data/10X\\_multiome/cellranger-arc200\\_count\\_1f05add56c821daa7f4f5f054982ad61/atac\\_fragments.tsv.gz & /lustre/scratch126/cellgen/team297/bs16/current\\_projects/kidney\\_glomTI\\_response/data/seq\\_data/10X\\_multiome/cellranger-arc200\\_count\\_1f05add56c821daa7f4f5f054982ad61/per\\_barcode\\_metrics.csv & /lustre/scratch126/cellgen/team297/bs16/current\\_projects/kidney\\_glomTI\\_response/data/seq\\_data/10X\\_multiome/cellranger-arc200\\_count\\_1f05add56c821daa7f4f5f054982ad61/gex\\_molecule\\_info.h5\\\\\n",
       "\t cellranger-arc200\\_count\\_426421b13676b7ad1ab64607030fd992 & /lustre/scratch126/cellgen/team297/bs16/current\\_projects/kidney\\_glomTI\\_response/data/seq\\_data/10X\\_multiome/cellranger-arc200\\_count\\_426421b13676b7ad1ab64607030fd992/atac\\_fragments.tsv.gz & /lustre/scratch126/cellgen/team297/bs16/current\\_projects/kidney\\_glomTI\\_response/data/seq\\_data/10X\\_multiome/cellranger-arc200\\_count\\_426421b13676b7ad1ab64607030fd992/per\\_barcode\\_metrics.csv & /lustre/scratch126/cellgen/team297/bs16/current\\_projects/kidney\\_glomTI\\_response/data/seq\\_data/10X\\_multiome/cellranger-arc200\\_count\\_426421b13676b7ad1ab64607030fd992/gex\\_molecule\\_info.h5\\\\\n",
       "\t cellranger-arc200\\_count\\_45b1a41724921d5ae562e15580bf2243 & /lustre/scratch126/cellgen/team297/bs16/current\\_projects/kidney\\_glomTI\\_response/data/seq\\_data/10X\\_multiome/cellranger-arc200\\_count\\_45b1a41724921d5ae562e15580bf2243/atac\\_fragments.tsv.gz & /lustre/scratch126/cellgen/team297/bs16/current\\_projects/kidney\\_glomTI\\_response/data/seq\\_data/10X\\_multiome/cellranger-arc200\\_count\\_45b1a41724921d5ae562e15580bf2243/per\\_barcode\\_metrics.csv & /lustre/scratch126/cellgen/team297/bs16/current\\_projects/kidney\\_glomTI\\_response/data/seq\\_data/10X\\_multiome/cellranger-arc200\\_count\\_45b1a41724921d5ae562e15580bf2243/gex\\_molecule\\_info.h5\\\\\n",
       "\t cellranger-arc200\\_count\\_4cf593ecccbf5c8b4fbe80bb80a48bef & /lustre/scratch126/cellgen/team297/bs16/current\\_projects/kidney\\_glomTI\\_response/data/seq\\_data/10X\\_multiome/cellranger-arc200\\_count\\_4cf593ecccbf5c8b4fbe80bb80a48bef/atac\\_fragments.tsv.gz & /lustre/scratch126/cellgen/team297/bs16/current\\_projects/kidney\\_glomTI\\_response/data/seq\\_data/10X\\_multiome/cellranger-arc200\\_count\\_4cf593ecccbf5c8b4fbe80bb80a48bef/per\\_barcode\\_metrics.csv & /lustre/scratch126/cellgen/team297/bs16/current\\_projects/kidney\\_glomTI\\_response/data/seq\\_data/10X\\_multiome/cellranger-arc200\\_count\\_4cf593ecccbf5c8b4fbe80bb80a48bef/gex\\_molecule\\_info.h5\\\\\n",
       "\t cellranger-arc200\\_count\\_6c2252bc28c267c2b3e6e944af693fdc & /lustre/scratch126/cellgen/team297/bs16/current\\_projects/kidney\\_glomTI\\_response/data/seq\\_data/10X\\_multiome/cellranger-arc200\\_count\\_6c2252bc28c267c2b3e6e944af693fdc/atac\\_fragments.tsv.gz & /lustre/scratch126/cellgen/team297/bs16/current\\_projects/kidney\\_glomTI\\_response/data/seq\\_data/10X\\_multiome/cellranger-arc200\\_count\\_6c2252bc28c267c2b3e6e944af693fdc/per\\_barcode\\_metrics.csv & /lustre/scratch126/cellgen/team297/bs16/current\\_projects/kidney\\_glomTI\\_response/data/seq\\_data/10X\\_multiome/cellranger-arc200\\_count\\_6c2252bc28c267c2b3e6e944af693fdc/gex\\_molecule\\_info.h5\\\\\n",
       "\t cellranger-arc200\\_count\\_74321fba0e783fce0013e58e85e71d44 & /lustre/scratch126/cellgen/team297/bs16/current\\_projects/kidney\\_glomTI\\_response/data/seq\\_data/10X\\_multiome/cellranger-arc200\\_count\\_74321fba0e783fce0013e58e85e71d44/atac\\_fragments.tsv.gz & /lustre/scratch126/cellgen/team297/bs16/current\\_projects/kidney\\_glomTI\\_response/data/seq\\_data/10X\\_multiome/cellranger-arc200\\_count\\_74321fba0e783fce0013e58e85e71d44/per\\_barcode\\_metrics.csv & /lustre/scratch126/cellgen/team297/bs16/current\\_projects/kidney\\_glomTI\\_response/data/seq\\_data/10X\\_multiome/cellranger-arc200\\_count\\_74321fba0e783fce0013e58e85e71d44/gex\\_molecule\\_info.h5\\\\\n",
       "\t cellranger-arc200\\_count\\_8e59d6e5b9b4a25a7bbc7bb2467ecfab & /lustre/scratch126/cellgen/team297/bs16/current\\_projects/kidney\\_glomTI\\_response/data/seq\\_data/10X\\_multiome/cellranger-arc200\\_count\\_8e59d6e5b9b4a25a7bbc7bb2467ecfab/atac\\_fragments.tsv.gz & /lustre/scratch126/cellgen/team297/bs16/current\\_projects/kidney\\_glomTI\\_response/data/seq\\_data/10X\\_multiome/cellranger-arc200\\_count\\_8e59d6e5b9b4a25a7bbc7bb2467ecfab/per\\_barcode\\_metrics.csv & /lustre/scratch126/cellgen/team297/bs16/current\\_projects/kidney\\_glomTI\\_response/data/seq\\_data/10X\\_multiome/cellranger-arc200\\_count\\_8e59d6e5b9b4a25a7bbc7bb2467ecfab/gex\\_molecule\\_info.h5\\\\\n",
       "\t cellranger-arc200\\_count\\_a7a1cc9612bab77c305d5f44b7fd527b & /lustre/scratch126/cellgen/team297/bs16/current\\_projects/kidney\\_glomTI\\_response/data/seq\\_data/10X\\_multiome/cellranger-arc200\\_count\\_a7a1cc9612bab77c305d5f44b7fd527b/atac\\_fragments.tsv.gz & /lustre/scratch126/cellgen/team297/bs16/current\\_projects/kidney\\_glomTI\\_response/data/seq\\_data/10X\\_multiome/cellranger-arc200\\_count\\_a7a1cc9612bab77c305d5f44b7fd527b/per\\_barcode\\_metrics.csv & /lustre/scratch126/cellgen/team297/bs16/current\\_projects/kidney\\_glomTI\\_response/data/seq\\_data/10X\\_multiome/cellranger-arc200\\_count\\_a7a1cc9612bab77c305d5f44b7fd527b/gex\\_molecule\\_info.h5\\\\\n",
       "\t cellranger-arc200\\_count\\_a7e3f3b7368071bef84eefdb6632acd4 & /lustre/scratch126/cellgen/team297/bs16/current\\_projects/kidney\\_glomTI\\_response/data/seq\\_data/10X\\_multiome/cellranger-arc200\\_count\\_a7e3f3b7368071bef84eefdb6632acd4/atac\\_fragments.tsv.gz & /lustre/scratch126/cellgen/team297/bs16/current\\_projects/kidney\\_glomTI\\_response/data/seq\\_data/10X\\_multiome/cellranger-arc200\\_count\\_a7e3f3b7368071bef84eefdb6632acd4/per\\_barcode\\_metrics.csv & /lustre/scratch126/cellgen/team297/bs16/current\\_projects/kidney\\_glomTI\\_response/data/seq\\_data/10X\\_multiome/cellranger-arc200\\_count\\_a7e3f3b7368071bef84eefdb6632acd4/gex\\_molecule\\_info.h5\\\\\n",
       "\t cellranger-arc200\\_count\\_ab64b7249f90c1a7b6b45a07813a6628 & /lustre/scratch126/cellgen/team297/bs16/current\\_projects/kidney\\_glomTI\\_response/data/seq\\_data/10X\\_multiome/cellranger-arc200\\_count\\_ab64b7249f90c1a7b6b45a07813a6628/atac\\_fragments.tsv.gz & /lustre/scratch126/cellgen/team297/bs16/current\\_projects/kidney\\_glomTI\\_response/data/seq\\_data/10X\\_multiome/cellranger-arc200\\_count\\_ab64b7249f90c1a7b6b45a07813a6628/per\\_barcode\\_metrics.csv & /lustre/scratch126/cellgen/team297/bs16/current\\_projects/kidney\\_glomTI\\_response/data/seq\\_data/10X\\_multiome/cellranger-arc200\\_count\\_ab64b7249f90c1a7b6b45a07813a6628/gex\\_molecule\\_info.h5\\\\\n",
       "\t cellranger-arc200\\_count\\_eaeba636b2c180fc9041a08278bd2bc8 & /lustre/scratch126/cellgen/team297/bs16/current\\_projects/kidney\\_glomTI\\_response/data/seq\\_data/10X\\_multiome/cellranger-arc200\\_count\\_eaeba636b2c180fc9041a08278bd2bc8/atac\\_fragments.tsv.gz & /lustre/scratch126/cellgen/team297/bs16/current\\_projects/kidney\\_glomTI\\_response/data/seq\\_data/10X\\_multiome/cellranger-arc200\\_count\\_eaeba636b2c180fc9041a08278bd2bc8/per\\_barcode\\_metrics.csv & /lustre/scratch126/cellgen/team297/bs16/current\\_projects/kidney\\_glomTI\\_response/data/seq\\_data/10X\\_multiome/cellranger-arc200\\_count\\_eaeba636b2c180fc9041a08278bd2bc8/gex\\_molecule\\_info.h5\\\\\n",
       "\t cellranger-arc200\\_count\\_f4b032abc513453fee40a6bd05fe1c84 & /lustre/scratch126/cellgen/team297/bs16/current\\_projects/kidney\\_glomTI\\_response/data/seq\\_data/10X\\_multiome/cellranger-arc200\\_count\\_f4b032abc513453fee40a6bd05fe1c84/atac\\_fragments.tsv.gz & /lustre/scratch126/cellgen/team297/bs16/current\\_projects/kidney\\_glomTI\\_response/data/seq\\_data/10X\\_multiome/cellranger-arc200\\_count\\_f4b032abc513453fee40a6bd05fe1c84/per\\_barcode\\_metrics.csv & /lustre/scratch126/cellgen/team297/bs16/current\\_projects/kidney\\_glomTI\\_response/data/seq\\_data/10X\\_multiome/cellranger-arc200\\_count\\_f4b032abc513453fee40a6bd05fe1c84/gex\\_molecule\\_info.h5\\\\\n",
       "\t cellranger-arc200\\_count\\_ffb2d458cc939df2f22324fd3a5f9e66 & /lustre/scratch126/cellgen/team297/bs16/current\\_projects/kidney\\_glomTI\\_response/data/seq\\_data/10X\\_multiome/cellranger-arc200\\_count\\_ffb2d458cc939df2f22324fd3a5f9e66/atac\\_fragments.tsv.gz & /lustre/scratch126/cellgen/team297/bs16/current\\_projects/kidney\\_glomTI\\_response/data/seq\\_data/10X\\_multiome/cellranger-arc200\\_count\\_ffb2d458cc939df2f22324fd3a5f9e66/per\\_barcode\\_metrics.csv & /lustre/scratch126/cellgen/team297/bs16/current\\_projects/kidney\\_glomTI\\_response/data/seq\\_data/10X\\_multiome/cellranger-arc200\\_count\\_ffb2d458cc939df2f22324fd3a5f9e66/gex\\_molecule\\_info.h5\\\\\n",
       "\\end{tabular}\n"
      ],
      "text/markdown": [
       "\n",
       "A data.frame: 16 × 4\n",
       "\n",
       "| library_id &lt;chr&gt; | fragments &lt;chr&gt; | cells &lt;chr&gt; | gex_molecule_info &lt;chr&gt; |\n",
       "|---|---|---|---|\n",
       "| cellranger-arc200_count_01bf5eb88f1fd6261cd273821e27ec62 | /lustre/scratch126/cellgen/team297/bs16/current_projects/kidney_glomTI_response/data/seq_data/10X_multiome/cellranger-arc200_count_01bf5eb88f1fd6261cd273821e27ec62/atac_fragments.tsv.gz | /lustre/scratch126/cellgen/team297/bs16/current_projects/kidney_glomTI_response/data/seq_data/10X_multiome/cellranger-arc200_count_01bf5eb88f1fd6261cd273821e27ec62/per_barcode_metrics.csv | /lustre/scratch126/cellgen/team297/bs16/current_projects/kidney_glomTI_response/data/seq_data/10X_multiome/cellranger-arc200_count_01bf5eb88f1fd6261cd273821e27ec62/gex_molecule_info.h5 |\n",
       "| cellranger-arc200_count_01cd0b1f038cca6db6a3172cce92d8b2 | /lustre/scratch126/cellgen/team297/bs16/current_projects/kidney_glomTI_response/data/seq_data/10X_multiome/cellranger-arc200_count_01cd0b1f038cca6db6a3172cce92d8b2/atac_fragments.tsv.gz | /lustre/scratch126/cellgen/team297/bs16/current_projects/kidney_glomTI_response/data/seq_data/10X_multiome/cellranger-arc200_count_01cd0b1f038cca6db6a3172cce92d8b2/per_barcode_metrics.csv | /lustre/scratch126/cellgen/team297/bs16/current_projects/kidney_glomTI_response/data/seq_data/10X_multiome/cellranger-arc200_count_01cd0b1f038cca6db6a3172cce92d8b2/gex_molecule_info.h5 |\n",
       "| cellranger-arc200_count_1025c2e00f0348103d1c9859a69d9096 | /lustre/scratch126/cellgen/team297/bs16/current_projects/kidney_glomTI_response/data/seq_data/10X_multiome/cellranger-arc200_count_1025c2e00f0348103d1c9859a69d9096/atac_fragments.tsv.gz | /lustre/scratch126/cellgen/team297/bs16/current_projects/kidney_glomTI_response/data/seq_data/10X_multiome/cellranger-arc200_count_1025c2e00f0348103d1c9859a69d9096/per_barcode_metrics.csv | /lustre/scratch126/cellgen/team297/bs16/current_projects/kidney_glomTI_response/data/seq_data/10X_multiome/cellranger-arc200_count_1025c2e00f0348103d1c9859a69d9096/gex_molecule_info.h5 |\n",
       "| cellranger-arc200_count_1f05add56c821daa7f4f5f054982ad61 | /lustre/scratch126/cellgen/team297/bs16/current_projects/kidney_glomTI_response/data/seq_data/10X_multiome/cellranger-arc200_count_1f05add56c821daa7f4f5f054982ad61/atac_fragments.tsv.gz | /lustre/scratch126/cellgen/team297/bs16/current_projects/kidney_glomTI_response/data/seq_data/10X_multiome/cellranger-arc200_count_1f05add56c821daa7f4f5f054982ad61/per_barcode_metrics.csv | /lustre/scratch126/cellgen/team297/bs16/current_projects/kidney_glomTI_response/data/seq_data/10X_multiome/cellranger-arc200_count_1f05add56c821daa7f4f5f054982ad61/gex_molecule_info.h5 |\n",
       "| cellranger-arc200_count_426421b13676b7ad1ab64607030fd992 | /lustre/scratch126/cellgen/team297/bs16/current_projects/kidney_glomTI_response/data/seq_data/10X_multiome/cellranger-arc200_count_426421b13676b7ad1ab64607030fd992/atac_fragments.tsv.gz | /lustre/scratch126/cellgen/team297/bs16/current_projects/kidney_glomTI_response/data/seq_data/10X_multiome/cellranger-arc200_count_426421b13676b7ad1ab64607030fd992/per_barcode_metrics.csv | /lustre/scratch126/cellgen/team297/bs16/current_projects/kidney_glomTI_response/data/seq_data/10X_multiome/cellranger-arc200_count_426421b13676b7ad1ab64607030fd992/gex_molecule_info.h5 |\n",
       "| cellranger-arc200_count_45b1a41724921d5ae562e15580bf2243 | /lustre/scratch126/cellgen/team297/bs16/current_projects/kidney_glomTI_response/data/seq_data/10X_multiome/cellranger-arc200_count_45b1a41724921d5ae562e15580bf2243/atac_fragments.tsv.gz | /lustre/scratch126/cellgen/team297/bs16/current_projects/kidney_glomTI_response/data/seq_data/10X_multiome/cellranger-arc200_count_45b1a41724921d5ae562e15580bf2243/per_barcode_metrics.csv | /lustre/scratch126/cellgen/team297/bs16/current_projects/kidney_glomTI_response/data/seq_data/10X_multiome/cellranger-arc200_count_45b1a41724921d5ae562e15580bf2243/gex_molecule_info.h5 |\n",
       "| cellranger-arc200_count_4cf593ecccbf5c8b4fbe80bb80a48bef | /lustre/scratch126/cellgen/team297/bs16/current_projects/kidney_glomTI_response/data/seq_data/10X_multiome/cellranger-arc200_count_4cf593ecccbf5c8b4fbe80bb80a48bef/atac_fragments.tsv.gz | /lustre/scratch126/cellgen/team297/bs16/current_projects/kidney_glomTI_response/data/seq_data/10X_multiome/cellranger-arc200_count_4cf593ecccbf5c8b4fbe80bb80a48bef/per_barcode_metrics.csv | /lustre/scratch126/cellgen/team297/bs16/current_projects/kidney_glomTI_response/data/seq_data/10X_multiome/cellranger-arc200_count_4cf593ecccbf5c8b4fbe80bb80a48bef/gex_molecule_info.h5 |\n",
       "| cellranger-arc200_count_6c2252bc28c267c2b3e6e944af693fdc | /lustre/scratch126/cellgen/team297/bs16/current_projects/kidney_glomTI_response/data/seq_data/10X_multiome/cellranger-arc200_count_6c2252bc28c267c2b3e6e944af693fdc/atac_fragments.tsv.gz | /lustre/scratch126/cellgen/team297/bs16/current_projects/kidney_glomTI_response/data/seq_data/10X_multiome/cellranger-arc200_count_6c2252bc28c267c2b3e6e944af693fdc/per_barcode_metrics.csv | /lustre/scratch126/cellgen/team297/bs16/current_projects/kidney_glomTI_response/data/seq_data/10X_multiome/cellranger-arc200_count_6c2252bc28c267c2b3e6e944af693fdc/gex_molecule_info.h5 |\n",
       "| cellranger-arc200_count_74321fba0e783fce0013e58e85e71d44 | /lustre/scratch126/cellgen/team297/bs16/current_projects/kidney_glomTI_response/data/seq_data/10X_multiome/cellranger-arc200_count_74321fba0e783fce0013e58e85e71d44/atac_fragments.tsv.gz | /lustre/scratch126/cellgen/team297/bs16/current_projects/kidney_glomTI_response/data/seq_data/10X_multiome/cellranger-arc200_count_74321fba0e783fce0013e58e85e71d44/per_barcode_metrics.csv | /lustre/scratch126/cellgen/team297/bs16/current_projects/kidney_glomTI_response/data/seq_data/10X_multiome/cellranger-arc200_count_74321fba0e783fce0013e58e85e71d44/gex_molecule_info.h5 |\n",
       "| cellranger-arc200_count_8e59d6e5b9b4a25a7bbc7bb2467ecfab | /lustre/scratch126/cellgen/team297/bs16/current_projects/kidney_glomTI_response/data/seq_data/10X_multiome/cellranger-arc200_count_8e59d6e5b9b4a25a7bbc7bb2467ecfab/atac_fragments.tsv.gz | /lustre/scratch126/cellgen/team297/bs16/current_projects/kidney_glomTI_response/data/seq_data/10X_multiome/cellranger-arc200_count_8e59d6e5b9b4a25a7bbc7bb2467ecfab/per_barcode_metrics.csv | /lustre/scratch126/cellgen/team297/bs16/current_projects/kidney_glomTI_response/data/seq_data/10X_multiome/cellranger-arc200_count_8e59d6e5b9b4a25a7bbc7bb2467ecfab/gex_molecule_info.h5 |\n",
       "| cellranger-arc200_count_a7a1cc9612bab77c305d5f44b7fd527b | /lustre/scratch126/cellgen/team297/bs16/current_projects/kidney_glomTI_response/data/seq_data/10X_multiome/cellranger-arc200_count_a7a1cc9612bab77c305d5f44b7fd527b/atac_fragments.tsv.gz | /lustre/scratch126/cellgen/team297/bs16/current_projects/kidney_glomTI_response/data/seq_data/10X_multiome/cellranger-arc200_count_a7a1cc9612bab77c305d5f44b7fd527b/per_barcode_metrics.csv | /lustre/scratch126/cellgen/team297/bs16/current_projects/kidney_glomTI_response/data/seq_data/10X_multiome/cellranger-arc200_count_a7a1cc9612bab77c305d5f44b7fd527b/gex_molecule_info.h5 |\n",
       "| cellranger-arc200_count_a7e3f3b7368071bef84eefdb6632acd4 | /lustre/scratch126/cellgen/team297/bs16/current_projects/kidney_glomTI_response/data/seq_data/10X_multiome/cellranger-arc200_count_a7e3f3b7368071bef84eefdb6632acd4/atac_fragments.tsv.gz | /lustre/scratch126/cellgen/team297/bs16/current_projects/kidney_glomTI_response/data/seq_data/10X_multiome/cellranger-arc200_count_a7e3f3b7368071bef84eefdb6632acd4/per_barcode_metrics.csv | /lustre/scratch126/cellgen/team297/bs16/current_projects/kidney_glomTI_response/data/seq_data/10X_multiome/cellranger-arc200_count_a7e3f3b7368071bef84eefdb6632acd4/gex_molecule_info.h5 |\n",
       "| cellranger-arc200_count_ab64b7249f90c1a7b6b45a07813a6628 | /lustre/scratch126/cellgen/team297/bs16/current_projects/kidney_glomTI_response/data/seq_data/10X_multiome/cellranger-arc200_count_ab64b7249f90c1a7b6b45a07813a6628/atac_fragments.tsv.gz | /lustre/scratch126/cellgen/team297/bs16/current_projects/kidney_glomTI_response/data/seq_data/10X_multiome/cellranger-arc200_count_ab64b7249f90c1a7b6b45a07813a6628/per_barcode_metrics.csv | /lustre/scratch126/cellgen/team297/bs16/current_projects/kidney_glomTI_response/data/seq_data/10X_multiome/cellranger-arc200_count_ab64b7249f90c1a7b6b45a07813a6628/gex_molecule_info.h5 |\n",
       "| cellranger-arc200_count_eaeba636b2c180fc9041a08278bd2bc8 | /lustre/scratch126/cellgen/team297/bs16/current_projects/kidney_glomTI_response/data/seq_data/10X_multiome/cellranger-arc200_count_eaeba636b2c180fc9041a08278bd2bc8/atac_fragments.tsv.gz | /lustre/scratch126/cellgen/team297/bs16/current_projects/kidney_glomTI_response/data/seq_data/10X_multiome/cellranger-arc200_count_eaeba636b2c180fc9041a08278bd2bc8/per_barcode_metrics.csv | /lustre/scratch126/cellgen/team297/bs16/current_projects/kidney_glomTI_response/data/seq_data/10X_multiome/cellranger-arc200_count_eaeba636b2c180fc9041a08278bd2bc8/gex_molecule_info.h5 |\n",
       "| cellranger-arc200_count_f4b032abc513453fee40a6bd05fe1c84 | /lustre/scratch126/cellgen/team297/bs16/current_projects/kidney_glomTI_response/data/seq_data/10X_multiome/cellranger-arc200_count_f4b032abc513453fee40a6bd05fe1c84/atac_fragments.tsv.gz | /lustre/scratch126/cellgen/team297/bs16/current_projects/kidney_glomTI_response/data/seq_data/10X_multiome/cellranger-arc200_count_f4b032abc513453fee40a6bd05fe1c84/per_barcode_metrics.csv | /lustre/scratch126/cellgen/team297/bs16/current_projects/kidney_glomTI_response/data/seq_data/10X_multiome/cellranger-arc200_count_f4b032abc513453fee40a6bd05fe1c84/gex_molecule_info.h5 |\n",
       "| cellranger-arc200_count_ffb2d458cc939df2f22324fd3a5f9e66 | /lustre/scratch126/cellgen/team297/bs16/current_projects/kidney_glomTI_response/data/seq_data/10X_multiome/cellranger-arc200_count_ffb2d458cc939df2f22324fd3a5f9e66/atac_fragments.tsv.gz | /lustre/scratch126/cellgen/team297/bs16/current_projects/kidney_glomTI_response/data/seq_data/10X_multiome/cellranger-arc200_count_ffb2d458cc939df2f22324fd3a5f9e66/per_barcode_metrics.csv | /lustre/scratch126/cellgen/team297/bs16/current_projects/kidney_glomTI_response/data/seq_data/10X_multiome/cellranger-arc200_count_ffb2d458cc939df2f22324fd3a5f9e66/gex_molecule_info.h5 |\n",
       "\n"
      ],
      "text/plain": [
       "   library_id                                              \n",
       "1  cellranger-arc200_count_01bf5eb88f1fd6261cd273821e27ec62\n",
       "2  cellranger-arc200_count_01cd0b1f038cca6db6a3172cce92d8b2\n",
       "3  cellranger-arc200_count_1025c2e00f0348103d1c9859a69d9096\n",
       "4  cellranger-arc200_count_1f05add56c821daa7f4f5f054982ad61\n",
       "5  cellranger-arc200_count_426421b13676b7ad1ab64607030fd992\n",
       "6  cellranger-arc200_count_45b1a41724921d5ae562e15580bf2243\n",
       "7  cellranger-arc200_count_4cf593ecccbf5c8b4fbe80bb80a48bef\n",
       "8  cellranger-arc200_count_6c2252bc28c267c2b3e6e944af693fdc\n",
       "9  cellranger-arc200_count_74321fba0e783fce0013e58e85e71d44\n",
       "10 cellranger-arc200_count_8e59d6e5b9b4a25a7bbc7bb2467ecfab\n",
       "11 cellranger-arc200_count_a7a1cc9612bab77c305d5f44b7fd527b\n",
       "12 cellranger-arc200_count_a7e3f3b7368071bef84eefdb6632acd4\n",
       "13 cellranger-arc200_count_ab64b7249f90c1a7b6b45a07813a6628\n",
       "14 cellranger-arc200_count_eaeba636b2c180fc9041a08278bd2bc8\n",
       "15 cellranger-arc200_count_f4b032abc513453fee40a6bd05fe1c84\n",
       "16 cellranger-arc200_count_ffb2d458cc939df2f22324fd3a5f9e66\n",
       "   fragments                                                                                                                                                                                \n",
       "1  /lustre/scratch126/cellgen/team297/bs16/current_projects/kidney_glomTI_response/data/seq_data/10X_multiome/cellranger-arc200_count_01bf5eb88f1fd6261cd273821e27ec62/atac_fragments.tsv.gz\n",
       "2  /lustre/scratch126/cellgen/team297/bs16/current_projects/kidney_glomTI_response/data/seq_data/10X_multiome/cellranger-arc200_count_01cd0b1f038cca6db6a3172cce92d8b2/atac_fragments.tsv.gz\n",
       "3  /lustre/scratch126/cellgen/team297/bs16/current_projects/kidney_glomTI_response/data/seq_data/10X_multiome/cellranger-arc200_count_1025c2e00f0348103d1c9859a69d9096/atac_fragments.tsv.gz\n",
       "4  /lustre/scratch126/cellgen/team297/bs16/current_projects/kidney_glomTI_response/data/seq_data/10X_multiome/cellranger-arc200_count_1f05add56c821daa7f4f5f054982ad61/atac_fragments.tsv.gz\n",
       "5  /lustre/scratch126/cellgen/team297/bs16/current_projects/kidney_glomTI_response/data/seq_data/10X_multiome/cellranger-arc200_count_426421b13676b7ad1ab64607030fd992/atac_fragments.tsv.gz\n",
       "6  /lustre/scratch126/cellgen/team297/bs16/current_projects/kidney_glomTI_response/data/seq_data/10X_multiome/cellranger-arc200_count_45b1a41724921d5ae562e15580bf2243/atac_fragments.tsv.gz\n",
       "7  /lustre/scratch126/cellgen/team297/bs16/current_projects/kidney_glomTI_response/data/seq_data/10X_multiome/cellranger-arc200_count_4cf593ecccbf5c8b4fbe80bb80a48bef/atac_fragments.tsv.gz\n",
       "8  /lustre/scratch126/cellgen/team297/bs16/current_projects/kidney_glomTI_response/data/seq_data/10X_multiome/cellranger-arc200_count_6c2252bc28c267c2b3e6e944af693fdc/atac_fragments.tsv.gz\n",
       "9  /lustre/scratch126/cellgen/team297/bs16/current_projects/kidney_glomTI_response/data/seq_data/10X_multiome/cellranger-arc200_count_74321fba0e783fce0013e58e85e71d44/atac_fragments.tsv.gz\n",
       "10 /lustre/scratch126/cellgen/team297/bs16/current_projects/kidney_glomTI_response/data/seq_data/10X_multiome/cellranger-arc200_count_8e59d6e5b9b4a25a7bbc7bb2467ecfab/atac_fragments.tsv.gz\n",
       "11 /lustre/scratch126/cellgen/team297/bs16/current_projects/kidney_glomTI_response/data/seq_data/10X_multiome/cellranger-arc200_count_a7a1cc9612bab77c305d5f44b7fd527b/atac_fragments.tsv.gz\n",
       "12 /lustre/scratch126/cellgen/team297/bs16/current_projects/kidney_glomTI_response/data/seq_data/10X_multiome/cellranger-arc200_count_a7e3f3b7368071bef84eefdb6632acd4/atac_fragments.tsv.gz\n",
       "13 /lustre/scratch126/cellgen/team297/bs16/current_projects/kidney_glomTI_response/data/seq_data/10X_multiome/cellranger-arc200_count_ab64b7249f90c1a7b6b45a07813a6628/atac_fragments.tsv.gz\n",
       "14 /lustre/scratch126/cellgen/team297/bs16/current_projects/kidney_glomTI_response/data/seq_data/10X_multiome/cellranger-arc200_count_eaeba636b2c180fc9041a08278bd2bc8/atac_fragments.tsv.gz\n",
       "15 /lustre/scratch126/cellgen/team297/bs16/current_projects/kidney_glomTI_response/data/seq_data/10X_multiome/cellranger-arc200_count_f4b032abc513453fee40a6bd05fe1c84/atac_fragments.tsv.gz\n",
       "16 /lustre/scratch126/cellgen/team297/bs16/current_projects/kidney_glomTI_response/data/seq_data/10X_multiome/cellranger-arc200_count_ffb2d458cc939df2f22324fd3a5f9e66/atac_fragments.tsv.gz\n",
       "   cells                                                                                                                                                                                      \n",
       "1  /lustre/scratch126/cellgen/team297/bs16/current_projects/kidney_glomTI_response/data/seq_data/10X_multiome/cellranger-arc200_count_01bf5eb88f1fd6261cd273821e27ec62/per_barcode_metrics.csv\n",
       "2  /lustre/scratch126/cellgen/team297/bs16/current_projects/kidney_glomTI_response/data/seq_data/10X_multiome/cellranger-arc200_count_01cd0b1f038cca6db6a3172cce92d8b2/per_barcode_metrics.csv\n",
       "3  /lustre/scratch126/cellgen/team297/bs16/current_projects/kidney_glomTI_response/data/seq_data/10X_multiome/cellranger-arc200_count_1025c2e00f0348103d1c9859a69d9096/per_barcode_metrics.csv\n",
       "4  /lustre/scratch126/cellgen/team297/bs16/current_projects/kidney_glomTI_response/data/seq_data/10X_multiome/cellranger-arc200_count_1f05add56c821daa7f4f5f054982ad61/per_barcode_metrics.csv\n",
       "5  /lustre/scratch126/cellgen/team297/bs16/current_projects/kidney_glomTI_response/data/seq_data/10X_multiome/cellranger-arc200_count_426421b13676b7ad1ab64607030fd992/per_barcode_metrics.csv\n",
       "6  /lustre/scratch126/cellgen/team297/bs16/current_projects/kidney_glomTI_response/data/seq_data/10X_multiome/cellranger-arc200_count_45b1a41724921d5ae562e15580bf2243/per_barcode_metrics.csv\n",
       "7  /lustre/scratch126/cellgen/team297/bs16/current_projects/kidney_glomTI_response/data/seq_data/10X_multiome/cellranger-arc200_count_4cf593ecccbf5c8b4fbe80bb80a48bef/per_barcode_metrics.csv\n",
       "8  /lustre/scratch126/cellgen/team297/bs16/current_projects/kidney_glomTI_response/data/seq_data/10X_multiome/cellranger-arc200_count_6c2252bc28c267c2b3e6e944af693fdc/per_barcode_metrics.csv\n",
       "9  /lustre/scratch126/cellgen/team297/bs16/current_projects/kidney_glomTI_response/data/seq_data/10X_multiome/cellranger-arc200_count_74321fba0e783fce0013e58e85e71d44/per_barcode_metrics.csv\n",
       "10 /lustre/scratch126/cellgen/team297/bs16/current_projects/kidney_glomTI_response/data/seq_data/10X_multiome/cellranger-arc200_count_8e59d6e5b9b4a25a7bbc7bb2467ecfab/per_barcode_metrics.csv\n",
       "11 /lustre/scratch126/cellgen/team297/bs16/current_projects/kidney_glomTI_response/data/seq_data/10X_multiome/cellranger-arc200_count_a7a1cc9612bab77c305d5f44b7fd527b/per_barcode_metrics.csv\n",
       "12 /lustre/scratch126/cellgen/team297/bs16/current_projects/kidney_glomTI_response/data/seq_data/10X_multiome/cellranger-arc200_count_a7e3f3b7368071bef84eefdb6632acd4/per_barcode_metrics.csv\n",
       "13 /lustre/scratch126/cellgen/team297/bs16/current_projects/kidney_glomTI_response/data/seq_data/10X_multiome/cellranger-arc200_count_ab64b7249f90c1a7b6b45a07813a6628/per_barcode_metrics.csv\n",
       "14 /lustre/scratch126/cellgen/team297/bs16/current_projects/kidney_glomTI_response/data/seq_data/10X_multiome/cellranger-arc200_count_eaeba636b2c180fc9041a08278bd2bc8/per_barcode_metrics.csv\n",
       "15 /lustre/scratch126/cellgen/team297/bs16/current_projects/kidney_glomTI_response/data/seq_data/10X_multiome/cellranger-arc200_count_f4b032abc513453fee40a6bd05fe1c84/per_barcode_metrics.csv\n",
       "16 /lustre/scratch126/cellgen/team297/bs16/current_projects/kidney_glomTI_response/data/seq_data/10X_multiome/cellranger-arc200_count_ffb2d458cc939df2f22324fd3a5f9e66/per_barcode_metrics.csv\n",
       "   gex_molecule_info                                                                                                                                                                       \n",
       "1  /lustre/scratch126/cellgen/team297/bs16/current_projects/kidney_glomTI_response/data/seq_data/10X_multiome/cellranger-arc200_count_01bf5eb88f1fd6261cd273821e27ec62/gex_molecule_info.h5\n",
       "2  /lustre/scratch126/cellgen/team297/bs16/current_projects/kidney_glomTI_response/data/seq_data/10X_multiome/cellranger-arc200_count_01cd0b1f038cca6db6a3172cce92d8b2/gex_molecule_info.h5\n",
       "3  /lustre/scratch126/cellgen/team297/bs16/current_projects/kidney_glomTI_response/data/seq_data/10X_multiome/cellranger-arc200_count_1025c2e00f0348103d1c9859a69d9096/gex_molecule_info.h5\n",
       "4  /lustre/scratch126/cellgen/team297/bs16/current_projects/kidney_glomTI_response/data/seq_data/10X_multiome/cellranger-arc200_count_1f05add56c821daa7f4f5f054982ad61/gex_molecule_info.h5\n",
       "5  /lustre/scratch126/cellgen/team297/bs16/current_projects/kidney_glomTI_response/data/seq_data/10X_multiome/cellranger-arc200_count_426421b13676b7ad1ab64607030fd992/gex_molecule_info.h5\n",
       "6  /lustre/scratch126/cellgen/team297/bs16/current_projects/kidney_glomTI_response/data/seq_data/10X_multiome/cellranger-arc200_count_45b1a41724921d5ae562e15580bf2243/gex_molecule_info.h5\n",
       "7  /lustre/scratch126/cellgen/team297/bs16/current_projects/kidney_glomTI_response/data/seq_data/10X_multiome/cellranger-arc200_count_4cf593ecccbf5c8b4fbe80bb80a48bef/gex_molecule_info.h5\n",
       "8  /lustre/scratch126/cellgen/team297/bs16/current_projects/kidney_glomTI_response/data/seq_data/10X_multiome/cellranger-arc200_count_6c2252bc28c267c2b3e6e944af693fdc/gex_molecule_info.h5\n",
       "9  /lustre/scratch126/cellgen/team297/bs16/current_projects/kidney_glomTI_response/data/seq_data/10X_multiome/cellranger-arc200_count_74321fba0e783fce0013e58e85e71d44/gex_molecule_info.h5\n",
       "10 /lustre/scratch126/cellgen/team297/bs16/current_projects/kidney_glomTI_response/data/seq_data/10X_multiome/cellranger-arc200_count_8e59d6e5b9b4a25a7bbc7bb2467ecfab/gex_molecule_info.h5\n",
       "11 /lustre/scratch126/cellgen/team297/bs16/current_projects/kidney_glomTI_response/data/seq_data/10X_multiome/cellranger-arc200_count_a7a1cc9612bab77c305d5f44b7fd527b/gex_molecule_info.h5\n",
       "12 /lustre/scratch126/cellgen/team297/bs16/current_projects/kidney_glomTI_response/data/seq_data/10X_multiome/cellranger-arc200_count_a7e3f3b7368071bef84eefdb6632acd4/gex_molecule_info.h5\n",
       "13 /lustre/scratch126/cellgen/team297/bs16/current_projects/kidney_glomTI_response/data/seq_data/10X_multiome/cellranger-arc200_count_ab64b7249f90c1a7b6b45a07813a6628/gex_molecule_info.h5\n",
       "14 /lustre/scratch126/cellgen/team297/bs16/current_projects/kidney_glomTI_response/data/seq_data/10X_multiome/cellranger-arc200_count_eaeba636b2c180fc9041a08278bd2bc8/gex_molecule_info.h5\n",
       "15 /lustre/scratch126/cellgen/team297/bs16/current_projects/kidney_glomTI_response/data/seq_data/10X_multiome/cellranger-arc200_count_f4b032abc513453fee40a6bd05fe1c84/gex_molecule_info.h5\n",
       "16 /lustre/scratch126/cellgen/team297/bs16/current_projects/kidney_glomTI_response/data/seq_data/10X_multiome/cellranger-arc200_count_ffb2d458cc939df2f22324fd3a5f9e66/gex_molecule_info.h5"
      ]
     },
     "metadata": {},
     "output_type": "display_data"
    }
   ],
   "source": [
    "aggr_df"
   ]
  },
  {
   "cell_type": "code",
   "execution_count": 15,
   "id": "advance-print",
   "metadata": {},
   "outputs": [],
   "source": [
    "write.csv(aggr_df, file.path(seq_dir, \"aggregation.csv\"), row.names = FALSE, quote = FALSE)"
   ]
  }
 ],
 "metadata": {
  "kernelspec": {
   "display_name": "R",
   "language": "R",
   "name": "ir"
  },
  "language_info": {
   "codemirror_mode": "r",
   "file_extension": ".r",
   "mimetype": "text/x-r-source",
   "name": "R",
   "pygments_lexer": "r",
   "version": "4.0.4"
  }
 },
 "nbformat": 4,
 "nbformat_minor": 5
}

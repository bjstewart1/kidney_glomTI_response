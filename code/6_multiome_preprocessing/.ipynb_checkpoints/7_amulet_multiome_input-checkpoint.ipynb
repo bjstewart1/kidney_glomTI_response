{
 "cells": [
  {
   "cell_type": "code",
   "execution_count": 1,
   "id": "fitting-commons",
   "metadata": {},
   "outputs": [],
   "source": [
    "#amulet input\n",
    "setwd(\"~/lustre/scratch117/cellgen/team297/bs16/10X_data/kidney_glom\")"
   ]
  },
  {
   "cell_type": "code",
   "execution_count": 2,
   "id": "expected-validation",
   "metadata": {},
   "outputs": [],
   "source": [
    "files = read.table(\"SOC_scripts/multiome_SOC_genotype_counts.txt\")[,1]"
   ]
  },
  {
   "cell_type": "code",
   "execution_count": 3,
   "id": "hydraulic-region",
   "metadata": {},
   "outputs": [
    {
     "name": "stderr",
     "output_type": "stream",
     "text": [
      "cellranger-arc200_count_01cd0b1f038cca6db6a3172cce92d8b2\n",
      "\n",
      "cellranger-arc200_count_426421b13676b7ad1ab64607030fd992\n",
      "\n",
      "cellranger-arc200_count_ab64b7249f90c1a7b6b45a07813a6628\n",
      "\n",
      "cellranger-arc200_count_a7a1cc9612bab77c305d5f44b7fd527b\n",
      "\n",
      "cellranger-arc200_count_01bf5eb88f1fd6261cd273821e27ec62\n",
      "\n",
      "cellranger-arc200_count_ffb2d458cc939df2f22324fd3a5f9e66\n",
      "\n",
      "cellranger-arc200_count_4cf593ecccbf5c8b4fbe80bb80a48bef\n",
      "\n",
      "cellranger-arc200_count_74321fba0e783fce0013e58e85e71d44\n",
      "\n",
      "cellranger-arc200_count_8e59d6e5b9b4a25a7bbc7bb2467ecfab\n",
      "\n",
      "cellranger-arc200_count_6c2252bc28c267c2b3e6e944af693fdc\n",
      "\n",
      "cellranger-arc200_count_f4b032abc513453fee40a6bd05fe1c84\n",
      "\n",
      "cellranger-arc200_count_45b1a41724921d5ae562e15580bf2243\n",
      "\n",
      "cellranger-arc200_count_eaeba636b2c180fc9041a08278bd2bc8\n",
      "\n",
      "cellranger-arc200_count_a7e3f3b7368071bef84eefdb6632acd4\n",
      "\n",
      "cellranger-arc200_count_1025c2e00f0348103d1c9859a69d9096\n",
      "\n",
      "cellranger-arc200_count_1f05add56c821daa7f4f5f054982ad61\n",
      "\n"
     ]
    }
   ],
   "source": [
    "for(f in files){\n",
    "    message(f)\n",
    "    bc_metrics = read.csv(file.path(\"10x_multiome\", f, \"per_barcode_metrics.csv\"))\n",
    "    df = data.frame(\"barcode\" = bc_metrics$barcode, \"is__cell_barcode\" =  bc_metrics$is_cell)\n",
    "    write.csv(df, file.path(\"10x_multiome\", f, \"single_cell.csv\"), row.names = FALSE)\n",
    "    }"
   ]
  }
 ],
 "metadata": {
  "kernelspec": {
   "display_name": "R",
   "language": "R",
   "name": "ir"
  },
  "language_info": {
   "codemirror_mode": "r",
   "file_extension": ".r",
   "mimetype": "text/x-r-source",
   "name": "R",
   "pygments_lexer": "r",
   "version": "4.1.2"
  }
 },
 "nbformat": 4,
 "nbformat_minor": 5
}

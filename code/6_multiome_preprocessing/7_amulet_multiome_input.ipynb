{
 "cells": [
  {
   "cell_type": "code",
   "execution_count": 1,
   "id": "general-faculty",
   "metadata": {},
   "outputs": [],
   "source": [
    "#amulet input\n",
    "setwd(\"~/lustre/scratch126/cellgen/team297/bs16/current_projects/kidney_glomTI_response/data/seq_data/10X_multiome\")"
   ]
  },
  {
   "cell_type": "code",
   "execution_count": 2,
   "id": "artificial-century",
   "metadata": {},
   "outputs": [],
   "source": [
    "files = read.table(\"SOC_scripts/SOC_genotype_counts_multiome.txt\")[,1]"
   ]
  },
  {
   "cell_type": "code",
   "execution_count": 3,
   "id": "stunning-angola",
   "metadata": {},
   "outputs": [
    {
     "data": {
      "text/html": [
       "<style>\n",
       ".list-inline {list-style: none; margin:0; padding: 0}\n",
       ".list-inline>li {display: inline-block}\n",
       ".list-inline>li:not(:last-child)::after {content: \"\\00b7\"; padding: 0 .5ex}\n",
       "</style>\n",
       "<ol class=list-inline><li>'cellranger-arc200_count_01cd0b1f038cca6db6a3172cce92d8b2'</li><li>'cellranger-arc200_count_426421b13676b7ad1ab64607030fd992'</li><li>'cellranger-arc200_count_ab64b7249f90c1a7b6b45a07813a6628'</li><li>'cellranger-arc200_count_a7a1cc9612bab77c305d5f44b7fd527b'</li><li>'cellranger-arc200_count_01bf5eb88f1fd6261cd273821e27ec62'</li><li>'cellranger-arc200_count_ffb2d458cc939df2f22324fd3a5f9e66'</li><li>'cellranger-arc200_count_4cf593ecccbf5c8b4fbe80bb80a48bef'</li><li>'cellranger-arc200_count_74321fba0e783fce0013e58e85e71d44'</li><li>'cellranger-arc200_count_8e59d6e5b9b4a25a7bbc7bb2467ecfab'</li><li>'cellranger-arc200_count_6c2252bc28c267c2b3e6e944af693fdc'</li><li>'cellranger-arc200_count_f4b032abc513453fee40a6bd05fe1c84'</li><li>'cellranger-arc200_count_45b1a41724921d5ae562e15580bf2243'</li><li>'cellranger-arc200_count_eaeba636b2c180fc9041a08278bd2bc8'</li><li>'cellranger-arc200_count_a7e3f3b7368071bef84eefdb6632acd4'</li><li>'cellranger-arc200_count_1025c2e00f0348103d1c9859a69d9096'</li><li>'cellranger-arc200_count_1f05add56c821daa7f4f5f054982ad61'</li></ol>\n"
      ],
      "text/latex": [
       "\\begin{enumerate*}\n",
       "\\item 'cellranger-arc200\\_count\\_01cd0b1f038cca6db6a3172cce92d8b2'\n",
       "\\item 'cellranger-arc200\\_count\\_426421b13676b7ad1ab64607030fd992'\n",
       "\\item 'cellranger-arc200\\_count\\_ab64b7249f90c1a7b6b45a07813a6628'\n",
       "\\item 'cellranger-arc200\\_count\\_a7a1cc9612bab77c305d5f44b7fd527b'\n",
       "\\item 'cellranger-arc200\\_count\\_01bf5eb88f1fd6261cd273821e27ec62'\n",
       "\\item 'cellranger-arc200\\_count\\_ffb2d458cc939df2f22324fd3a5f9e66'\n",
       "\\item 'cellranger-arc200\\_count\\_4cf593ecccbf5c8b4fbe80bb80a48bef'\n",
       "\\item 'cellranger-arc200\\_count\\_74321fba0e783fce0013e58e85e71d44'\n",
       "\\item 'cellranger-arc200\\_count\\_8e59d6e5b9b4a25a7bbc7bb2467ecfab'\n",
       "\\item 'cellranger-arc200\\_count\\_6c2252bc28c267c2b3e6e944af693fdc'\n",
       "\\item 'cellranger-arc200\\_count\\_f4b032abc513453fee40a6bd05fe1c84'\n",
       "\\item 'cellranger-arc200\\_count\\_45b1a41724921d5ae562e15580bf2243'\n",
       "\\item 'cellranger-arc200\\_count\\_eaeba636b2c180fc9041a08278bd2bc8'\n",
       "\\item 'cellranger-arc200\\_count\\_a7e3f3b7368071bef84eefdb6632acd4'\n",
       "\\item 'cellranger-arc200\\_count\\_1025c2e00f0348103d1c9859a69d9096'\n",
       "\\item 'cellranger-arc200\\_count\\_1f05add56c821daa7f4f5f054982ad61'\n",
       "\\end{enumerate*}\n"
      ],
      "text/markdown": [
       "1. 'cellranger-arc200_count_01cd0b1f038cca6db6a3172cce92d8b2'\n",
       "2. 'cellranger-arc200_count_426421b13676b7ad1ab64607030fd992'\n",
       "3. 'cellranger-arc200_count_ab64b7249f90c1a7b6b45a07813a6628'\n",
       "4. 'cellranger-arc200_count_a7a1cc9612bab77c305d5f44b7fd527b'\n",
       "5. 'cellranger-arc200_count_01bf5eb88f1fd6261cd273821e27ec62'\n",
       "6. 'cellranger-arc200_count_ffb2d458cc939df2f22324fd3a5f9e66'\n",
       "7. 'cellranger-arc200_count_4cf593ecccbf5c8b4fbe80bb80a48bef'\n",
       "8. 'cellranger-arc200_count_74321fba0e783fce0013e58e85e71d44'\n",
       "9. 'cellranger-arc200_count_8e59d6e5b9b4a25a7bbc7bb2467ecfab'\n",
       "10. 'cellranger-arc200_count_6c2252bc28c267c2b3e6e944af693fdc'\n",
       "11. 'cellranger-arc200_count_f4b032abc513453fee40a6bd05fe1c84'\n",
       "12. 'cellranger-arc200_count_45b1a41724921d5ae562e15580bf2243'\n",
       "13. 'cellranger-arc200_count_eaeba636b2c180fc9041a08278bd2bc8'\n",
       "14. 'cellranger-arc200_count_a7e3f3b7368071bef84eefdb6632acd4'\n",
       "15. 'cellranger-arc200_count_1025c2e00f0348103d1c9859a69d9096'\n",
       "16. 'cellranger-arc200_count_1f05add56c821daa7f4f5f054982ad61'\n",
       "\n",
       "\n"
      ],
      "text/plain": [
       " [1] \"cellranger-arc200_count_01cd0b1f038cca6db6a3172cce92d8b2\"\n",
       " [2] \"cellranger-arc200_count_426421b13676b7ad1ab64607030fd992\"\n",
       " [3] \"cellranger-arc200_count_ab64b7249f90c1a7b6b45a07813a6628\"\n",
       " [4] \"cellranger-arc200_count_a7a1cc9612bab77c305d5f44b7fd527b\"\n",
       " [5] \"cellranger-arc200_count_01bf5eb88f1fd6261cd273821e27ec62\"\n",
       " [6] \"cellranger-arc200_count_ffb2d458cc939df2f22324fd3a5f9e66\"\n",
       " [7] \"cellranger-arc200_count_4cf593ecccbf5c8b4fbe80bb80a48bef\"\n",
       " [8] \"cellranger-arc200_count_74321fba0e783fce0013e58e85e71d44\"\n",
       " [9] \"cellranger-arc200_count_8e59d6e5b9b4a25a7bbc7bb2467ecfab\"\n",
       "[10] \"cellranger-arc200_count_6c2252bc28c267c2b3e6e944af693fdc\"\n",
       "[11] \"cellranger-arc200_count_f4b032abc513453fee40a6bd05fe1c84\"\n",
       "[12] \"cellranger-arc200_count_45b1a41724921d5ae562e15580bf2243\"\n",
       "[13] \"cellranger-arc200_count_eaeba636b2c180fc9041a08278bd2bc8\"\n",
       "[14] \"cellranger-arc200_count_a7e3f3b7368071bef84eefdb6632acd4\"\n",
       "[15] \"cellranger-arc200_count_1025c2e00f0348103d1c9859a69d9096\"\n",
       "[16] \"cellranger-arc200_count_1f05add56c821daa7f4f5f054982ad61\""
      ]
     },
     "metadata": {},
     "output_type": "display_data"
    }
   ],
   "source": [
    "files"
   ]
  },
  {
   "cell_type": "code",
   "execution_count": null,
   "id": "skilled-sociology",
   "metadata": {},
   "outputs": [
    {
     "name": "stderr",
     "output_type": "stream",
     "text": [
      "cellranger-arc200_count_01cd0b1f038cca6db6a3172cce92d8b2\n",
      "\n",
      "cellranger-arc200_count_426421b13676b7ad1ab64607030fd992\n",
      "\n",
      "cellranger-arc200_count_ab64b7249f90c1a7b6b45a07813a6628\n",
      "\n",
      "cellranger-arc200_count_a7a1cc9612bab77c305d5f44b7fd527b\n",
      "\n",
      "cellranger-arc200_count_01bf5eb88f1fd6261cd273821e27ec62\n",
      "\n",
      "cellranger-arc200_count_ffb2d458cc939df2f22324fd3a5f9e66\n",
      "\n",
      "cellranger-arc200_count_4cf593ecccbf5c8b4fbe80bb80a48bef\n",
      "\n",
      "cellranger-arc200_count_74321fba0e783fce0013e58e85e71d44\n",
      "\n",
      "cellranger-arc200_count_8e59d6e5b9b4a25a7bbc7bb2467ecfab\n",
      "\n",
      "cellranger-arc200_count_6c2252bc28c267c2b3e6e944af693fdc\n",
      "\n",
      "cellranger-arc200_count_f4b032abc513453fee40a6bd05fe1c84\n",
      "\n",
      "cellranger-arc200_count_45b1a41724921d5ae562e15580bf2243\n",
      "\n",
      "cellranger-arc200_count_eaeba636b2c180fc9041a08278bd2bc8\n",
      "\n",
      "cellranger-arc200_count_a7e3f3b7368071bef84eefdb6632acd4\n",
      "\n",
      "cellranger-arc200_count_1025c2e00f0348103d1c9859a69d9096\n",
      "\n",
      "cellranger-arc200_count_1f05add56c821daa7f4f5f054982ad61\n",
      "\n"
     ]
    }
   ],
   "source": [
    "for(f in files){\n",
    "    message(f)\n",
    "    bc_metrics = read.csv(file.path(f, \"per_barcode_metrics.csv\"))\n",
    "    df = data.frame(\"barcode\" = bc_metrics$barcode, \"is__cell_barcode\" =  bc_metrics$is_cell)\n",
    "    write.csv(df, file.path(f, \"single_cell.csv\"), row.names = FALSE)\n",
    "    }"
   ]
  }
 ],
 "metadata": {
  "kernelspec": {
   "display_name": "R",
   "language": "R",
   "name": "ir"
  },
  "language_info": {
   "codemirror_mode": "r",
   "file_extension": ".r",
   "mimetype": "text/x-r-source",
   "name": "R",
   "pygments_lexer": "r",
   "version": "4.0.4"
  }
 },
 "nbformat": 4,
 "nbformat_minor": 5
}

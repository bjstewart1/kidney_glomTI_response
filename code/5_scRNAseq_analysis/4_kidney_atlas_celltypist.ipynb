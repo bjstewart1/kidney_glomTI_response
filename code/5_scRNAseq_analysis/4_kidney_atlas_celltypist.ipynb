{
 "cells": [
  {
   "cell_type": "code",
   "execution_count": 1,
   "id": "revolutionary-syntax",
   "metadata": {},
   "outputs": [
    {
     "name": "stderr",
     "output_type": "stream",
     "text": [
      "Global seed set to 0\n",
      "/home/jovyan/my-conda-envs/myenv/lib/python3.9/site-packages/pytorch_lightning/utilities/warnings.py:53: LightningDeprecationWarning: pytorch_lightning.utilities.warnings.rank_zero_deprecation has been deprecated in v1.6 and will be removed in v1.8. Use the equivalent function from the pytorch_lightning.utilities.rank_zero module instead.\n",
      "  new_rank_zero_deprecation(\n",
      "/home/jovyan/my-conda-envs/myenv/lib/python3.9/site-packages/pytorch_lightning/utilities/warnings.py:58: LightningDeprecationWarning: The `pytorch_lightning.loggers.base.rank_zero_experiment` is deprecated in v1.7 and will be removed in v1.9. Please use `pytorch_lightning.loggers.logger.rank_zero_experiment` instead.\n",
      "  return new_rank_zero_deprecation(*args, **kwargs)\n"
     ]
    },
    {
     "name": "stdout",
     "output_type": "stream",
     "text": [
      "/home/jovyan/my-conda-envs/myenv/bin/python\n",
      "2023-07-11 22:21:26.230997\n"
     ]
    }
   ],
   "source": [
    "#kidney annotation\n",
    "import os\n",
    "os.chdir('/lustre/scratch126/cellgen/team297/bs16/current_projects/kidney_glomTI_response/code')\n",
    "import anndata as ad\n",
    "import scanpy as sc\n",
    "import os\n",
    "import pandas as pd\n",
    "import numpy as np\n",
    "import useful_functions as uf\n",
    "import scvi\n",
    "import scvelo as scv\n",
    "sc.set_figure_params(figsize=(6, 6), dpi = 150, fontsize = 10)\n",
    "import sys\n",
    "print(sys.executable)\n",
    "import matplotlib as mpl\n",
    "import matplotlib.pyplot as plt\n",
    "import celltypist as ctp\n",
    "\n",
    "from datetime import datetime\n",
    "print(datetime.now(tz=None))"
   ]
  },
  {
   "cell_type": "code",
   "execution_count": 2,
   "id": "built-marriage",
   "metadata": {},
   "outputs": [
    {
     "name": "stdout",
     "output_type": "stream",
     "text": [
      "1.9.1\n",
      "0.8.0\n",
      "1.5.1\n",
      "0.19.0\n",
      "0.2.5\n"
     ]
    }
   ],
   "source": [
    "import warnings\n",
    "warnings.filterwarnings('ignore')\n",
    "#this will hide the awful pandas deprec warnings that are currently plaguing scanpy\n",
    "\n",
    "#now print versions\n",
    "print(sc.__version__)\n",
    "print(ad.__version__)\n",
    "print(pd.__version__)\n",
    "print(scvi.__version__)\n",
    "print(scv.__version__)\n",
    "os.chdir('/lustre/scratch126/cellgen/team297/bs16/current_projects/kidney_glomTI_response')"
   ]
  },
  {
   "cell_type": "code",
   "execution_count": 3,
   "id": "acute-matter",
   "metadata": {},
   "outputs": [],
   "source": [
    "#save this \n",
    "os.chdir('/lustre/scratch126/cellgen/team297/bs16/current_projects/kidney_glomTI_response')\n",
    "adata = sc.read_h5ad(\"./data/annotated/scRNAseq_glom_TI_kidney.h5ad\")"
   ]
  },
  {
   "cell_type": "code",
   "execution_count": 4,
   "id": "unlimited-thirty",
   "metadata": {},
   "outputs": [
    {
     "name": "stdout",
     "output_type": "stream",
     "text": [
      "WARNING: adata.X seems to be already log-transformed.\n"
     ]
    }
   ],
   "source": [
    "#train a celltypist model\n",
    "celltypist_adata = adata.copy()\n",
    "celltypist_adata.X = celltypist_adata.layers['raw_counts']\n",
    "sc.pp.normalize_total(celltypist_adata, target_sum = 10000)\n",
    "sc.pp.log1p(celltypist_adata)\n",
    "new_model = ctp.train(celltypist_adata, #already subsetted \n",
    "                             labels = 'broad_cell_type', \n",
    "                            use_SGD = True, \n",
    "                            mini_batch = True,\n",
    "                            balance_cell_type = True)\n",
    "new_model.write('./data/celltypist/kidney_glomTI_model.pkl')"
   ]
  }
 ],
 "metadata": {
  "kernelspec": {
   "display_name": "myenv",
   "language": "python",
   "name": "myenv"
  },
  "language_info": {
   "codemirror_mode": {
    "name": "ipython",
    "version": 3
   },
   "file_extension": ".py",
   "mimetype": "text/x-python",
   "name": "python",
   "nbconvert_exporter": "python",
   "pygments_lexer": "ipython3",
   "version": "3.9.14"
  }
 },
 "nbformat": 4,
 "nbformat_minor": 5
}

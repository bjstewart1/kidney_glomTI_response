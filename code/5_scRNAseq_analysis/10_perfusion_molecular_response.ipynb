{
 "cells": [
  {
   "cell_type": "code",
   "execution_count": 1,
   "id": "collective-offset",
   "metadata": {},
   "outputs": [
    {
     "name": "stdout",
     "output_type": "stream",
     "text": [
      "/home/jovyan/my-conda-envs/myenv/bin/python\n",
      "2024-03-18 11:37:52.433523\n"
     ]
    }
   ],
   "source": [
    "#kidney perfusion samples cell type specific molecular responses\n",
    "import os\n",
    "os.chdir('/lustre/scratch126/cellgen/team297/bs16/current_projects/kidney_glomTI_response/code')\n",
    "import anndata as ad\n",
    "import scanpy as sc\n",
    "import os\n",
    "import pandas as pd\n",
    "import numpy as np\n",
    "import useful_functions as uf\n",
    "sc.set_figure_params(figsize=(5,5), dpi = 150, fontsize = 10)\n",
    "import sys\n",
    "print(sys.executable)\n",
    "import matplotlib as mpl\n",
    "import matplotlib.pyplot as plt\n",
    "from datetime import datetime\n",
    "print(datetime.now(tz=None))\n",
    "\n",
    "import decoupler as dc"
   ]
  },
  {
   "cell_type": "code",
   "execution_count": 2,
   "id": "unavailable-highlight",
   "metadata": {},
   "outputs": [
    {
     "name": "stdout",
     "output_type": "stream",
     "text": [
      "1.9.1\n",
      "0.8.0\n",
      "1.5.1\n"
     ]
    }
   ],
   "source": [
    "import warnings\n",
    "warnings.filterwarnings('ignore')\n",
    "#this will hide the awful pandas deprec warnings that are currently plaguing scanpy\n",
    "#now print versions\n",
    "print(sc.__version__)\n",
    "print(ad.__version__)\n",
    "print(pd.__version__)\n",
    "os.chdir('/lustre/scratch126/cellgen/team297/bs16/current_projects/kidney_glomTI_response')"
   ]
  },
  {
   "cell_type": "code",
   "execution_count": 3,
   "id": "mature-handle",
   "metadata": {},
   "outputs": [
    {
     "data": {
      "text/plain": [
       "'1.4.0'"
      ]
     },
     "execution_count": 3,
     "metadata": {},
     "output_type": "execute_result"
    }
   ],
   "source": [
    "dc.__version__"
   ]
  },
  {
   "cell_type": "code",
   "execution_count": 3,
   "id": "concrete-leone",
   "metadata": {},
   "outputs": [],
   "source": [
    "os.chdir('/lustre/scratch126/cellgen/team297/bs16/current_projects/kidney_glomTI_response')\n",
    "adata = sc.read_h5ad(\"./data/annotated/scRNAseq_perturbation_kidney.h5ad\")"
   ]
  },
  {
   "cell_type": "code",
   "execution_count": null,
   "id": "signed-ethiopia",
   "metadata": {},
   "outputs": [],
   "source": [
    "adata"
   ]
  },
  {
   "cell_type": "code",
   "execution_count": null,
   "id": "organizational-jaguar",
   "metadata": {},
   "outputs": [],
   "source": [
    "#subset to cells we are interested in from the DA results\n",
    "cells_use = pd.read_csv(\"data/da_results/perfusion/DE_testing_cells.csv\", sep = '\\t')\n",
    "adata = adata[cells_use.cells]\n",
    "#establish a replicate column\n",
    "adata.obs['replicate'] = pd.Categorical(np.array(adata.obs['channel']) + \"_\" +  np.array(adata.obs['genotype']))"
   ]
  },
  {
   "cell_type": "code",
   "execution_count": null,
   "id": "bulgarian-mustang",
   "metadata": {},
   "outputs": [],
   "source": [
    "#get full counts\n",
    "def get_counts_raw(adata):\n",
    "    adata_counts = adata.uns['raw_adata'].copy()\n",
    "    adata_counts = adata_counts[adata.obs_names]\n",
    "    adata = adata.raw.to_adata()\n",
    "    adata.layers = adata_counts.layers.copy()\n",
    "    return(adata)\n",
    "\n",
    "adata = get_counts_raw(adata)\n"
   ]
  },
  {
   "cell_type": "code",
   "execution_count": null,
   "id": "coordinated-fellowship",
   "metadata": {},
   "outputs": [],
   "source": [
    "results_list = []\n",
    "for ct in ['classical_monocyte', 'NK1', 'GEC']:\n",
    "    adata_ct = adata[adata.obs['cell_type'].isin([ct])]\n",
    "\n",
    "    #generate a pdata object using our 'replicate' field as the  replicate\n",
    "    pdata = dc.get_pseudobulk(adata_ct, sample_col='replicate', groups_col=None, layer='raw_counts', mode='sum', min_cells=20, min_counts=500)\n",
    "    # Obtain genes that pass the thresholds\n",
    "    genes = dc.filter_by_expr(pdata, min_count=10, min_total_count=15)\n",
    "    pdata = pdata[:, genes].copy()\n",
    "   #do differential expression over these genes\n",
    "    from pydeseq2.dds import DeseqDataSet\n",
    "    from pydeseq2.ds import DeseqStats\n",
    "    # Build DESeq2 object\n",
    "    dds = DeseqDataSet(adata=pdata, design_factors='stimulation', #use stimulation as our level \n",
    "                       refit_cooks=True, n_cpus=8)\n",
    "     # Compute LFCs\n",
    "    dds.deseq2() \n",
    "     # Extract contrast between COVID-19 vs normal\n",
    "    stat_res = DeseqStats(dds, contrast=[\"stimulation\", 'IC', 'control'], n_cpus=8)\n",
    "        # Compute Wald test\n",
    "    stat_res.summary()\n",
    "    stat_res.lfc_shrink(coeff='stimulation_control_vs_IC')\n",
    "         #Extract results\n",
    "    results_df = stat_res.results_df\n",
    "    fp = os.path.join(\"data/da_results/perfusion/response_signatures\", ct + \"_\" + \"pseudobulk_differential_expression.csv\")\n",
    "    results_df.to_csv(fp)\n",
    "    results_list.append(results_df)"
   ]
  },
  {
   "cell_type": "code",
   "execution_count": null,
   "id": "defensive-guinea",
   "metadata": {},
   "outputs": [],
   "source": [
    "# Retrieve CollecTRI gene regulatory network\n",
    "collectri = dc.get_collectri(organism='human', split_complexes=False)"
   ]
  },
  {
   "cell_type": "code",
   "execution_count": null,
   "id": "patent-stranger",
   "metadata": {},
   "outputs": [],
   "source": [
    "#convert to dict\n",
    "results_dict = dict(zip(['classical_monocyte', 'NK1', 'GEC'], results_list))"
   ]
  },
  {
   "cell_type": "code",
   "execution_count": null,
   "id": "cooked-passing",
   "metadata": {},
   "outputs": [],
   "source": [
    "#transcription factor inference on the log fold changes\n",
    "for ct in  ['classical_monocyte', 'NK1', 'GEC']:\n",
    "    stat_mat = results_dict[ct][['stat']].T.rename(index={'stat': ct})    \n",
    "    tf_acts, tf_pvals = dc.run_ulm(mat=stat_mat, net=collectri)\n",
    "    fp_act = os.path.join(\"data/TF_activities\", ct + \"_\" + \"perfusion_DEG_TF_activities_pseudobulk.csv\")\n",
    "    fp_pval = os.path.join(\"data/TF_activities\", ct + \"_\" + \"perfusion_DEG_TF_pvals_pseudobulk.csv\")\n",
    "    tf_acts.T.to_csv(fp_act, sep = '\\t')\n",
    "    tf_pvals.T.to_csv(fp_pval    , sep = '\\t')"
   ]
  },
  {
   "cell_type": "code",
   "execution_count": null,
   "id": "tropical-vulnerability",
   "metadata": {},
   "outputs": [],
   "source": [
    "#do the same on the "
   ]
  },
  {
   "cell_type": "code",
   "execution_count": null,
   "id": "indoor-supervision",
   "metadata": {},
   "outputs": [],
   "source": [
    "#transcription factor inference on the log fold changes\n",
    "de_scvi_list = []\n",
    "for ct in  ['classical_monocyte', 'NK1', 'GEC']:\n",
    "    fp = 'data/da_results/perfusion/response_signatures'\n",
    "    de_fp = os.path.join(fp, ct + \"_differential_expression.csv\")\n",
    "    de_result = pd.read_csv(de_fp, index_col = 0)\n",
    "    de_up = de_result[de_result['is_de_fdr_0.05']]\n",
    "    de_up = de_up[de_up.lfc_mean > 0]\n",
    "    de_scvi_list.append(de_up)"
   ]
  },
  {
   "cell_type": "code",
   "execution_count": null,
   "id": "attempted-muscle",
   "metadata": {},
   "outputs": [],
   "source": [
    "#convert to dict\n",
    "de_scvi_dict = dict(zip(['classical_monocyte', 'NK1', 'GEC'], de_scvi_list))"
   ]
  },
  {
   "cell_type": "code",
   "execution_count": null,
   "id": "binary-birthday",
   "metadata": {},
   "outputs": [],
   "source": [
    "for ct in  ['classical_monocyte', 'NK1', 'GEC']:\n",
    "    stat_mat = de_scvi_dict[ct][['lfc_mean']].T.rename(index={'stat': ct})    \n",
    "    tf_acts, tf_pvals = dc.run_ulm(mat=stat_mat, net=collectri)\n",
    "    fp_act = os.path.join(\"data/TF_activities\", ct + \"_\" + \"perfusion_DEG_TF_activities.csv\")\n",
    "    fp_pval = os.path.join(\"data/TF_activities\", ct + \"_\" + \"perfusion_DEG_TF_pvals.csv\")\n",
    "    tf_acts.T.to_csv(fp_act, sep = '\\t')\n",
    "    tf_pvals.T.to_csv(fp_pval    , sep = '\\t')"
   ]
  }
 ],
 "metadata": {
  "kernelspec": {
   "display_name": "myenv",
   "language": "python",
   "name": "myenv"
  },
  "language_info": {
   "codemirror_mode": {
    "name": "ipython",
    "version": 3
   },
   "file_extension": ".py",
   "mimetype": "text/x-python",
   "name": "python",
   "nbconvert_exporter": "python",
   "pygments_lexer": "ipython3",
   "version": "3.9.14"
  }
 },
 "nbformat": 4,
 "nbformat_minor": 5
}

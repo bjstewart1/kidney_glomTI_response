{
 "cells": [
  {
   "cell_type": "code",
   "execution_count": 135,
   "id": "functional-cameroon",
   "metadata": {},
   "outputs": [
    {
     "data": {
      "text/html": [
       "<style>\n",
       ".list-inline {list-style: none; margin:0; padding: 0}\n",
       ".list-inline>li {display: inline-block}\n",
       ".list-inline>li:not(:last-child)::after {content: \"\\00b7\"; padding: 0 .5ex}\n",
       "</style>\n",
       "<ol class=list-inline><li>'CD45_CD14_CD11b_CD16.xlsx'</li><li>'CD45_CD14_CD11b.xlsx'</li></ol>\n"
      ],
      "text/latex": [
       "\\begin{enumerate*}\n",
       "\\item 'CD45\\_CD14\\_CD11b\\_CD16.xlsx'\n",
       "\\item 'CD45\\_CD14\\_CD11b.xlsx'\n",
       "\\end{enumerate*}\n"
      ],
      "text/markdown": [
       "1. 'CD45_CD14_CD11b_CD16.xlsx'\n",
       "2. 'CD45_CD14_CD11b.xlsx'\n",
       "\n",
       "\n"
      ],
      "text/plain": [
       "[1] \"CD45_CD14_CD11b_CD16.xlsx\" \"CD45_CD14_CD11b.xlsx\"     "
      ]
     },
     "metadata": {},
     "output_type": "display_data"
    }
   ],
   "source": [
    "setwd(\"~/ben_lustre/current_projects/kidney_glomTI_response\")\n",
    "quantdir = \"data/spatial/confocal/ph_quantification\"\n",
    "list.files(quantdir)\n",
    "library(readxl)"
   ]
  },
  {
   "cell_type": "code",
   "execution_count": 136,
   "id": "meaningful-tooth",
   "metadata": {},
   "outputs": [],
   "source": [
    "data = list(\"K330\" = readxl::read_excel(file.path(quantdir, list.files(quantdir)[1]), sheet = 'K330'),\n",
    "            \"K329\" = readxl::read_excel(file.path(quantdir, list.files(quantdir)[1]), sheet = 'K329'),\n",
    "            \"K283\" = readxl::read_excel(file.path(quantdir, list.files(quantdir)[1]), sheet = 'K283_0hr'))\n",
    "            \n",
    "  data = lapply(data, as.data.frame)          "
   ]
  },
  {
   "cell_type": "code",
   "execution_count": 137,
   "id": "electoral-growing",
   "metadata": {},
   "outputs": [],
   "source": [
    "samples_gloms = do.call(rbind, lapply(names(data), function(x){df = data[[x]]\n",
    "                               df$sample = x\n",
    "                               return(df)}))"
   ]
  },
  {
   "cell_type": "code",
   "execution_count": 138,
   "id": "curious-question",
   "metadata": {},
   "outputs": [
    {
     "data": {
      "text/plain": [
       "NULL"
      ]
     },
     "metadata": {},
     "output_type": "display_data"
    }
   ],
   "source": [
    "ncol(samples_gloms[, 'CD45_sp'])"
   ]
  },
  {
   "cell_type": "code",
   "execution_count": 139,
   "id": "lasting-beginning",
   "metadata": {},
   "outputs": [
    {
     "name": "stderr",
     "output_type": "stream",
     "text": [
      "other_immune\n",
      "\n",
      "classical\n",
      "\n",
      "nonclassiscal\n",
      "\n",
      "intermediate\n",
      "\n",
      "neutrophils\n",
      "\n",
      "all_immune\n",
      "\n"
     ]
    }
   ],
   "source": [
    "#now we need to rejig this into cell types\n",
    "celltypes  = list(\n",
    "other_immune = 'CD45_sp',\n",
    "classical = c('CD45/CD14/CD11b', 'CD45/CD14'),\n",
    "nonclassiscal = c(\"CD45/CD11b/CD16\", 'CD45/CD16' ),\n",
    "intermediate = c(\"CD45/CD14/CD11b/CD16\", 'CD45/CD14/CD16'),\n",
    "neutrophils = c(\"CD45/CD11b\", 'CD14+or11b+or16+ but 45-'),\n",
    "all_immune = c(\"CD45_positive\", \"CD14+or11b+or16+ but 45-\" ))\n",
    "\n",
    "df = do.call(cbind, lapply(names(celltypes), function(x){\n",
    "    message(x)\n",
    "    cols = celltypes[[x]]\n",
    "    if(length(cols) > 1)\n",
    "    {\n",
    "    rs = rowSums(samples_gloms[,cols])\n",
    "}\n",
    "    else{\n",
    "        rs = samples_gloms[,cols]\n",
    "    }\n",
    "    return(rs)\n",
    "}))\n",
    "colnames(df) = names(celltypes)"
   ]
  },
  {
   "cell_type": "code",
   "execution_count": 122,
   "id": "complete-humanitarian",
   "metadata": {},
   "outputs": [],
   "source": [
    "df = df/df[, 'all_immune']\n",
    "df = data.frame(df)"
   ]
  },
  {
   "cell_type": "code",
   "execution_count": 124,
   "id": "undefined-timeline",
   "metadata": {},
   "outputs": [],
   "source": [
    "df$glom = factor(1:nrow(df))"
   ]
  },
  {
   "cell_type": "code",
   "execution_count": 126,
   "id": "outstanding-navigation",
   "metadata": {},
   "outputs": [
    {
     "name": "stderr",
     "output_type": "stream",
     "text": [
      "Using glom as id variables\n",
      "\n"
     ]
    }
   ],
   "source": [
    "library(ggplot2)\n",
    "bar_df = reshape::melt(df)\n",
    "bar_df = bar_df[!bar_df$variable %in% 'all_immune', ]\n",
    "barpl = ggplot(bar_df, aes(fill = variable, y = value, x = glom)) + \n",
    "geom_bar(position=\"stack\", stat=\"identity\") + scale_fill_manual(values = sample(paletteer::paletteer_d(\"dutchmasters::milkmaid\")))"
   ]
  },
  {
   "cell_type": "code",
   "execution_count": 127,
   "id": "taken-establishment",
   "metadata": {},
   "outputs": [],
   "source": [
    "pl = ggplot(bar_df, aes(x = variable, y = value, fill = variable)) + geom_boxplot() + \n",
    " scale_fill_manual(values = sample(paletteer::paletteer_d(\"dutchmasters::milkmaid\"))) + theme_minimal()"
   ]
  },
  {
   "cell_type": "code",
   "execution_count": 129,
   "id": "beautiful-welding",
   "metadata": {},
   "outputs": [
    {
     "data": {
      "text/html": [
       "<style>\n",
       ".list-inline {list-style: none; margin:0; padding: 0}\n",
       ".list-inline>li {display: inline-block}\n",
       ".list-inline>li:not(:last-child)::after {content: \"\\00b7\"; padding: 0 .5ex}\n",
       "</style>\n",
       "<ol class=list-inline><li>other_immune</li><li>classical</li><li>nonclassiscal</li><li>intermediate</li><li>neutrophils</li></ol>\n",
       "\n",
       "<details>\n",
       "\t<summary style=display:list-item;cursor:pointer>\n",
       "\t\t<strong>Levels</strong>:\n",
       "\t</summary>\n",
       "\t<style>\n",
       "\t.list-inline {list-style: none; margin:0; padding: 0}\n",
       "\t.list-inline>li {display: inline-block}\n",
       "\t.list-inline>li:not(:last-child)::after {content: \"\\00b7\"; padding: 0 .5ex}\n",
       "\t</style>\n",
       "\t<ol class=list-inline><li>'other_immune'</li><li>'classical'</li><li>'nonclassiscal'</li><li>'intermediate'</li><li>'neutrophils'</li><li>'all_immune'</li></ol>\n",
       "</details>"
      ],
      "text/latex": [
       "\\begin{enumerate*}\n",
       "\\item other\\_immune\n",
       "\\item classical\n",
       "\\item nonclassiscal\n",
       "\\item intermediate\n",
       "\\item neutrophils\n",
       "\\end{enumerate*}\n",
       "\n",
       "\\emph{Levels}: \\begin{enumerate*}\n",
       "\\item 'other\\_immune'\n",
       "\\item 'classical'\n",
       "\\item 'nonclassiscal'\n",
       "\\item 'intermediate'\n",
       "\\item 'neutrophils'\n",
       "\\item 'all\\_immune'\n",
       "\\end{enumerate*}\n"
      ],
      "text/markdown": [
       "1. other_immune\n",
       "2. classical\n",
       "3. nonclassiscal\n",
       "4. intermediate\n",
       "5. neutrophils\n",
       "\n",
       "\n",
       "\n",
       "**Levels**: 1. 'other_immune'\n",
       "2. 'classical'\n",
       "3. 'nonclassiscal'\n",
       "4. 'intermediate'\n",
       "5. 'neutrophils'\n",
       "6. 'all_immune'\n",
       "\n",
       "\n"
      ],
      "text/plain": [
       "[1] other_immune  classical     nonclassiscal intermediate  neutrophils  \n",
       "6 Levels: other_immune classical nonclassiscal intermediate ... all_immune"
      ]
     },
     "metadata": {},
     "output_type": "display_data"
    }
   ],
   "source": [
    "unique(bar_df$variable)"
   ]
  },
  {
   "cell_type": "code",
   "execution_count": 132,
   "id": "simple-opportunity",
   "metadata": {},
   "outputs": [],
   "source": [
    "boxplot_df = bar_df[!bar_df$variable %in% 'other_immune', ]\n",
    "boxplot_df$variable = factor(boxplot_df$variable, levels = c(\"classical\", 'intermediate', 'nonclassiscal', 'neutrophils'))\n",
    "pl = ggplot(boxplot_df, aes(x = variable, y = value, fill = variable))  +  \n",
    "geom_boxplot(alpha = 0.8, notch = F) + \n",
    "#geom_jitter(width = 0.2) + \n",
    " scale_fill_manual(values = sample(paletteer::paletteer_d(\"dutchmasters::milkmaid\"))) + theme_minimal()"
   ]
  },
  {
   "cell_type": "code",
   "execution_count": 133,
   "id": "focal-commonwealth",
   "metadata": {},
   "outputs": [
    {
     "data": {
      "image/png": "[encoded data removed]",
      "text/plain": [
       "plot without title"
      ]
     },
     "metadata": {
      "image/png": {
       "height": 420,
       "width": 420
      }
     },
     "output_type": "display_data"
    }
   ],
   "source": [
    "pl"
   ]
  },
  {
   "cell_type": "code",
   "execution_count": 134,
   "id": "congressional-export",
   "metadata": {},
   "outputs": [
    {
     "data": {
      "text/html": [
       "<strong>png:</strong> 2"
      ],
      "text/latex": [
       "\\textbf{png:} 2"
      ],
      "text/markdown": [
       "**png:** 2"
      ],
      "text/plain": [
       "png \n",
       "  2 "
      ]
     },
     "metadata": {},
     "output_type": "display_data"
    }
   ],
   "source": [
    "pdf(\"./figures/immune_glom_quantification.pdf\")\n",
    "pl\n",
    "dev.off()"
   ]
  }
 ],
 "metadata": {
  "kernelspec": {
   "display_name": "R 4.2",
   "language": "R",
   "name": "ir42"
  },
  "language_info": {
   "codemirror_mode": "r",
   "file_extension": ".r",
   "mimetype": "text/x-r-source",
   "name": "R",
   "pygments_lexer": "r",
   "version": "4.2.3"
  }
 },
 "nbformat": 4,
 "nbformat_minor": 5
}

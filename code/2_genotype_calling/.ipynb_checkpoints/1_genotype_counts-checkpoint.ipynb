{
 "cells": [
  {
   "cell_type": "code",
   "execution_count": null,
   "id": "suited-stockholm",
   "metadata": {},
   "outputs": [],
   "source": [
    "setwd(\"~/ben_lustre/current_projects/kidney_glomTI_response\")\n",
    "suppressPackageStartupMessages(source(\"https://raw.githubusercontent.com/bjstewart1/helpful_singlecell/main/functions.R\"))\n",
    "ad <- import(\"anndata\")\n",
    "sc <- import(\"scanpy\")\n",
    "#devtools::install_github(\"bjstewart1/GenotypeMixtures\", force = TRUE)\n",
    "library(GenotypeMixtures)"
   ]
  },
  {
   "cell_type": "code",
   "execution_count": null,
   "id": "placed-dallas",
   "metadata": {},
   "outputs": [],
   "source": [
    "tenx_dir <- \"./data/seq_data/10X_3p\"\n",
    "sequencing_inventory = read.csv(\"~/nfs/team297/bs16/sample_donor_data/sequencing_inventory.csv\")\n",
    "sequencing_inventory <- sequencing_inventory[sequencing_inventory$experiment %in% c(\"10X_3'_V3\") & \n",
    "                                             sequencing_inventory$cellranger_SOC &\n",
    "                                             sequencing_inventory$poor_QC %in% \"FALSE\",]\n",
    "#exclude fetal - these are one per channel and we will analyse these elsewhere\n",
    "sequencing_inventory <- sequencing_inventory[!sequencing_inventory$tissue %in% grep(\"fetal\", sequencing_inventory$tissue, value = TRUE), ]\n",
    "#fix the irods spaces\n",
    "sequencing_inventory$irods_ID <- gsub(\" \", \"\", sequencing_inventory$irods_ID)\n",
    "multiplex_design = sequencing_inventory"
   ]
  },
  {
   "cell_type": "code",
   "execution_count": null,
   "id": "awful-mistress",
   "metadata": {},
   "outputs": [],
   "source": [
    "#get channels\n",
    "channels <- multiplex_design$sanger_ID\n",
    "channel_donors <- strsplit(multiplex_design$donor, \"_\")\n",
    "names(channel_donors) <- multiplex_design$sanger_ID\n",
    "donors <- unique(unlist(channel_donors))\n",
    "multiplexing_mat <- do.call(rbind, lapply(names(channel_donors), function(i){\n",
    "  donors %in% channel_donors[[i]]*1\n",
    "}))\n",
    "colnames(multiplexing_mat) <- donors\n",
    "rownames(multiplexing_mat) <- names(channel_donors)\n",
    "#write out the number of genotypes per channel - we will need this to run SOC\n",
    "cnts <- data.frame(rowSums(multiplexing_mat))\n",
    "rownames(cnts) <- multiplex_design$irods_ID\n",
    "cnts <- data.frame(cnts)\n",
    "\n",
    "#10X3'V3 glom_TI and perfusion\n",
    "depth_idx = grep(\"DEPTH\", multiplex_design$sequencing_sample_name)\n",
    "three_p_idx <- multiplex_design$irods_ID[-depth_idx]\n",
    "write.table(data.frame(cnts[three_p_idx, ], row.names = three_p_idx), \n",
    "            file.path(tenx_dir, \"SOC_scripts\", \"SOC_genotype_counts.txt\"), \n",
    "            quote = FALSE, col.names = FALSE, sep = \"\\t\")\n",
    "#10X3'V3 DEPTH\n",
    "three_p_idx <- multiplex_design$irods_ID[depth_idx]\n",
    "write.table(data.frame(cnts[three_p_idx, ], row.names = three_p_idx), \n",
    "            file.path(tenx_dir, \"SOC_scripts\", \"SOC_genotype_counts_depth.txt\"), \n",
    "            quote = FALSE, col.names = FALSE, sep = \"\\t\")\n"
   ]
  },
  {
   "cell_type": "code",
   "execution_count": null,
   "id": "filled-screw",
   "metadata": {},
   "outputs": [],
   "source": [
    "#10X ATAC\n",
    "tenx_dir <- \"./data/seq_data/10X_snATACseq\"\n",
    "#10X ATAC\n",
    "seq_inventory = read.csv(\"~/nfs/team297/bs16/sample_donor_data/sequencing_inventory.csv\")\n",
    "seq_inventory = seq_inventory[seq_inventory$experiment %in% \"10X_ATACseq\", ]\n",
    "seq_inventory = seq_inventory[!seq_inventory$poor_QC, ]\n",
    "multiplex_design = seq_inventory\n",
    "#get channels\n",
    "channels <- multiplex_design$sanger_ID\n",
    "channel_donors <- strsplit(multiplex_design$donor, \"_\")\n",
    "names(channel_donors) <- multiplex_design$sanger_ID\n",
    "donors <- unique(unlist(channel_donors))\n",
    "multiplexing_mat <- do.call(rbind, lapply(names(channel_donors), function(i){\n",
    "  donors %in% channel_donors[[i]]*1\n",
    "}))\n",
    "colnames(multiplexing_mat) <- donors\n",
    "rownames(multiplexing_mat) <- names(channel_donors)\n",
    "#write out the number of genotypes per channel - we will need this to run SOC\n",
    "cnts <- data.frame(rowSums(multiplexing_mat))\n",
    "rownames(cnts) <- multiplex_design$irods_ID\n",
    "cnts <- data.frame(cnts)"
   ]
  },
  {
   "cell_type": "code",
   "execution_count": null,
   "id": "olympic-surgery",
   "metadata": {},
   "outputs": [],
   "source": [
    "#10X ATAC counts\n",
    "write.table(data.frame(cnts, row.names = rownames(cnts)), \n",
    "            file.path(tenx_dir, \"SOC_scripts\", \"SOC_genotype_counts_ATAC.txt\"), \n",
    "            quote = FALSE, col.names = FALSE, sep = \"\\t\")\n"
   ]
  },
  {
   "cell_type": "code",
   "execution_count": null,
   "id": "brown-dynamics",
   "metadata": {},
   "outputs": [],
   "source": [
    "#10X multiome\n",
    "tenx_dir <- \"./data/seq_data/10X_multiome\"\n",
    "#10X multiome\n",
    "seq_inventory = read.csv(\"~/nfs/team297/bs16/sample_donor_data/sequencing_inventory.csv\")\n",
    "seq_inventory = seq_inventory[seq_inventory$experiment %in% \"10X_multiome_ATAC\", ]\n",
    "seq_inventory = seq_inventory[seq_inventory$tissue %in% \"kidney_single_nucleus_suspension\", ]\n",
    "seq_inventory = seq_inventory[!seq_inventory$poor_QC, ]\n",
    "multiplex_design = seq_inventory\n",
    "#get channels\n",
    "channels <- multiplex_design$sanger_ID\n",
    "channel_donors <- strsplit(multiplex_design$donor, \"_\")\n",
    "names(channel_donors) <- multiplex_design$sanger_ID\n",
    "donors <- unique(unlist(channel_donors))\n",
    "multiplexing_mat <- do.call(rbind, lapply(names(channel_donors), function(i){\n",
    "  donors %in% channel_donors[[i]]*1\n",
    "}))\n",
    "colnames(multiplexing_mat) <- donors\n",
    "rownames(multiplexing_mat) <- names(channel_donors)\n",
    "#write out the number of genotypes per channel - we will need this to run SOC\n",
    "cnts <- data.frame(rowSums(multiplexing_mat))\n",
    "rownames(cnts) <- multiplex_design$irods_ID\n",
    "cnts <- data.frame(cnts)"
   ]
  },
  {
   "cell_type": "code",
   "execution_count": null,
   "id": "northern-syracuse",
   "metadata": {},
   "outputs": [],
   "source": [
    "#10X multiome counts\n",
    "write.table(data.frame(cnts, row.names = rownames(cnts)), \n",
    "            file.path(tenx_dir, \"SOC_scripts\", \"SOC_genotype_counts_multiome.txt\"), \n",
    "            quote = FALSE, col.names = FALSE, sep = \"\\t\")"
   ]
  }
 ],
 "metadata": {
  "kernelspec": {
   "display_name": "R",
   "language": "R",
   "name": "ir"
  },
  "language_info": {
   "codemirror_mode": "r",
   "file_extension": ".r",
   "mimetype": "text/x-r-source",
   "name": "R",
   "pygments_lexer": "r",
   "version": "4.0.4"
  }
 },
 "nbformat": 4,
 "nbformat_minor": 5
}

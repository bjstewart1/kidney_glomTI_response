{
 "cells": [
  {
   "cell_type": "code",
   "execution_count": 1,
   "id": "ordered-savings",
   "metadata": {},
   "outputs": [
    {
     "name": "stderr",
     "output_type": "stream",
     "text": [
      "Warning message:\n",
      "“\u001b[1m\u001b[22mThe `size` argument of `element_rect()` is deprecated as of ggplot2 3.4.0.\n",
      "\u001b[36mℹ\u001b[39m Please use the `linewidth` argument instead.”\n"
     ]
    }
   ],
   "source": [
    "setwd(\"~/ben_lustre/current_projects/kidney_glomTI_response\")\n",
    "suppressPackageStartupMessages(source(\"https://raw.githubusercontent.com/bjstewart1/helpful_singlecell/main/functions.R\"))\n",
    "ad <- import(\"anndata\")\n",
    "sc <- import(\"scanpy\")\n",
    "scv <- import(\"scvelo\")\n",
    "setwd(\"~/ben_lustre/current_projects/kidney_glomTI_response/code\")\n",
    "afh = import(\"anndata_from_h5\")\n",
    "setwd(\"~/ben_lustre/current_projects/kidney_glomTI_response\")\n",
    "clean_theme <- theme_bw() + theme(axis.text = element_text(color = \"black\"), axis.title = element_text(color = \"black\"))"
   ]
  },
  {
   "cell_type": "code",
   "execution_count": 2,
   "id": "fitted-response",
   "metadata": {
    "tags": []
   },
   "outputs": [
    {
     "data": {
      "text/plain": [
       "python:         /home/jovyan/my-conda-envs/myenv/bin/python\n",
       "libpython:      /home/jovyan/my-conda-envs/myenv/lib/libpython3.9.so\n",
       "pythonhome:     /home/jovyan/my-conda-envs/myenv:/home/jovyan/my-conda-envs/myenv\n",
       "version:        3.9.14 | packaged by conda-forge | (main, Nov 21 2022, 13:18:18)  [GCC 10.4.0]\n",
       "numpy:          /home/jovyan/my-conda-envs/myenv/lib/python3.9/site-packages/numpy\n",
       "numpy_version:  1.22.4\n",
       "\n",
       "NOTE: Python version was forced by RETICULATE_PYTHON"
      ]
     },
     "metadata": {},
     "output_type": "display_data"
    }
   ],
   "source": [
    "py_config()"
   ]
  },
  {
   "cell_type": "code",
   "execution_count": 3,
   "id": "mediterranean-discount",
   "metadata": {},
   "outputs": [],
   "source": [
    "#read in single cell data ####\n",
    "sortseq_dir <- \"/nfs/team297/bs16/seq_data/sortseq_data\"\n",
    "raw_mat = readRDS(file.path(sortseq_dir, \"raw/diagnostics/2022-09-26-CAM-BS.rds\"))\n",
    "features = rownames(raw_mat)"
   ]
  },
  {
   "cell_type": "code",
   "execution_count": null,
   "id": "colored-favor",
   "metadata": {},
   "outputs": [
    {
     "name": "stderr",
     "output_type": "stream",
     "text": [
      "CAM-BS-s005_HM7KCBGXM_S1_R2.BarcodeCounts.tsv\n",
      "\n",
      "CAM-BS-s005\n",
      "\n",
      "CAM-BS-s006_HM7KCBGXM_S2_R2.BarcodeCounts.tsv\n",
      "\n",
      "CAM-BS-s006\n",
      "\n",
      "CAM-BS-s007_HNWL5BGXM_S1_R2.BarcodeCounts.tsv\n",
      "\n",
      "CAM-BS-s007\n",
      "\n",
      "CAM-BS-s008_HNNH7BGXM_S1_R2.BarcodeCounts.tsv\n",
      "\n",
      "CAM-BS-s008\n",
      "\n",
      "CAM-BS-s009_HM7KCBGXM_S3_R2.BarcodeCounts.tsv\n",
      "\n",
      "CAM-BS-s009\n",
      "\n",
      "CAM-BS-s010_HNNH7BGXM_S2_R2.BarcodeCounts.tsv\n",
      "\n"
     ]
    }
   ],
   "source": [
    "bc_files = grep(\"BarcodeCounts\", list.files(file.path(sortseq_dir, \"raw/count_files\")), value = T)\n",
    "bc_mat = lapply(bc_files, function(x){\n",
    "message(x)\n",
    "mat_raw = read.csv(file.path(sortseq_dir, \"raw/count_files\", x), row.names = 1, sep = '\\t') \n",
    "mat_raw = as.matrix(mat_raw)\n",
    "colnames(mat_raw) = 1:384\n",
    "#make a matrix to fill\n",
    "mat = matrix(0, ncol = 384, nrow = length(features))\n",
    "colnames(mat) = 1:384\n",
    "rownames(mat) = features\n",
    "#fill the matrix\n",
    "mat[rownames(mat_raw), ] = mat_raw\n",
    "adata = ad$AnnData(X = as.matrix(t(mat)))\n",
    "    \n",
    "#this is the plate\n",
    "pl = strsplit(x, \"_\")[[1]][1]\n",
    "message(pl)\n",
    "#now sort out the plate coordinates\n",
    "plate_rows = LETTERS[1:16]\n",
    "plate_columns = 1:24\n",
    "plate = read.csv(file.path(\"./data/sort_data/plate_sorts\", paste0(pl, \".csv\")), header = FALSE)\n",
    "rownames(plate) = plate_rows\n",
    "colnames(plate) = plate_columns\n",
    "plate_list = list()\n",
    "p=1\n",
    "for(row in plate_rows){\n",
    "    for(col in plate_columns){\n",
    "        plate_list[[p]] = data.frame(\"well\" = paste0(row, col), \"sorted_cell\" = plate[row, col], \n",
    "                                    \"plate\" = pl)                          \n",
    "        p=p+1\n",
    "    }\n",
    "}\n",
    "plate_df = do.call(rbind, plate_list)\n",
    "adata$obs = cbind(adata$obs, plate_df)\n",
    "    \n",
    "#now sort out obs and var names  \n",
    "adata$obs_names = paste0(adata$obs$plate, \"_\", adata$obs$well)\n",
    "adata$var_names = adata$var$Symbol = adata$var$ID = unlist(lapply(strsplit(rownames(mat), \"_\"), function(x){x[[1]]}))\n",
    "adata$var_names_make_unique()\n",
    "    return(adata)\n",
    "})"
   ]
  },
  {
   "cell_type": "code",
   "execution_count": null,
   "id": "amended-acting",
   "metadata": {},
   "outputs": [],
   "source": [
    "adata = sc$concat(bc_mat)\n",
    "adata$var = bc_mat[[1]]$var"
   ]
  },
  {
   "cell_type": "code",
   "execution_count": null,
   "id": "minute-narrow",
   "metadata": {},
   "outputs": [],
   "source": [
    "adata$obs$IC_status = unlist(lapply(strsplit(adata$obs$sorted_cell, \":\"), function(x){x[[2]]}))\n",
    "adata$obs$kidney = substr(unlist(lapply(strsplit(adata$obs$sorted_cell, \":\"), function(x){x[[1]]})), 1, 4) \n",
    "compartment = rep(\"GLOM\", nrow(adata$obs))\n",
    "compartment[grep(\"TI\", unlist(lapply(strsplit(adata$obs$sorted_cell, \":\"), function(x){x[[1]]})))] = 'TI'\n",
    "adata$obs$compartment = compartment\n",
    "adata$obs$stimulation = \"IC\"\n",
    "adata$obs$stimulation[adata$obs$IC_status %in% 'live'] = 'control'"
   ]
  },
  {
   "cell_type": "code",
   "execution_count": null,
   "id": "binary-torture",
   "metadata": {},
   "outputs": [],
   "source": [
    "adata$layers = list(\"counts\" = adata$X)"
   ]
  },
  {
   "cell_type": "code",
   "execution_count": null,
   "id": "continent-throat",
   "metadata": {},
   "outputs": [],
   "source": [
    "adata$var$MT = 1:nrow(adata$var) %in% grep(\"^MT-\", adata$var$Symbol)\n",
    "adata$var$ERCC = 1:nrow(adata$var) %in% grep(\"ERCC\", adata$var$Symbol)\n",
    "adata$var$endogenous = !adata$var$ERCC\n",
    "sc$pp$calculate_qc_metrics(adata, qc_vars= list(\"MT\", \"ERCC\", \"endogenous\"), inplace = TRUE)"
   ]
  },
  {
   "cell_type": "code",
   "execution_count": null,
   "id": "alleged-audience",
   "metadata": {},
   "outputs": [],
   "source": [
    "ggplot(adata$obs, aes(x = pct_counts_endogenous)) + geom_histogram(bins = 100, fill = \"grey30\") + \n",
    " # geom_vline(xintercept = n_genes_cut, color = \"red\") + \n",
    "clean_theme + facet_wrap(~plate)"
   ]
  },
  {
   "cell_type": "code",
   "execution_count": null,
   "id": "selected-surface",
   "metadata": {},
   "outputs": [],
   "source": [
    "ggplot(adata$obs, aes(x = log1p_n_genes_by_counts)) + geom_histogram(bins = 100, fill = \"grey30\") + \n",
    " # geom_vline(xintercept = n_genes_cut, color = \"red\") + \n",
    "clean_theme + facet_wrap(~plate)"
   ]
  },
  {
   "cell_type": "code",
   "execution_count": null,
   "id": "anonymous-withdrawal",
   "metadata": {},
   "outputs": [],
   "source": [
    "density_plot_raster(x = adata$obs$log1p_n_genes_by_counts, y= adata$obs$log1p_total_counts_ERCC) + \n",
    "  clean_theme + xlab(\"log1p_n_genes_by_counts\") + \n",
    "  ylab(\"log1p_total_counts_ERCC\") + ggtitle(\"cells log total genes by log total ERCC counts\")"
   ]
  },
  {
   "cell_type": "code",
   "execution_count": null,
   "id": "north-criminal",
   "metadata": {},
   "outputs": [],
   "source": [
    "density_plot_raster(x = adata$obs$log1p_n_genes_by_counts, y= adata$obs$log1p_total_counts_MT) + \n",
    "  clean_theme + xlab(\"log1p_n_genes_by_counts\") + \n",
    "  ylab(\"log1p_total_counts_MT\") + ggtitle(\"cells log total genes by log total MT counts\")"
   ]
  },
  {
   "cell_type": "code",
   "execution_count": null,
   "id": "searching-bridges",
   "metadata": {},
   "outputs": [],
   "source": [
    "density_plot_raster(x = adata$obs$log1p_n_genes_by_counts, y= adata$obs$pct_counts_in_top_50_genes) + \n",
    "  clean_theme + xlab(\"log1p_n_genes_by_counts\") + \n",
    "  ylab(\"pct_counts_in_top_50_genes\") +\n",
    "  ylim(c(0, 100)) + ggtitle(\"cells log total genes by % counts top 50\")"
   ]
  },
  {
   "cell_type": "code",
   "execution_count": null,
   "id": "sensitive-roman",
   "metadata": {},
   "outputs": [],
   "source": [
    "density_plot_raster(x = adata$obs$log1p_n_genes_by_counts, y= adata$obs$log1p_total_counts) + \n",
    "  clean_theme + ylab(\"log1p_total_counts\") + \n",
    "  xlab(\"log1p_n_genes_by_counts\") + ggtitle(\"cells log total counts by log total genes\") + facet_wrap(~adata$obs$plate)"
   ]
  },
  {
   "cell_type": "code",
   "execution_count": null,
   "id": "baking-survival",
   "metadata": {},
   "outputs": [],
   "source": [
    "density_plot_raster(x = adata$obs$log1p_total_counts_endogenous, y= adata$obs$log1p_total_counts_ERCC) + \n",
    "  clean_theme + facet_wrap(~adata$obs$plate) + ylab(\"log1p_total_counts_endogenous\") + \n",
    "  xlab(\"log1p_total_counts_ERCC\") + ggtitle(\"cells log total counts ERCC by log total counts endogenous\") "
   ]
  },
  {
   "cell_type": "code",
   "execution_count": null,
   "id": "instructional-musical",
   "metadata": {},
   "outputs": [],
   "source": [
    "pct_counts_endogenous_cutoff = 25\n",
    "n_genes_by_counts_cutoff = 200"
   ]
  },
  {
   "cell_type": "code",
   "execution_count": null,
   "id": "irish-cannon",
   "metadata": {},
   "outputs": [],
   "source": [
    "density_plot_raster(x = adata$obs$log1p_n_genes_by_counts, y= adata$obs$pct_counts_endogenous) + \n",
    "  clean_theme + facet_wrap(~adata$obs$plate) + ylab(\"pct_counts_endogenous\") + \n",
    "  xlab(\"log1p_n_genes_by_counts\") + ggtitle(\"cells log1p n genes by counts vs pct counts endogenous\") + \n",
    "geom_vline(aes(xintercept = log1p(n_genes_by_counts_cutoff)), color = 'red') + geom_hline(aes(yintercept = pct_counts_endogenous_cutoff), color = 'red')"
   ]
  },
  {
   "cell_type": "code",
   "execution_count": null,
   "id": "damaged-bargain",
   "metadata": {},
   "outputs": [],
   "source": [
    "adata$obs$cells_keep = adata$obs$pct_counts_endogenous > pct_counts_endogenous_cutoff & adata$obs$n_genes_by_counts > n_genes_by_counts_cutoff"
   ]
  },
  {
   "cell_type": "code",
   "execution_count": null,
   "id": "photographic-penetration",
   "metadata": {},
   "outputs": [],
   "source": [
    "table(adata$obs$cells_keep)"
   ]
  },
  {
   "cell_type": "code",
   "execution_count": null,
   "id": "gothic-cargo",
   "metadata": {},
   "outputs": [],
   "source": [
    "ggplot(adata$obs, aes(x = log1p_total_counts_endogenous, y= log1p_total_counts_ERCC, \n",
    "                     color = cells_keep)) + geom_point(pch=19, size = 0.1) + \n",
    "scale_color_manual(values = c(\"TRUE\" = 'red', \"FALSE\" = 'grey50'))   +\n",
    "  clean_theme + facet_wrap(~adata$obs$plate) + ylab(\"log1p_total_counts_ERCC\") + \n",
    "  xlab(\"log1p_total_counts_endogenous\") + ggtitle(\"cells log total counts ERCC by log total counts endogenous\") "
   ]
  },
  {
   "cell_type": "code",
   "execution_count": null,
   "id": "expanded-singapore",
   "metadata": {},
   "outputs": [],
   "source": [
    "ggplot(adata$obs, aes(x = log1p_n_genes_by_counts, y= pct_counts_in_top_50_genes, \n",
    "                     color = cells_keep)) + geom_point(pch=19, size = 0.1) + \n",
    "scale_color_manual(values = c(\"TRUE\" = 'red', \"FALSE\" = 'grey50'))   +\n",
    "  clean_theme + facet_wrap(~adata$obs$plate)+ xlab(\"log1p_n_genes_by_counts\") + \n",
    "  ylab(\"pct_counts_in_top_50_genes\") +\n",
    "  ylim(c(0, 100)) + ggtitle(\"cells log total genes by % counts top 50\")"
   ]
  },
  {
   "cell_type": "code",
   "execution_count": null,
   "id": "floating-punch",
   "metadata": {},
   "outputs": [],
   "source": [
    "adata = adata[adata$obs$cells_keep]"
   ]
  },
  {
   "cell_type": "code",
   "execution_count": null,
   "id": "illegal-charm",
   "metadata": {},
   "outputs": [],
   "source": [
    "table(adata$obs$compartment, adata$obs$IC_status)"
   ]
  },
  {
   "cell_type": "code",
   "execution_count": null,
   "id": "damaged-looking",
   "metadata": {},
   "outputs": [],
   "source": [
    "library(scDblFinder)\n",
    "adata_dbl = adata$copy()\n",
    "#preprocess vanilla\n",
    "message(\"preprocessing and clustering\")\n",
    "sc$pp$normalize_per_cell(adata_dbl)\n",
    "sc$pp$log1p(adata_dbl)\n",
    "sc$pp$filter_genes(adata_dbl, min_cells = ceiling(0.02*adata_dbl$n_obs))\n",
    "sc$pp$highly_variable_genes(adata_dbl, flavor='seurat_v3', subset = FALSE, n_top_genes = as.integer(2000), layer = 'counts')\n",
    "sc$pp$pca(adata_dbl)\n",
    "sc$pp$neighbors(adata_dbl)\n",
    "#cluster \n",
    "sc$tl$leiden(adata_dbl, resolution = 1)\n",
    "#make sce\n",
    "#get count matrix\n",
    "cmat = as(as.matrix(t(adata_dbl$X)), \"dgCMatrix\") #unfortunately we have to do it this way..\n",
    "#then make an SCE\n",
    "sce = SingleCellExperiment::SingleCellExperiment(assays = list('counts' = cmat))\n",
    "colnames(sce) = adata_dbl$obs_names$values\n",
    "sce$clusters = adata_dbl$obs$leiden\n",
    "message(\"doublet analysis\")\n",
    "set.seed(100)\n",
    "sce <- scDblFinder(sce, \n",
    "                  clusters = 'clusters')\n",
    "doublet_df = data.frame(\"dblf_cluster\" = colData(sce)$scDblFinder.cluster,\n",
    "                \"dblf_cuts\" = colData(sce)$scDblFinder.class,\n",
    "                \"dblf_score\" = colData(sce)$scDblFinder.score,\n",
    "                \"dblf_weighted\" = colData(sce)$scDblFinder.weighted,\n",
    "                \"dblf_difficulty\" = colData(sce)$scDblFinder.difficulty,\n",
    "                \"dblf_cxds_score\" = colData(sce)$scDblFinder.cxds_score,\n",
    "                \"dblf_likely_origin\" = colData(sce)$scDblFinder.mostLikelyOrigin,\n",
    "                \"dblf_ambiguous_origin\" = colData(sce)$scDblFinder.originAmbiguous,\n",
    "                \"dblf_genotype_predicted\" = \"singlet\")"
   ]
  },
  {
   "cell_type": "code",
   "execution_count": null,
   "id": "fifth-kelly",
   "metadata": {},
   "outputs": [],
   "source": [
    "adata$obs = cbind(adata$obs, doublet_df)"
   ]
  },
  {
   "cell_type": "code",
   "execution_count": null,
   "id": "vocal-highland",
   "metadata": {},
   "outputs": [],
   "source": [
    "adata$write_h5ad(\"data/raw/sort_seq/sort_seq_raw.h5ad\")"
   ]
  },
  {
   "cell_type": "code",
   "execution_count": null,
   "id": "plastic-atlanta",
   "metadata": {},
   "outputs": [],
   "source": [
    "sessionInfo()"
   ]
  }
 ],
 "metadata": {
  "kernelspec": {
   "display_name": "R 4.2",
   "language": "R",
   "name": "ir42"
  },
  "language_info": {
   "codemirror_mode": "r",
   "file_extension": ".r",
   "mimetype": "text/x-r-source",
   "name": "R",
   "pygments_lexer": "r",
   "version": "4.2.2"
  }
 },
 "nbformat": 4,
 "nbformat_minor": 5
}
